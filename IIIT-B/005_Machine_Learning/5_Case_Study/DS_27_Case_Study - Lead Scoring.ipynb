{
 "cells": [
  {
   "cell_type": "markdown",
   "metadata": {},
   "source": [
    "## Lead Scoring Case Study\n",
    "### DS27 | Kishor Kunal | Sapna Mathur"
   ]
  },
  {
   "cell_type": "markdown",
   "metadata": {},
   "source": [
    "### Problem Statement\n",
    "\n",
    "An education company named X Education sells online courses to industry professionals.\n",
    "On any given day, many professionals who are interested in the courses land on their\n",
    "website and browse for courses.\n",
    "\n",
    "The company markets its courses on several websites and search engines like Google.\n",
    "Once these people land on the website, they might browse the courses or fill up a form\n",
    "for the course or watch some videos. When these people fill up a form providing their\n",
    "email address or phone number, they are classified to be a lead. Moreover, the company\n",
    "also gets leads through past referrals. Once these leads are acquired, employees from the\n",
    "sales team start making calls, writing emails, etc. Through this process, some of the leads\n",
    "get converted while most do not. The typical lead conversion rate at X education is\n",
    "around 30%.\n",
    "\n",
    "\n",
    "Now, although X Education gets a lot of leads, its lead conversion rate is very poor. \n",
    "This case study is to help X Education with selecting the most promising leads, i.e. the\n",
    "leads that are most likely to convert into paying customers. The company requires you to\n",
    "build a model wherein you need to assign a lead score to each of the leads such that the\n",
    "customers with higher lead score have a higher conversion chance and the customers\n",
    "with lower lead score have a lower conversion chance. The CEO, in particular, has given a\n",
    "ballpark of the target lead conversion rate to be around 80%.\n",
    "\n",
    "\n",
    "\n",
    "### Goal\n",
    "\n",
    "\n",
    "1. Build a logistic regression model to assign a lead score between 0 and 100 to each of the leads which can be used by the company to target potential leads. A higher score would mean that the lead is hot, i.e. is most likely to convert whereas a lower score would mean that the lead is cold and will mostly not get converted.\n",
    "\n",
    "2. There are some more problems presented by the company which your model should be able to adjust to if the company's requirement changes in the future so you will need to handle these as well. These problems are provided in a separate doc file. Please fill it based on the logistic regression model you got in the first step. Also, make sure you include this in your final PPT where you'll make recommendations.\n"
   ]
  },
  {
   "cell_type": "code",
   "execution_count": 1,
   "metadata": {},
   "outputs": [],
   "source": [
    "import pandas as pd\n",
    "import numpy as np\n",
    "import seaborn as sns\n",
    "import matplotlib.pyplot as plt\n",
    "from matplotlib.pyplot import xticks\n",
    "%matplotlib inline\n",
    "\n",
    "import warnings\n",
    "warnings.filterwarnings('ignore')\n",
    "\n",
    "import statsmodels\n",
    "import statsmodels.api as sm\n",
    "import sklearn\n",
    "from sklearn.model_selection import train_test_split\n",
    "from sklearn.metrics import confusion_matrix\n",
    "from sklearn.model_selection import train_test_split\n",
    "from sklearn.preprocessing import StandardScaler\n",
    "from sklearn.feature_selection import RFE\n",
    "from sklearn.linear_model import LogisticRegression\n",
    "from statsmodels.stats.outliers_influence import variance_inflation_factor\n",
    "from sklearn import metrics"
   ]
  },
  {
   "cell_type": "markdown",
   "metadata": {},
   "source": [
    "#### Data understanding, preparation and EDA"
   ]
  },
  {
   "cell_type": "code",
   "execution_count": 2,
   "metadata": {},
   "outputs": [
    {
     "data": {
      "text/html": [
       "<div>\n",
       "<style scoped>\n",
       "    .dataframe tbody tr th:only-of-type {\n",
       "        vertical-align: middle;\n",
       "    }\n",
       "\n",
       "    .dataframe tbody tr th {\n",
       "        vertical-align: top;\n",
       "    }\n",
       "\n",
       "    .dataframe thead th {\n",
       "        text-align: right;\n",
       "    }\n",
       "</style>\n",
       "<table border=\"1\" class=\"dataframe\">\n",
       "  <thead>\n",
       "    <tr style=\"text-align: right;\">\n",
       "      <th></th>\n",
       "      <th>Prospect ID</th>\n",
       "      <th>Lead Number</th>\n",
       "      <th>Lead Origin</th>\n",
       "      <th>Lead Source</th>\n",
       "      <th>Do Not Email</th>\n",
       "      <th>Do Not Call</th>\n",
       "      <th>Converted</th>\n",
       "      <th>TotalVisits</th>\n",
       "      <th>Total Time Spent on Website</th>\n",
       "      <th>Page Views Per Visit</th>\n",
       "      <th>...</th>\n",
       "      <th>Get updates on DM Content</th>\n",
       "      <th>Lead Profile</th>\n",
       "      <th>City</th>\n",
       "      <th>Asymmetrique Activity Index</th>\n",
       "      <th>Asymmetrique Profile Index</th>\n",
       "      <th>Asymmetrique Activity Score</th>\n",
       "      <th>Asymmetrique Profile Score</th>\n",
       "      <th>I agree to pay the amount through cheque</th>\n",
       "      <th>A free copy of Mastering The Interview</th>\n",
       "      <th>Last Notable Activity</th>\n",
       "    </tr>\n",
       "  </thead>\n",
       "  <tbody>\n",
       "    <tr>\n",
       "      <th>0</th>\n",
       "      <td>7927b2df-8bba-4d29-b9a2-b6e0beafe620</td>\n",
       "      <td>660737</td>\n",
       "      <td>API</td>\n",
       "      <td>Olark Chat</td>\n",
       "      <td>No</td>\n",
       "      <td>No</td>\n",
       "      <td>0</td>\n",
       "      <td>0.0</td>\n",
       "      <td>0</td>\n",
       "      <td>0.0</td>\n",
       "      <td>...</td>\n",
       "      <td>No</td>\n",
       "      <td>Select</td>\n",
       "      <td>Select</td>\n",
       "      <td>02.Medium</td>\n",
       "      <td>02.Medium</td>\n",
       "      <td>15.0</td>\n",
       "      <td>15.0</td>\n",
       "      <td>No</td>\n",
       "      <td>No</td>\n",
       "      <td>Modified</td>\n",
       "    </tr>\n",
       "    <tr>\n",
       "      <th>1</th>\n",
       "      <td>2a272436-5132-4136-86fa-dcc88c88f482</td>\n",
       "      <td>660728</td>\n",
       "      <td>API</td>\n",
       "      <td>Organic Search</td>\n",
       "      <td>No</td>\n",
       "      <td>No</td>\n",
       "      <td>0</td>\n",
       "      <td>5.0</td>\n",
       "      <td>674</td>\n",
       "      <td>2.5</td>\n",
       "      <td>...</td>\n",
       "      <td>No</td>\n",
       "      <td>Select</td>\n",
       "      <td>Select</td>\n",
       "      <td>02.Medium</td>\n",
       "      <td>02.Medium</td>\n",
       "      <td>15.0</td>\n",
       "      <td>15.0</td>\n",
       "      <td>No</td>\n",
       "      <td>No</td>\n",
       "      <td>Email Opened</td>\n",
       "    </tr>\n",
       "    <tr>\n",
       "      <th>2</th>\n",
       "      <td>8cc8c611-a219-4f35-ad23-fdfd2656bd8a</td>\n",
       "      <td>660727</td>\n",
       "      <td>Landing Page Submission</td>\n",
       "      <td>Direct Traffic</td>\n",
       "      <td>No</td>\n",
       "      <td>No</td>\n",
       "      <td>1</td>\n",
       "      <td>2.0</td>\n",
       "      <td>1532</td>\n",
       "      <td>2.0</td>\n",
       "      <td>...</td>\n",
       "      <td>No</td>\n",
       "      <td>Potential Lead</td>\n",
       "      <td>Mumbai</td>\n",
       "      <td>02.Medium</td>\n",
       "      <td>01.High</td>\n",
       "      <td>14.0</td>\n",
       "      <td>20.0</td>\n",
       "      <td>No</td>\n",
       "      <td>Yes</td>\n",
       "      <td>Email Opened</td>\n",
       "    </tr>\n",
       "    <tr>\n",
       "      <th>3</th>\n",
       "      <td>0cc2df48-7cf4-4e39-9de9-19797f9b38cc</td>\n",
       "      <td>660719</td>\n",
       "      <td>Landing Page Submission</td>\n",
       "      <td>Direct Traffic</td>\n",
       "      <td>No</td>\n",
       "      <td>No</td>\n",
       "      <td>0</td>\n",
       "      <td>1.0</td>\n",
       "      <td>305</td>\n",
       "      <td>1.0</td>\n",
       "      <td>...</td>\n",
       "      <td>No</td>\n",
       "      <td>Select</td>\n",
       "      <td>Mumbai</td>\n",
       "      <td>02.Medium</td>\n",
       "      <td>01.High</td>\n",
       "      <td>13.0</td>\n",
       "      <td>17.0</td>\n",
       "      <td>No</td>\n",
       "      <td>No</td>\n",
       "      <td>Modified</td>\n",
       "    </tr>\n",
       "    <tr>\n",
       "      <th>4</th>\n",
       "      <td>3256f628-e534-4826-9d63-4a8b88782852</td>\n",
       "      <td>660681</td>\n",
       "      <td>Landing Page Submission</td>\n",
       "      <td>Google</td>\n",
       "      <td>No</td>\n",
       "      <td>No</td>\n",
       "      <td>1</td>\n",
       "      <td>2.0</td>\n",
       "      <td>1428</td>\n",
       "      <td>1.0</td>\n",
       "      <td>...</td>\n",
       "      <td>No</td>\n",
       "      <td>Select</td>\n",
       "      <td>Mumbai</td>\n",
       "      <td>02.Medium</td>\n",
       "      <td>01.High</td>\n",
       "      <td>15.0</td>\n",
       "      <td>18.0</td>\n",
       "      <td>No</td>\n",
       "      <td>No</td>\n",
       "      <td>Modified</td>\n",
       "    </tr>\n",
       "  </tbody>\n",
       "</table>\n",
       "<p>5 rows × 37 columns</p>\n",
       "</div>"
      ],
      "text/plain": [
       "                            Prospect ID  Lead Number              Lead Origin  \\\n",
       "0  7927b2df-8bba-4d29-b9a2-b6e0beafe620       660737                      API   \n",
       "1  2a272436-5132-4136-86fa-dcc88c88f482       660728                      API   \n",
       "2  8cc8c611-a219-4f35-ad23-fdfd2656bd8a       660727  Landing Page Submission   \n",
       "3  0cc2df48-7cf4-4e39-9de9-19797f9b38cc       660719  Landing Page Submission   \n",
       "4  3256f628-e534-4826-9d63-4a8b88782852       660681  Landing Page Submission   \n",
       "\n",
       "      Lead Source Do Not Email Do Not Call  Converted  TotalVisits  \\\n",
       "0      Olark Chat           No          No          0          0.0   \n",
       "1  Organic Search           No          No          0          5.0   \n",
       "2  Direct Traffic           No          No          1          2.0   \n",
       "3  Direct Traffic           No          No          0          1.0   \n",
       "4          Google           No          No          1          2.0   \n",
       "\n",
       "   Total Time Spent on Website  Page Views Per Visit  ...  \\\n",
       "0                            0                   0.0  ...   \n",
       "1                          674                   2.5  ...   \n",
       "2                         1532                   2.0  ...   \n",
       "3                          305                   1.0  ...   \n",
       "4                         1428                   1.0  ...   \n",
       "\n",
       "  Get updates on DM Content    Lead Profile    City  \\\n",
       "0                        No          Select  Select   \n",
       "1                        No          Select  Select   \n",
       "2                        No  Potential Lead  Mumbai   \n",
       "3                        No          Select  Mumbai   \n",
       "4                        No          Select  Mumbai   \n",
       "\n",
       "  Asymmetrique Activity Index Asymmetrique Profile Index  \\\n",
       "0                   02.Medium                  02.Medium   \n",
       "1                   02.Medium                  02.Medium   \n",
       "2                   02.Medium                    01.High   \n",
       "3                   02.Medium                    01.High   \n",
       "4                   02.Medium                    01.High   \n",
       "\n",
       "  Asymmetrique Activity Score Asymmetrique Profile Score  \\\n",
       "0                        15.0                       15.0   \n",
       "1                        15.0                       15.0   \n",
       "2                        14.0                       20.0   \n",
       "3                        13.0                       17.0   \n",
       "4                        15.0                       18.0   \n",
       "\n",
       "  I agree to pay the amount through cheque  \\\n",
       "0                                       No   \n",
       "1                                       No   \n",
       "2                                       No   \n",
       "3                                       No   \n",
       "4                                       No   \n",
       "\n",
       "  A free copy of Mastering The Interview Last Notable Activity  \n",
       "0                                     No              Modified  \n",
       "1                                     No          Email Opened  \n",
       "2                                    Yes          Email Opened  \n",
       "3                                     No              Modified  \n",
       "4                                     No              Modified  \n",
       "\n",
       "[5 rows x 37 columns]"
      ]
     },
     "execution_count": 2,
     "metadata": {},
     "output_type": "execute_result"
    }
   ],
   "source": [
    "## data preparation\n",
    "\n",
    "df_leads = pd.read_csv('Leads.csv')\n",
    "df_leads.head()"
   ]
  },
  {
   "cell_type": "code",
   "execution_count": 3,
   "metadata": {
    "scrolled": false
   },
   "outputs": [
    {
     "name": "stdout",
     "output_type": "stream",
     "text": [
      "<class 'pandas.core.frame.DataFrame'>\n",
      "RangeIndex: 9240 entries, 0 to 9239\n",
      "Data columns (total 37 columns):\n",
      " #   Column                                         Non-Null Count  Dtype  \n",
      "---  ------                                         --------------  -----  \n",
      " 0   Prospect ID                                    9240 non-null   object \n",
      " 1   Lead Number                                    9240 non-null   int64  \n",
      " 2   Lead Origin                                    9240 non-null   object \n",
      " 3   Lead Source                                    9204 non-null   object \n",
      " 4   Do Not Email                                   9240 non-null   object \n",
      " 5   Do Not Call                                    9240 non-null   object \n",
      " 6   Converted                                      9240 non-null   int64  \n",
      " 7   TotalVisits                                    9103 non-null   float64\n",
      " 8   Total Time Spent on Website                    9240 non-null   int64  \n",
      " 9   Page Views Per Visit                           9103 non-null   float64\n",
      " 10  Last Activity                                  9137 non-null   object \n",
      " 11  Country                                        6779 non-null   object \n",
      " 12  Specialization                                 7802 non-null   object \n",
      " 13  How did you hear about X Education             7033 non-null   object \n",
      " 14  What is your current occupation                6550 non-null   object \n",
      " 15  What matters most to you in choosing a course  6531 non-null   object \n",
      " 16  Search                                         9240 non-null   object \n",
      " 17  Magazine                                       9240 non-null   object \n",
      " 18  Newspaper Article                              9240 non-null   object \n",
      " 19  X Education Forums                             9240 non-null   object \n",
      " 20  Newspaper                                      9240 non-null   object \n",
      " 21  Digital Advertisement                          9240 non-null   object \n",
      " 22  Through Recommendations                        9240 non-null   object \n",
      " 23  Receive More Updates About Our Courses         9240 non-null   object \n",
      " 24  Tags                                           5887 non-null   object \n",
      " 25  Lead Quality                                   4473 non-null   object \n",
      " 26  Update me on Supply Chain Content              9240 non-null   object \n",
      " 27  Get updates on DM Content                      9240 non-null   object \n",
      " 28  Lead Profile                                   6531 non-null   object \n",
      " 29  City                                           7820 non-null   object \n",
      " 30  Asymmetrique Activity Index                    5022 non-null   object \n",
      " 31  Asymmetrique Profile Index                     5022 non-null   object \n",
      " 32  Asymmetrique Activity Score                    5022 non-null   float64\n",
      " 33  Asymmetrique Profile Score                     5022 non-null   float64\n",
      " 34  I agree to pay the amount through cheque       9240 non-null   object \n",
      " 35  A free copy of Mastering The Interview         9240 non-null   object \n",
      " 36  Last Notable Activity                          9240 non-null   object \n",
      "dtypes: float64(4), int64(3), object(30)\n",
      "memory usage: 2.6+ MB\n"
     ]
    }
   ],
   "source": [
    "df_leads.info()"
   ]
  },
  {
   "cell_type": "code",
   "execution_count": 4,
   "metadata": {},
   "outputs": [
    {
     "data": {
      "text/html": [
       "<div>\n",
       "<style scoped>\n",
       "    .dataframe tbody tr th:only-of-type {\n",
       "        vertical-align: middle;\n",
       "    }\n",
       "\n",
       "    .dataframe tbody tr th {\n",
       "        vertical-align: top;\n",
       "    }\n",
       "\n",
       "    .dataframe thead th {\n",
       "        text-align: right;\n",
       "    }\n",
       "</style>\n",
       "<table border=\"1\" class=\"dataframe\">\n",
       "  <thead>\n",
       "    <tr style=\"text-align: right;\">\n",
       "      <th></th>\n",
       "      <th>Lead Number</th>\n",
       "      <th>Converted</th>\n",
       "      <th>TotalVisits</th>\n",
       "      <th>Total Time Spent on Website</th>\n",
       "      <th>Page Views Per Visit</th>\n",
       "      <th>Asymmetrique Activity Score</th>\n",
       "      <th>Asymmetrique Profile Score</th>\n",
       "    </tr>\n",
       "  </thead>\n",
       "  <tbody>\n",
       "    <tr>\n",
       "      <th>count</th>\n",
       "      <td>9240.000000</td>\n",
       "      <td>9240.000000</td>\n",
       "      <td>9103.000000</td>\n",
       "      <td>9240.000000</td>\n",
       "      <td>9103.000000</td>\n",
       "      <td>5022.000000</td>\n",
       "      <td>5022.000000</td>\n",
       "    </tr>\n",
       "    <tr>\n",
       "      <th>mean</th>\n",
       "      <td>617188.435606</td>\n",
       "      <td>0.385390</td>\n",
       "      <td>3.445238</td>\n",
       "      <td>487.698268</td>\n",
       "      <td>2.362820</td>\n",
       "      <td>14.306252</td>\n",
       "      <td>16.344883</td>\n",
       "    </tr>\n",
       "    <tr>\n",
       "      <th>std</th>\n",
       "      <td>23405.995698</td>\n",
       "      <td>0.486714</td>\n",
       "      <td>4.854853</td>\n",
       "      <td>548.021466</td>\n",
       "      <td>2.161418</td>\n",
       "      <td>1.386694</td>\n",
       "      <td>1.811395</td>\n",
       "    </tr>\n",
       "    <tr>\n",
       "      <th>min</th>\n",
       "      <td>579533.000000</td>\n",
       "      <td>0.000000</td>\n",
       "      <td>0.000000</td>\n",
       "      <td>0.000000</td>\n",
       "      <td>0.000000</td>\n",
       "      <td>7.000000</td>\n",
       "      <td>11.000000</td>\n",
       "    </tr>\n",
       "    <tr>\n",
       "      <th>25%</th>\n",
       "      <td>596484.500000</td>\n",
       "      <td>0.000000</td>\n",
       "      <td>1.000000</td>\n",
       "      <td>12.000000</td>\n",
       "      <td>1.000000</td>\n",
       "      <td>14.000000</td>\n",
       "      <td>15.000000</td>\n",
       "    </tr>\n",
       "    <tr>\n",
       "      <th>50%</th>\n",
       "      <td>615479.000000</td>\n",
       "      <td>0.000000</td>\n",
       "      <td>3.000000</td>\n",
       "      <td>248.000000</td>\n",
       "      <td>2.000000</td>\n",
       "      <td>14.000000</td>\n",
       "      <td>16.000000</td>\n",
       "    </tr>\n",
       "    <tr>\n",
       "      <th>75%</th>\n",
       "      <td>637387.250000</td>\n",
       "      <td>1.000000</td>\n",
       "      <td>5.000000</td>\n",
       "      <td>936.000000</td>\n",
       "      <td>3.000000</td>\n",
       "      <td>15.000000</td>\n",
       "      <td>18.000000</td>\n",
       "    </tr>\n",
       "    <tr>\n",
       "      <th>max</th>\n",
       "      <td>660737.000000</td>\n",
       "      <td>1.000000</td>\n",
       "      <td>251.000000</td>\n",
       "      <td>2272.000000</td>\n",
       "      <td>55.000000</td>\n",
       "      <td>18.000000</td>\n",
       "      <td>20.000000</td>\n",
       "    </tr>\n",
       "  </tbody>\n",
       "</table>\n",
       "</div>"
      ],
      "text/plain": [
       "         Lead Number    Converted  TotalVisits  Total Time Spent on Website  \\\n",
       "count    9240.000000  9240.000000  9103.000000                  9240.000000   \n",
       "mean   617188.435606     0.385390     3.445238                   487.698268   \n",
       "std     23405.995698     0.486714     4.854853                   548.021466   \n",
       "min    579533.000000     0.000000     0.000000                     0.000000   \n",
       "25%    596484.500000     0.000000     1.000000                    12.000000   \n",
       "50%    615479.000000     0.000000     3.000000                   248.000000   \n",
       "75%    637387.250000     1.000000     5.000000                   936.000000   \n",
       "max    660737.000000     1.000000   251.000000                  2272.000000   \n",
       "\n",
       "       Page Views Per Visit  Asymmetrique Activity Score  \\\n",
       "count           9103.000000                  5022.000000   \n",
       "mean               2.362820                    14.306252   \n",
       "std                2.161418                     1.386694   \n",
       "min                0.000000                     7.000000   \n",
       "25%                1.000000                    14.000000   \n",
       "50%                2.000000                    14.000000   \n",
       "75%                3.000000                    15.000000   \n",
       "max               55.000000                    18.000000   \n",
       "\n",
       "       Asymmetrique Profile Score  \n",
       "count                 5022.000000  \n",
       "mean                    16.344883  \n",
       "std                      1.811395  \n",
       "min                     11.000000  \n",
       "25%                     15.000000  \n",
       "50%                     16.000000  \n",
       "75%                     18.000000  \n",
       "max                     20.000000  "
      ]
     },
     "execution_count": 4,
     "metadata": {},
     "output_type": "execute_result"
    }
   ],
   "source": [
    "df_leads.describe()"
   ]
  },
  {
   "cell_type": "code",
   "execution_count": 5,
   "metadata": {},
   "outputs": [
    {
     "data": {
      "text/plain": [
       "Prospect ID                                         0\n",
       "Lead Number                                         0\n",
       "Lead Origin                                         0\n",
       "Lead Source                                        36\n",
       "Do Not Email                                        0\n",
       "Do Not Call                                         0\n",
       "Converted                                           0\n",
       "TotalVisits                                       137\n",
       "Total Time Spent on Website                         0\n",
       "Page Views Per Visit                              137\n",
       "Last Activity                                     103\n",
       "Country                                          2461\n",
       "Specialization                                   1438\n",
       "How did you hear about X Education               2207\n",
       "What is your current occupation                  2690\n",
       "What matters most to you in choosing a course    2709\n",
       "Search                                              0\n",
       "Magazine                                            0\n",
       "Newspaper Article                                   0\n",
       "X Education Forums                                  0\n",
       "Newspaper                                           0\n",
       "Digital Advertisement                               0\n",
       "Through Recommendations                             0\n",
       "Receive More Updates About Our Courses              0\n",
       "Tags                                             3353\n",
       "Lead Quality                                     4767\n",
       "Update me on Supply Chain Content                   0\n",
       "Get updates on DM Content                           0\n",
       "Lead Profile                                     2709\n",
       "City                                             1420\n",
       "Asymmetrique Activity Index                      4218\n",
       "Asymmetrique Profile Index                       4218\n",
       "Asymmetrique Activity Score                      4218\n",
       "Asymmetrique Profile Score                       4218\n",
       "I agree to pay the amount through cheque            0\n",
       "A free copy of Mastering The Interview              0\n",
       "Last Notable Activity                               0\n",
       "dtype: int64"
      ]
     },
     "execution_count": 5,
     "metadata": {},
     "output_type": "execute_result"
    }
   ],
   "source": [
    "df_leads.isna().sum() ## checking null"
   ]
  },
  {
   "cell_type": "code",
   "execution_count": 6,
   "metadata": {
    "scrolled": false
   },
   "outputs": [
    {
     "data": {
      "text/plain": [
       "Prospect ID                                       0.000000\n",
       "Lead Number                                       0.000000\n",
       "Lead Origin                                       0.000000\n",
       "Lead Source                                       0.389610\n",
       "Do Not Email                                      0.000000\n",
       "Do Not Call                                       0.000000\n",
       "Converted                                         0.000000\n",
       "TotalVisits                                       1.482684\n",
       "Total Time Spent on Website                       0.000000\n",
       "Page Views Per Visit                              1.482684\n",
       "Last Activity                                     1.114719\n",
       "Country                                          26.634199\n",
       "Specialization                                   15.562771\n",
       "How did you hear about X Education               23.885281\n",
       "What is your current occupation                  29.112554\n",
       "What matters most to you in choosing a course    29.318182\n",
       "Search                                            0.000000\n",
       "Magazine                                          0.000000\n",
       "Newspaper Article                                 0.000000\n",
       "X Education Forums                                0.000000\n",
       "Newspaper                                         0.000000\n",
       "Digital Advertisement                             0.000000\n",
       "Through Recommendations                           0.000000\n",
       "Receive More Updates About Our Courses            0.000000\n",
       "Tags                                             36.287879\n",
       "Lead Quality                                     51.590909\n",
       "Update me on Supply Chain Content                 0.000000\n",
       "Get updates on DM Content                         0.000000\n",
       "Lead Profile                                     29.318182\n",
       "City                                             15.367965\n",
       "Asymmetrique Activity Index                      45.649351\n",
       "Asymmetrique Profile Index                       45.649351\n",
       "Asymmetrique Activity Score                      45.649351\n",
       "Asymmetrique Profile Score                       45.649351\n",
       "I agree to pay the amount through cheque          0.000000\n",
       "A free copy of Mastering The Interview            0.000000\n",
       "Last Notable Activity                             0.000000\n",
       "dtype: float64"
      ]
     },
     "execution_count": 6,
     "metadata": {},
     "output_type": "execute_result"
    }
   ],
   "source": [
    "(df_leads.isna().sum()/len(df_leads))*100 ## checking null percentage"
   ]
  },
  {
   "cell_type": "code",
   "execution_count": 7,
   "metadata": {},
   "outputs": [
    {
     "data": {
      "text/plain": [
       "Select                               1942\n",
       "Finance Management                    976\n",
       "Human Resource Management             848\n",
       "Marketing Management                  838\n",
       "Operations Management                 503\n",
       "Business Administration               403\n",
       "IT Projects Management                366\n",
       "Supply Chain Management               349\n",
       "Banking, Investment And Insurance     338\n",
       "Media and Advertising                 203\n",
       "Travel and Tourism                    203\n",
       "International Business                178\n",
       "Healthcare Management                 159\n",
       "Hospitality Management                114\n",
       "E-COMMERCE                            112\n",
       "Retail Management                     100\n",
       "Rural and Agribusiness                 73\n",
       "E-Business                             57\n",
       "Services Excellence                    40\n",
       "Name: Specialization, dtype: int64"
      ]
     },
     "execution_count": 7,
     "metadata": {},
     "output_type": "execute_result"
    }
   ],
   "source": [
    "df_leads.Specialization.value_counts()"
   ]
  },
  {
   "cell_type": "code",
   "execution_count": 8,
   "metadata": {},
   "outputs": [],
   "source": [
    "## filling in missing values with releavnt data\n",
    "df_leads['What matters most to you in choosing a course'].fillna('Better Career Prospects',inplace=True) # filling null with Better Career Prospects\n",
    "df_leads['Lead Source'].fillna('Google',inplace=True) # filling null with Better Google\n",
    "df_leads['TotalVisits'].fillna(0,inplace=True) # filling null with Better 0\n",
    "df_leads['Page Views Per Visit'].fillna(0,inplace=True) # filling null with Better 0\n",
    "df_leads['Last Activity'].fillna('Email Opened',inplace=True) # filling null with Better 0\n",
    "df_leads['What is your current occupation'].fillna('Unemployed',inplace=True) # filling null with Better 0\n",
    "df_leads['Lead Quality'].fillna('Not Sure',inplace=True) # filling null with Not Sure\n",
    "df_leads['Tags'].fillna('Will revert after reading the email',inplace=True) # filling null with Will revert after reading the email\n",
    "df_leads['Country'].fillna('India',inplace=True) # filling null with India\n",
    "df_leads['Specialization'].replace('Select','Others', inplace=True)"
   ]
  },
  {
   "cell_type": "code",
   "execution_count": 9,
   "metadata": {},
   "outputs": [],
   "source": [
    "# replacing defaults with NA\n",
    "df_leads['Lead Profile'] = df_leads['Lead Profile'].replace('Select',np.nan) # replacing Select with NaN\n",
    "df_leads['City'].replace('Select',np.nan, inplace=True)\n",
    "df_leads['How did you hear about X Education'].replace('Select',np.nan, inplace=True)"
   ]
  },
  {
   "cell_type": "code",
   "execution_count": 10,
   "metadata": {
    "scrolled": false
   },
   "outputs": [
    {
     "data": {
      "text/plain": [
       "Prospect ID                                       0.000000\n",
       "Lead Number                                       0.000000\n",
       "Lead Origin                                       0.000000\n",
       "Lead Source                                       0.000000\n",
       "Do Not Email                                      0.000000\n",
       "Do Not Call                                       0.000000\n",
       "Converted                                         0.000000\n",
       "TotalVisits                                       0.000000\n",
       "Total Time Spent on Website                       0.000000\n",
       "Page Views Per Visit                              0.000000\n",
       "Last Activity                                     0.000000\n",
       "Country                                           0.000000\n",
       "Specialization                                   15.562771\n",
       "How did you hear about X Education               78.463203\n",
       "What is your current occupation                   0.000000\n",
       "What matters most to you in choosing a course     0.000000\n",
       "Search                                            0.000000\n",
       "Magazine                                          0.000000\n",
       "Newspaper Article                                 0.000000\n",
       "X Education Forums                                0.000000\n",
       "Newspaper                                         0.000000\n",
       "Digital Advertisement                             0.000000\n",
       "Through Recommendations                           0.000000\n",
       "Receive More Updates About Our Courses            0.000000\n",
       "Tags                                              0.000000\n",
       "Lead Quality                                      0.000000\n",
       "Update me on Supply Chain Content                 0.000000\n",
       "Get updates on DM Content                         0.000000\n",
       "Lead Profile                                     74.188312\n",
       "City                                             39.707792\n",
       "Asymmetrique Activity Index                      45.649351\n",
       "Asymmetrique Profile Index                       45.649351\n",
       "Asymmetrique Activity Score                      45.649351\n",
       "Asymmetrique Profile Score                       45.649351\n",
       "I agree to pay the amount through cheque          0.000000\n",
       "A free copy of Mastering The Interview            0.000000\n",
       "Last Notable Activity                             0.000000\n",
       "dtype: float64"
      ]
     },
     "execution_count": 10,
     "metadata": {},
     "output_type": "execute_result"
    }
   ],
   "source": [
    "((df_leads.isna().sum()/len(df_leads))*100) ## checking columns more than 70% null percente"
   ]
  },
  {
   "cell_type": "code",
   "execution_count": 11,
   "metadata": {
    "scrolled": true
   },
   "outputs": [],
   "source": [
    "## dropping columns with >30%\n",
    "df_leads = df_leads.drop(['Prospect ID', 'How did you hear about X Education',\n",
    "             'Lead Profile', 'City', 'Asymmetrique Activity Index', 'Asymmetrique Profile Index', \n",
    "             'Asymmetrique Activity Score', 'Asymmetrique Profile Score'],axis=1) # also dropping Prospect ID as we don't require this column\n"
   ]
  },
  {
   "cell_type": "code",
   "execution_count": 12,
   "metadata": {
    "scrolled": false
   },
   "outputs": [
    {
     "data": {
      "text/plain": [
       "Lead Number                                       0.000000\n",
       "Lead Origin                                       0.000000\n",
       "Lead Source                                       0.000000\n",
       "Do Not Email                                      0.000000\n",
       "Do Not Call                                       0.000000\n",
       "Converted                                         0.000000\n",
       "TotalVisits                                       0.000000\n",
       "Total Time Spent on Website                       0.000000\n",
       "Page Views Per Visit                              0.000000\n",
       "Last Activity                                     0.000000\n",
       "Country                                           0.000000\n",
       "Specialization                                   15.562771\n",
       "What is your current occupation                   0.000000\n",
       "What matters most to you in choosing a course     0.000000\n",
       "Search                                            0.000000\n",
       "Magazine                                          0.000000\n",
       "Newspaper Article                                 0.000000\n",
       "X Education Forums                                0.000000\n",
       "Newspaper                                         0.000000\n",
       "Digital Advertisement                             0.000000\n",
       "Through Recommendations                           0.000000\n",
       "Receive More Updates About Our Courses            0.000000\n",
       "Tags                                              0.000000\n",
       "Lead Quality                                      0.000000\n",
       "Update me on Supply Chain Content                 0.000000\n",
       "Get updates on DM Content                         0.000000\n",
       "I agree to pay the amount through cheque          0.000000\n",
       "A free copy of Mastering The Interview            0.000000\n",
       "Last Notable Activity                             0.000000\n",
       "dtype: float64"
      ]
     },
     "execution_count": 12,
     "metadata": {},
     "output_type": "execute_result"
    }
   ],
   "source": [
    "((df_leads.isna().sum()/len(df_leads))*100)"
   ]
  },
  {
   "cell_type": "markdown",
   "metadata": {},
   "source": [
    "#####  Lead Origin Vs Converted"
   ]
  },
  {
   "cell_type": "code",
   "execution_count": 13,
   "metadata": {
    "scrolled": false
   },
   "outputs": [
    {
     "data": {
      "image/png": "[encoded data removed]",
      "text/plain": [
       "<Figure size 864x432 with 1 Axes>"
      ]
     },
     "metadata": {
      "needs_background": "light"
     },
     "output_type": "display_data"
    }
   ],
   "source": [
    "plt.figure(figsize=(12,6))\n",
    "sns.countplot(data = df_leads ,x = \"Lead Origin\", hue = \"Converted\" )\n",
    "\n",
    "plt.title('Lead Origin Vs Converted\\n',fontdict={'fontsize': 20, 'fontweight' : 5, 'color' : 'green'})\n",
    "plt.xlabel('\\nLead Origin', fontdict={'fontsize': 15, 'fontweight' : 15, 'color' : 'Green'})\n",
    "plt.ylabel('Count\\n', fontdict={'fontsize': 15, 'fontweight' : 15, 'color' : 'Green'})\n",
    "\n",
    "plt.show()"
   ]
  },
  {
   "cell_type": "markdown",
   "metadata": {},
   "source": [
    "#### :::: Landing Page Submission has the most conversion rate"
   ]
  },
  {
   "cell_type": "markdown",
   "metadata": {},
   "source": [
    "#####  Lead Source Vs Converted"
   ]
  },
  {
   "cell_type": "code",
   "execution_count": 14,
   "metadata": {},
   "outputs": [
    {
     "data": {
      "image/png": "[encoded data removed]",
      "text/plain": [
       "<Figure size 1080x432 with 1 Axes>"
      ]
     },
     "metadata": {
      "needs_background": "light"
     },
     "output_type": "display_data"
    }
   ],
   "source": [
    "plt.figure(figsize=(15,6))\n",
    "sns.countplot(data = df_leads ,x = \"Lead Source\", hue = \"Converted\")\n",
    "\n",
    "plt.title('Lead Source Vs Converted\\n',fontdict={'fontsize': 20, 'fontweight' : 5, 'color' : 'green'})\n",
    "plt.xlabel('\\nLead Source', fontdict={'fontsize': 15, 'fontweight' : 15, 'color' : 'Green'})\n",
    "plt.ylabel('Count\\n', fontdict={'fontsize': 15, 'fontweight' : 15, 'color' : 'Green'})\n",
    "xticks(rotation = 45)\n",
    "plt.show()"
   ]
  },
  {
   "cell_type": "markdown",
   "metadata": {},
   "source": [
    "#### :::: Google leads have the most conversion rate"
   ]
  },
  {
   "cell_type": "markdown",
   "metadata": {},
   "source": [
    "#####  Do Not Email and Do not call VS Converted"
   ]
  },
  {
   "cell_type": "code",
   "execution_count": 15,
   "metadata": {
    "scrolled": false
   },
   "outputs": [
    {
     "data": {
      "image/png": "[encoded data removed]",
      "text/plain": [
       "<Figure size 1080x540 with 2 Axes>"
      ]
     },
     "metadata": {
      "needs_background": "light"
     },
     "output_type": "display_data"
    }
   ],
   "source": [
    "fig, axs = plt.subplots(1,2,figsize = (15,7.5))\n",
    "sns.countplot(x = \"Do Not Email\", hue = \"Converted\", data = df_leads, ax = axs[0])\n",
    "sns.countplot(x = \"Do Not Call\", hue = \"Converted\", data = df_leads, ax = axs[1])\n",
    "\n",
    "xticks(rotation = 45)\n",
    "plt.show()"
   ]
  },
  {
   "cell_type": "markdown",
   "metadata": {},
   "source": [
    "#### :::: Users chosen NO to email and calls have the most conversion rate"
   ]
  },
  {
   "cell_type": "markdown",
   "metadata": {},
   "source": [
    "#####  Last Activity Vs Converted"
   ]
  },
  {
   "cell_type": "code",
   "execution_count": 16,
   "metadata": {
    "scrolled": false
   },
   "outputs": [
    {
     "data": {
      "image/png": "[encoded data removed]",
      "text/plain": [
       "<Figure size 864x432 with 1 Axes>"
      ]
     },
     "metadata": {
      "needs_background": "light"
     },
     "output_type": "display_data"
    }
   ],
   "source": [
    "plt.figure(figsize=(12,6))\n",
    "sns.countplot(data = df_leads ,x = \"Last Activity\", hue = \"Converted\")\n",
    "\n",
    "plt.title('Last Activity Vs Converted\\n',fontdict={'fontsize': 20, 'fontweight' : 5, 'color' : 'green'})\n",
    "plt.xlabel('\\nLast Activity', fontdict={'fontsize': 15, 'fontweight' : 15, 'color' : 'Green'})\n",
    "plt.ylabel('Count\\n', fontdict={'fontsize': 15, 'fontweight' : 15, 'color' : 'Green'})\n",
    "xticks(rotation = 90)\n",
    "plt.show()"
   ]
  },
  {
   "cell_type": "markdown",
   "metadata": {},
   "source": [
    "#### :::: Email and SMS as the last activty has the best conversation rate"
   ]
  },
  {
   "cell_type": "markdown",
   "metadata": {},
   "source": [
    "#####  Current Occupation Vs Converted"
   ]
  },
  {
   "cell_type": "code",
   "execution_count": 17,
   "metadata": {
    "scrolled": false
   },
   "outputs": [
    {
     "data": {
      "image/png": "[encoded data removed]",
      "text/plain": [
       "<Figure size 864x432 with 1 Axes>"
      ]
     },
     "metadata": {
      "needs_background": "light"
     },
     "output_type": "display_data"
    }
   ],
   "source": [
    "plt.figure(figsize=(12,6))\n",
    "sns.countplot(data = df_leads ,x = \"What is your current occupation\", hue = \"Converted\")\n",
    "\n",
    "plt.title('Current Occupation Vs Converted\\n',fontdict={'fontsize': 20, 'fontweight' : 5, 'color' : 'green'})\n",
    "plt.xlabel('\\nCurrent occupation', fontdict={'fontsize': 15, 'fontweight' : 15, 'color' : 'Green'})\n",
    "plt.ylabel('Count\\n', fontdict={'fontsize': 15, 'fontweight' : 15, 'color' : 'Green'})\n",
    "xticks(rotation = 90)\n",
    "plt.show()"
   ]
  },
  {
   "cell_type": "markdown",
   "metadata": {},
   "source": [
    "#### :::: Unemployed users are the target users as they have the best conversation rate"
   ]
  },
  {
   "cell_type": "markdown",
   "metadata": {},
   "source": [
    "#####  Total Time Spent on Website Vs Converted"
   ]
  },
  {
   "cell_type": "code",
   "execution_count": 18,
   "metadata": {
    "scrolled": false
   },
   "outputs": [
    {
     "data": {
      "image/png": "[encoded data removed]",
      "text/plain": [
       "<Figure size 720x432 with 1 Axes>"
      ]
     },
     "metadata": {
      "needs_background": "light"
     },
     "output_type": "display_data"
    }
   ],
   "source": [
    "plt.figure(figsize=(10,6))\n",
    "sns.boxplot(data=df_leads,x='Converted',y='Total Time Spent on Website')\n",
    "plt.show()"
   ]
  },
  {
   "cell_type": "markdown",
   "metadata": {},
   "source": [
    "#### :::: Users spending more time on site are more likely to for Conversion"
   ]
  },
  {
   "cell_type": "markdown",
   "metadata": {},
   "source": [
    "#####  Current Occupation Vs Converted"
   ]
  },
  {
   "cell_type": "code",
   "execution_count": 19,
   "metadata": {
    "scrolled": false
   },
   "outputs": [
    {
     "data": {
      "image/png": "[encoded data removed]",
      "text/plain": [
       "<Figure size 864x432 with 1 Axes>"
      ]
     },
     "metadata": {
      "needs_background": "light"
     },
     "output_type": "display_data"
    }
   ],
   "source": [
    "plt.figure(figsize=(12,6))\n",
    "sns.countplot(data = df_leads ,x = \"Specialization\", hue = \"Converted\")\n",
    "\n",
    "plt.title('Specialization Vs Converted\\n',fontdict={'fontsize': 20, 'fontweight' : 5, 'color' : 'green'})\n",
    "plt.xlabel('\\nSpecialization', fontdict={'fontsize': 15, 'fontweight' : 15, 'color' : 'Green'})\n",
    "plt.ylabel('Count\\n', fontdict={'fontsize': 15, 'fontweight' : 15, 'color' : 'Green'})\n",
    "xticks(rotation = 90)\n",
    "plt.show()"
   ]
  },
  {
   "cell_type": "markdown",
   "metadata": {},
   "source": [
    "#### :::: Finance management, Merketing management and Human Resouece management users are most likely to get converted"
   ]
  },
  {
   "cell_type": "markdown",
   "metadata": {},
   "source": [
    "####  What matters most to you in choosing a course Vs Converted"
   ]
  },
  {
   "cell_type": "code",
   "execution_count": 20,
   "metadata": {
    "scrolled": false
   },
   "outputs": [
    {
     "data": {
      "text/plain": [
       "Better Career Prospects      99.967532\n",
       "Flexibility & Convenience     0.021645\n",
       "Other                         0.010823\n",
       "Name: What matters most to you in choosing a course, dtype: float64"
      ]
     },
     "execution_count": 20,
     "metadata": {},
     "output_type": "execute_result"
    }
   ],
   "source": [
    "(df_leads['What matters most to you in choosing a course'].value_counts()/\n",
    " len(df_leads['What matters most to you in choosing a course']))*100\n",
    "# Most data is for Better Career Prospects, so no inferences can be drawn"
   ]
  },
  {
   "cell_type": "code",
   "execution_count": 21,
   "metadata": {
    "scrolled": true
   },
   "outputs": [
    {
     "data": {
      "text/plain": [
       "No     99.848485\n",
       "Yes     0.151515\n",
       "Name: Search, dtype: float64"
      ]
     },
     "execution_count": 21,
     "metadata": {},
     "output_type": "execute_result"
    }
   ],
   "source": [
    "(df_leads['Search'].value_counts()/ len(df_leads['Search']))*100\n",
    "# Most data is No, so no inferences can be drawn"
   ]
  },
  {
   "cell_type": "code",
   "execution_count": 22,
   "metadata": {},
   "outputs": [
    {
     "data": {
      "text/plain": [
       "No    100.0\n",
       "Name: Magazine, dtype: float64"
      ]
     },
     "execution_count": 22,
     "metadata": {},
     "output_type": "execute_result"
    }
   ],
   "source": [
    "(df_leads['Magazine'].value_counts()/ len(df_leads['Magazine']))*100\n",
    "# All data is No, so no inferences can be drawn"
   ]
  },
  {
   "cell_type": "code",
   "execution_count": 23,
   "metadata": {},
   "outputs": [
    {
     "data": {
      "text/plain": [
       "No     99.978355\n",
       "Yes     0.021645\n",
       "Name: Newspaper Article, dtype: float64"
      ]
     },
     "execution_count": 23,
     "metadata": {},
     "output_type": "execute_result"
    }
   ],
   "source": [
    "(df_leads['Newspaper Article'].value_counts()/ len(df_leads['Newspaper Article']))*100\n",
    "# most data is No, so no inferences can be drawn"
   ]
  },
  {
   "cell_type": "code",
   "execution_count": 24,
   "metadata": {},
   "outputs": [
    {
     "data": {
      "text/plain": [
       "No     99.989177\n",
       "Yes     0.010823\n",
       "Name: X Education Forums, dtype: float64"
      ]
     },
     "execution_count": 24,
     "metadata": {},
     "output_type": "execute_result"
    }
   ],
   "source": [
    "(df_leads['X Education Forums'].value_counts()/ len(df_leads['X Education Forums']))*100\n",
    "# most data is No, so no inferences can be drawn ', '', '', ''"
   ]
  },
  {
   "cell_type": "code",
   "execution_count": 25,
   "metadata": {},
   "outputs": [
    {
     "data": {
      "text/plain": [
       "No     99.989177\n",
       "Yes     0.010823\n",
       "Name: Newspaper, dtype: float64"
      ]
     },
     "execution_count": 25,
     "metadata": {},
     "output_type": "execute_result"
    }
   ],
   "source": [
    "(df_leads['Newspaper'].value_counts()/ len(df_leads['Newspaper']))*100\n",
    "# most data is No, so no inferences can be drawn"
   ]
  },
  {
   "cell_type": "code",
   "execution_count": 26,
   "metadata": {},
   "outputs": [
    {
     "data": {
      "text/plain": [
       "No     99.95671\n",
       "Yes     0.04329\n",
       "Name: Digital Advertisement, dtype: float64"
      ]
     },
     "execution_count": 26,
     "metadata": {},
     "output_type": "execute_result"
    }
   ],
   "source": [
    "(df_leads['Digital Advertisement'].value_counts()/ len(df_leads['Digital Advertisement']))*100\n",
    "# most data is No, so no inferences can be drawn"
   ]
  },
  {
   "cell_type": "code",
   "execution_count": 27,
   "metadata": {
    "scrolled": true
   },
   "outputs": [
    {
     "data": {
      "text/plain": [
       "No     99.924242\n",
       "Yes     0.075758\n",
       "Name: Through Recommendations, dtype: float64"
      ]
     },
     "execution_count": 27,
     "metadata": {},
     "output_type": "execute_result"
    }
   ],
   "source": [
    "(df_leads['Through Recommendations'].value_counts()/ len(df_leads['Through Recommendations']))*100\n",
    "# most data is No, so no inferences can be drawn"
   ]
  },
  {
   "cell_type": "code",
   "execution_count": 28,
   "metadata": {},
   "outputs": [
    {
     "data": {
      "text/plain": [
       "No    100.0\n",
       "Name: Receive More Updates About Our Courses, dtype: float64"
      ]
     },
     "execution_count": 28,
     "metadata": {},
     "output_type": "execute_result"
    }
   ],
   "source": [
    "(df_leads['Receive More Updates About Our Courses'].value_counts()/ len(df_leads['Receive More Updates About Our Courses']))*100\n",
    "# All data is No, so no inferences can be drawn"
   ]
  },
  {
   "cell_type": "markdown",
   "metadata": {},
   "source": [
    "#####  Tags Vs Converted"
   ]
  },
  {
   "cell_type": "code",
   "execution_count": 29,
   "metadata": {
    "scrolled": false
   },
   "outputs": [
    {
     "data": {
      "image/png": "[encoded data removed]",
      "text/plain": [
       "<Figure size 864x432 with 1 Axes>"
      ]
     },
     "metadata": {
      "needs_background": "light"
     },
     "output_type": "display_data"
    }
   ],
   "source": [
    "plt.figure(figsize=(12,6))\n",
    "sns.countplot(data = df_leads ,x = \"Tags\", hue = \"Converted\")\n",
    "\n",
    "plt.title('Tags Vs Converted\\n',fontdict={'fontsize': 20, 'fontweight' : 5, 'color' : 'green'})\n",
    "plt.xlabel('\\nTags', fontdict={'fontsize': 15, 'fontweight' : 15, 'color' : 'Green'})\n",
    "plt.ylabel('Count\\n', fontdict={'fontsize': 15, 'fontweight' : 15, 'color' : 'Green'})\n",
    "xticks(rotation = 90)\n",
    "plt.show()"
   ]
  },
  {
   "cell_type": "markdown",
   "metadata": {},
   "source": [
    "#### :::: 'Will revert after reading the email' - tagged users are most converted users"
   ]
  },
  {
   "cell_type": "markdown",
   "metadata": {},
   "source": [
    "#####  Lead Quality Vs Converted"
   ]
  },
  {
   "cell_type": "code",
   "execution_count": 30,
   "metadata": {
    "scrolled": false
   },
   "outputs": [
    {
     "data": {
      "image/png": "[encoded data removed]",
      "text/plain": [
       "<Figure size 864x432 with 1 Axes>"
      ]
     },
     "metadata": {
      "needs_background": "light"
     },
     "output_type": "display_data"
    }
   ],
   "source": [
    "plt.figure(figsize=(12,6))\n",
    "sns.countplot(data = df_leads ,x = \"Lead Quality\", hue = \"Converted\")\n",
    "\n",
    "plt.title('Lead Quality Vs Converted\\n',fontdict={'fontsize': 20, 'fontweight' : 5, 'color' : 'green'})\n",
    "plt.xlabel('\\nLead Quality', fontdict={'fontsize': 15, 'fontweight' : 15, 'color' : 'Green'})\n",
    "plt.ylabel('Count\\n', fontdict={'fontsize': 15, 'fontweight' : 15, 'color' : 'Green'})\n",
    "xticks(rotation = 90)\n",
    "plt.show()"
   ]
  },
  {
   "cell_type": "markdown",
   "metadata": {},
   "source": [
    "#### :::: 'Not Sure' and 'Might be' - are good indicators for Lead"
   ]
  },
  {
   "cell_type": "code",
   "execution_count": 31,
   "metadata": {},
   "outputs": [
    {
     "data": {
      "text/plain": [
       "No    100.0\n",
       "Name: Update me on Supply Chain Content, dtype: float64"
      ]
     },
     "execution_count": 31,
     "metadata": {},
     "output_type": "execute_result"
    }
   ],
   "source": [
    "(df_leads['Update me on Supply Chain Content'].value_counts()/ len(df_leads['Update me on Supply Chain Content']))*100\n",
    "# All data is No, so no inferences can be drawn"
   ]
  },
  {
   "cell_type": "code",
   "execution_count": 32,
   "metadata": {},
   "outputs": [
    {
     "data": {
      "text/plain": [
       "No    100.0\n",
       "Name: Get updates on DM Content, dtype: float64"
      ]
     },
     "execution_count": 32,
     "metadata": {},
     "output_type": "execute_result"
    }
   ],
   "source": [
    "(df_leads['Get updates on DM Content'].value_counts()/ len(df_leads['Get updates on DM Content']))*100\n",
    "# All data is No, so no inferences can be drawn"
   ]
  },
  {
   "cell_type": "code",
   "execution_count": 33,
   "metadata": {},
   "outputs": [
    {
     "data": {
      "text/plain": [
       "No    100.0\n",
       "Name: I agree to pay the amount through cheque, dtype: float64"
      ]
     },
     "execution_count": 33,
     "metadata": {},
     "output_type": "execute_result"
    }
   ],
   "source": [
    "(df_leads['I agree to pay the amount through cheque'].value_counts()/ len(df_leads['I agree to pay the amount through cheque']))*100\n",
    "# All data is No, so no inferences can be drawn"
   ]
  },
  {
   "cell_type": "code",
   "execution_count": 34,
   "metadata": {},
   "outputs": [
    {
     "data": {
      "text/plain": [
       "No     68.744589\n",
       "Yes    31.255411\n",
       "Name: A free copy of Mastering The Interview, dtype: float64"
      ]
     },
     "execution_count": 34,
     "metadata": {},
     "output_type": "execute_result"
    }
   ],
   "source": [
    "(df_leads['A free copy of Mastering The Interview'].value_counts()/ len(df_leads['A free copy of Mastering The Interview']))*100\n",
    "# All data is No, so no inferences can be drawn"
   ]
  },
  {
   "cell_type": "markdown",
   "metadata": {},
   "source": [
    "##### A free copy of Mastering The Interview Vs Converted"
   ]
  },
  {
   "cell_type": "code",
   "execution_count": 35,
   "metadata": {
    "scrolled": false
   },
   "outputs": [
    {
     "data": {
      "image/png": "[encoded data removed]",
      "text/plain": [
       "<Figure size 864x432 with 1 Axes>"
      ]
     },
     "metadata": {
      "needs_background": "light"
     },
     "output_type": "display_data"
    }
   ],
   "source": [
    "plt.figure(figsize=(12,6))\n",
    "sns.countplot(data = df_leads ,x = \"A free copy of Mastering The Interview\", hue = \"Converted\")\n",
    "\n",
    "plt.title('A free copy of Mastering The Interview Vs Converted\\n',fontdict={'fontsize': 20, 'fontweight' : 5, 'color' : 'green'})\n",
    "plt.xlabel('\\nA free copy of Mastering The Interview', fontdict={'fontsize': 15, 'fontweight' : 15, 'color' : 'Green'})\n",
    "plt.ylabel('Count\\n', fontdict={'fontsize': 15, 'fontweight' : 15, 'color' : 'Green'})\n",
    "xticks(rotation = 90)\n",
    "plt.show()"
   ]
  },
  {
   "cell_type": "markdown",
   "metadata": {},
   "source": [
    "#### :::: Customers Not asking for A free copy of Mastering The Interview - are also good indicators for Lead"
   ]
  },
  {
   "cell_type": "code",
   "execution_count": 36,
   "metadata": {
    "scrolled": true
   },
   "outputs": [
    {
     "data": {
      "text/plain": [
       "Index(['Lead Number', 'Lead Origin', 'Lead Source', 'Do Not Email',\n",
       "       'Do Not Call', 'Converted', 'TotalVisits',\n",
       "       'Total Time Spent on Website', 'Page Views Per Visit', 'Last Activity',\n",
       "       'Country', 'Specialization', 'What is your current occupation',\n",
       "       'What matters most to you in choosing a course', 'Search', 'Magazine',\n",
       "       'Newspaper Article', 'X Education Forums', 'Newspaper',\n",
       "       'Digital Advertisement', 'Through Recommendations',\n",
       "       'Receive More Updates About Our Courses', 'Tags', 'Lead Quality',\n",
       "       'Update me on Supply Chain Content', 'Get updates on DM Content',\n",
       "       'I agree to pay the amount through cheque',\n",
       "       'A free copy of Mastering The Interview', 'Last Notable Activity'],\n",
       "      dtype='object')"
      ]
     },
     "execution_count": 36,
     "metadata": {},
     "output_type": "execute_result"
    }
   ],
   "source": [
    "df_leads.columns"
   ]
  },
  {
   "cell_type": "markdown",
   "metadata": {},
   "source": [
    "##### Last Notable Activity Vs Converted"
   ]
  },
  {
   "cell_type": "code",
   "execution_count": 37,
   "metadata": {
    "scrolled": false
   },
   "outputs": [
    {
     "data": {
      "image/png": "[encoded data removed]",
      "text/plain": [
       "<Figure size 864x432 with 1 Axes>"
      ]
     },
     "metadata": {
      "needs_background": "light"
     },
     "output_type": "display_data"
    }
   ],
   "source": [
    "plt.figure(figsize=(12,6))\n",
    "sns.countplot(data = df_leads ,x = \"Last Notable Activity\", hue = \"Converted\")\n",
    "\n",
    "plt.title('Last Notable Activity Vs Converted\\n',fontdict={'fontsize': 20, 'fontweight' : 5, 'color' : 'green'})\n",
    "plt.xlabel('\\nLast Notable Activity', fontdict={'fontsize': 15, 'fontweight' : 15, 'color' : 'Green'})\n",
    "plt.ylabel('Count\\n', fontdict={'fontsize': 15, 'fontweight' : 15, 'color' : 'Green'})\n",
    "xticks(rotation = 90)\n",
    "plt.show()"
   ]
  },
  {
   "cell_type": "markdown",
   "metadata": {},
   "source": [
    "#### :::: Users reading SMS as last activity are most likely to convert"
   ]
  },
  {
   "cell_type": "markdown",
   "metadata": {},
   "source": [
    "### Model Building"
   ]
  },
  {
   "cell_type": "code",
   "execution_count": 38,
   "metadata": {},
   "outputs": [
    {
     "data": {
      "text/plain": [
       "Index(['Lead Number', 'Lead Origin', 'Lead Source', 'Do Not Email',\n",
       "       'Do Not Call', 'Converted', 'TotalVisits',\n",
       "       'Total Time Spent on Website', 'Page Views Per Visit', 'Last Activity',\n",
       "       'Country', 'Specialization', 'What is your current occupation',\n",
       "       'What matters most to you in choosing a course', 'Search', 'Magazine',\n",
       "       'Newspaper Article', 'X Education Forums', 'Newspaper',\n",
       "       'Digital Advertisement', 'Through Recommendations',\n",
       "       'Receive More Updates About Our Courses', 'Tags', 'Lead Quality',\n",
       "       'Update me on Supply Chain Content', 'Get updates on DM Content',\n",
       "       'I agree to pay the amount through cheque',\n",
       "       'A free copy of Mastering The Interview', 'Last Notable Activity'],\n",
       "      dtype='object')"
      ]
     },
     "execution_count": 38,
     "metadata": {},
     "output_type": "execute_result"
    }
   ],
   "source": [
    "## deopping columns with no inferenaces drawn \n",
    "\n",
    "df_leads.columns"
   ]
  },
  {
   "cell_type": "code",
   "execution_count": 39,
   "metadata": {},
   "outputs": [],
   "source": [
    "df_leads.drop(columns=['I agree to pay the amount through cheque','Get updates on DM Content','Update me on Supply Chain Content',\n",
    "'Receive More Updates About Our Courses','Through Recommendations','Digital Advertisement','Newspaper','X Education Forums',\n",
    "'Newspaper Article','Magazine','Search','What matters most to you in choosing a course','Country'],axis=1,inplace=True)"
   ]
  },
  {
   "cell_type": "code",
   "execution_count": 40,
   "metadata": {},
   "outputs": [
    {
     "data": {
      "text/plain": [
       "(9240, 16)"
      ]
     },
     "execution_count": 40,
     "metadata": {},
     "output_type": "execute_result"
    }
   ],
   "source": [
    "df_leads.shape"
   ]
  },
  {
   "cell_type": "code",
   "execution_count": 41,
   "metadata": {},
   "outputs": [
    {
     "data": {
      "text/plain": [
       "Index(['Lead Number', 'Lead Origin', 'Lead Source', 'Do Not Email',\n",
       "       'Do Not Call', 'Converted', 'TotalVisits',\n",
       "       'Total Time Spent on Website', 'Page Views Per Visit', 'Last Activity',\n",
       "       'Specialization', 'What is your current occupation', 'Tags',\n",
       "       'Lead Quality', 'A free copy of Mastering The Interview',\n",
       "       'Last Notable Activity'],\n",
       "      dtype='object')"
      ]
     },
     "execution_count": 41,
     "metadata": {},
     "output_type": "execute_result"
    }
   ],
   "source": [
    "df_leads.columns"
   ]
  },
  {
   "cell_type": "code",
   "execution_count": 42,
   "metadata": {},
   "outputs": [
    {
     "data": {
      "text/html": [
       "<div>\n",
       "<style scoped>\n",
       "    .dataframe tbody tr th:only-of-type {\n",
       "        vertical-align: middle;\n",
       "    }\n",
       "\n",
       "    .dataframe tbody tr th {\n",
       "        vertical-align: top;\n",
       "    }\n",
       "\n",
       "    .dataframe thead th {\n",
       "        text-align: right;\n",
       "    }\n",
       "</style>\n",
       "<table border=\"1\" class=\"dataframe\">\n",
       "  <thead>\n",
       "    <tr style=\"text-align: right;\">\n",
       "      <th></th>\n",
       "      <th>Lead Number</th>\n",
       "      <th>Lead Origin</th>\n",
       "      <th>Lead Source</th>\n",
       "      <th>Do Not Email</th>\n",
       "      <th>Do Not Call</th>\n",
       "      <th>Converted</th>\n",
       "      <th>TotalVisits</th>\n",
       "      <th>Total Time Spent on Website</th>\n",
       "      <th>Page Views Per Visit</th>\n",
       "      <th>Last Activity</th>\n",
       "      <th>Specialization</th>\n",
       "      <th>What is your current occupation</th>\n",
       "      <th>Tags</th>\n",
       "      <th>Lead Quality</th>\n",
       "      <th>A free copy of Mastering The Interview</th>\n",
       "      <th>Last Notable Activity</th>\n",
       "    </tr>\n",
       "  </thead>\n",
       "  <tbody>\n",
       "    <tr>\n",
       "      <th>0</th>\n",
       "      <td>660737</td>\n",
       "      <td>API</td>\n",
       "      <td>Olark Chat</td>\n",
       "      <td>No</td>\n",
       "      <td>No</td>\n",
       "      <td>0</td>\n",
       "      <td>0.0</td>\n",
       "      <td>0</td>\n",
       "      <td>0.0</td>\n",
       "      <td>Page Visited on Website</td>\n",
       "      <td>Others</td>\n",
       "      <td>Unemployed</td>\n",
       "      <td>Interested in other courses</td>\n",
       "      <td>Low in Relevance</td>\n",
       "      <td>No</td>\n",
       "      <td>Modified</td>\n",
       "    </tr>\n",
       "    <tr>\n",
       "      <th>1</th>\n",
       "      <td>660728</td>\n",
       "      <td>API</td>\n",
       "      <td>Organic Search</td>\n",
       "      <td>No</td>\n",
       "      <td>No</td>\n",
       "      <td>0</td>\n",
       "      <td>5.0</td>\n",
       "      <td>674</td>\n",
       "      <td>2.5</td>\n",
       "      <td>Email Opened</td>\n",
       "      <td>Others</td>\n",
       "      <td>Unemployed</td>\n",
       "      <td>Ringing</td>\n",
       "      <td>Not Sure</td>\n",
       "      <td>No</td>\n",
       "      <td>Email Opened</td>\n",
       "    </tr>\n",
       "    <tr>\n",
       "      <th>2</th>\n",
       "      <td>660727</td>\n",
       "      <td>Landing Page Submission</td>\n",
       "      <td>Direct Traffic</td>\n",
       "      <td>No</td>\n",
       "      <td>No</td>\n",
       "      <td>1</td>\n",
       "      <td>2.0</td>\n",
       "      <td>1532</td>\n",
       "      <td>2.0</td>\n",
       "      <td>Email Opened</td>\n",
       "      <td>Business Administration</td>\n",
       "      <td>Student</td>\n",
       "      <td>Will revert after reading the email</td>\n",
       "      <td>Might be</td>\n",
       "      <td>Yes</td>\n",
       "      <td>Email Opened</td>\n",
       "    </tr>\n",
       "    <tr>\n",
       "      <th>3</th>\n",
       "      <td>660719</td>\n",
       "      <td>Landing Page Submission</td>\n",
       "      <td>Direct Traffic</td>\n",
       "      <td>No</td>\n",
       "      <td>No</td>\n",
       "      <td>0</td>\n",
       "      <td>1.0</td>\n",
       "      <td>305</td>\n",
       "      <td>1.0</td>\n",
       "      <td>Unreachable</td>\n",
       "      <td>Media and Advertising</td>\n",
       "      <td>Unemployed</td>\n",
       "      <td>Ringing</td>\n",
       "      <td>Not Sure</td>\n",
       "      <td>No</td>\n",
       "      <td>Modified</td>\n",
       "    </tr>\n",
       "    <tr>\n",
       "      <th>4</th>\n",
       "      <td>660681</td>\n",
       "      <td>Landing Page Submission</td>\n",
       "      <td>Google</td>\n",
       "      <td>No</td>\n",
       "      <td>No</td>\n",
       "      <td>1</td>\n",
       "      <td>2.0</td>\n",
       "      <td>1428</td>\n",
       "      <td>1.0</td>\n",
       "      <td>Converted to Lead</td>\n",
       "      <td>Others</td>\n",
       "      <td>Unemployed</td>\n",
       "      <td>Will revert after reading the email</td>\n",
       "      <td>Might be</td>\n",
       "      <td>No</td>\n",
       "      <td>Modified</td>\n",
       "    </tr>\n",
       "  </tbody>\n",
       "</table>\n",
       "</div>"
      ],
      "text/plain": [
       "   Lead Number              Lead Origin     Lead Source Do Not Email  \\\n",
       "0       660737                      API      Olark Chat           No   \n",
       "1       660728                      API  Organic Search           No   \n",
       "2       660727  Landing Page Submission  Direct Traffic           No   \n",
       "3       660719  Landing Page Submission  Direct Traffic           No   \n",
       "4       660681  Landing Page Submission          Google           No   \n",
       "\n",
       "  Do Not Call  Converted  TotalVisits  Total Time Spent on Website  \\\n",
       "0          No          0          0.0                            0   \n",
       "1          No          0          5.0                          674   \n",
       "2          No          1          2.0                         1532   \n",
       "3          No          0          1.0                          305   \n",
       "4          No          1          2.0                         1428   \n",
       "\n",
       "   Page Views Per Visit            Last Activity           Specialization  \\\n",
       "0                   0.0  Page Visited on Website                   Others   \n",
       "1                   2.5             Email Opened                   Others   \n",
       "2                   2.0             Email Opened  Business Administration   \n",
       "3                   1.0              Unreachable    Media and Advertising   \n",
       "4                   1.0        Converted to Lead                   Others   \n",
       "\n",
       "  What is your current occupation                                 Tags  \\\n",
       "0                      Unemployed          Interested in other courses   \n",
       "1                      Unemployed                              Ringing   \n",
       "2                         Student  Will revert after reading the email   \n",
       "3                      Unemployed                              Ringing   \n",
       "4                      Unemployed  Will revert after reading the email   \n",
       "\n",
       "       Lead Quality A free copy of Mastering The Interview  \\\n",
       "0  Low in Relevance                                     No   \n",
       "1          Not Sure                                     No   \n",
       "2          Might be                                    Yes   \n",
       "3          Not Sure                                     No   \n",
       "4          Might be                                     No   \n",
       "\n",
       "  Last Notable Activity  \n",
       "0              Modified  \n",
       "1          Email Opened  \n",
       "2          Email Opened  \n",
       "3              Modified  \n",
       "4              Modified  "
      ]
     },
     "execution_count": 42,
     "metadata": {},
     "output_type": "execute_result"
    }
   ],
   "source": [
    "df_leads.head()"
   ]
  },
  {
   "cell_type": "code",
   "execution_count": 43,
   "metadata": {},
   "outputs": [],
   "source": [
    "# converting Yes and No columns to 0 and 1 ['A free copy of Mastering The Interview','Do Not Email','Do Not Call']\n",
    "df_leads['A free copy of Mastering The Interview'] = df_leads['A free copy of Mastering The Interview'].apply(lambda x:1 if x=='Yes' else 0)\n",
    "df_leads['Do Not Email'] = df_leads['Do Not Email'].apply(lambda x:1 if x=='Yes' else 0)\n",
    "df_leads['Do Not Call'] = df_leads['Do Not Call'].apply(lambda x:1 if x=='Yes' else 0)"
   ]
  },
  {
   "cell_type": "code",
   "execution_count": 44,
   "metadata": {},
   "outputs": [],
   "source": [
    "## craete dummy variables for catagorical variables\n",
    "df_dummy = pd.get_dummies(df_leads[['Lead Origin', 'Lead Source', 'Last Activity',\n",
    "                           'Specialization', 'What is your current occupation', 'Tags','Lead Quality','Last Notable Activity']])"
   ]
  },
  {
   "cell_type": "code",
   "execution_count": 45,
   "metadata": {
    "scrolled": false
   },
   "outputs": [
    {
     "data": {
      "text/html": [
       "<div>\n",
       "<style scoped>\n",
       "    .dataframe tbody tr th:only-of-type {\n",
       "        vertical-align: middle;\n",
       "    }\n",
       "\n",
       "    .dataframe tbody tr th {\n",
       "        vertical-align: top;\n",
       "    }\n",
       "\n",
       "    .dataframe thead th {\n",
       "        text-align: right;\n",
       "    }\n",
       "</style>\n",
       "<table border=\"1\" class=\"dataframe\">\n",
       "  <thead>\n",
       "    <tr style=\"text-align: right;\">\n",
       "      <th></th>\n",
       "      <th>Lead Origin_API</th>\n",
       "      <th>Lead Origin_Landing Page Submission</th>\n",
       "      <th>Lead Origin_Lead Add Form</th>\n",
       "      <th>Lead Origin_Lead Import</th>\n",
       "      <th>Lead Origin_Quick Add Form</th>\n",
       "      <th>Lead Source_Click2call</th>\n",
       "      <th>Lead Source_Direct Traffic</th>\n",
       "      <th>Lead Source_Facebook</th>\n",
       "      <th>Lead Source_Google</th>\n",
       "      <th>Lead Source_Live Chat</th>\n",
       "      <th>...</th>\n",
       "      <th>Last Notable Activity_Form Submitted on Website</th>\n",
       "      <th>Last Notable Activity_Had a Phone Conversation</th>\n",
       "      <th>Last Notable Activity_Modified</th>\n",
       "      <th>Last Notable Activity_Olark Chat Conversation</th>\n",
       "      <th>Last Notable Activity_Page Visited on Website</th>\n",
       "      <th>Last Notable Activity_Resubscribed to emails</th>\n",
       "      <th>Last Notable Activity_SMS Sent</th>\n",
       "      <th>Last Notable Activity_Unreachable</th>\n",
       "      <th>Last Notable Activity_Unsubscribed</th>\n",
       "      <th>Last Notable Activity_View in browser link Clicked</th>\n",
       "    </tr>\n",
       "  </thead>\n",
       "  <tbody>\n",
       "    <tr>\n",
       "      <th>0</th>\n",
       "      <td>1</td>\n",
       "      <td>0</td>\n",
       "      <td>0</td>\n",
       "      <td>0</td>\n",
       "      <td>0</td>\n",
       "      <td>0</td>\n",
       "      <td>0</td>\n",
       "      <td>0</td>\n",
       "      <td>0</td>\n",
       "      <td>0</td>\n",
       "      <td>...</td>\n",
       "      <td>0</td>\n",
       "      <td>0</td>\n",
       "      <td>1</td>\n",
       "      <td>0</td>\n",
       "      <td>0</td>\n",
       "      <td>0</td>\n",
       "      <td>0</td>\n",
       "      <td>0</td>\n",
       "      <td>0</td>\n",
       "      <td>0</td>\n",
       "    </tr>\n",
       "    <tr>\n",
       "      <th>1</th>\n",
       "      <td>1</td>\n",
       "      <td>0</td>\n",
       "      <td>0</td>\n",
       "      <td>0</td>\n",
       "      <td>0</td>\n",
       "      <td>0</td>\n",
       "      <td>0</td>\n",
       "      <td>0</td>\n",
       "      <td>0</td>\n",
       "      <td>0</td>\n",
       "      <td>...</td>\n",
       "      <td>0</td>\n",
       "      <td>0</td>\n",
       "      <td>0</td>\n",
       "      <td>0</td>\n",
       "      <td>0</td>\n",
       "      <td>0</td>\n",
       "      <td>0</td>\n",
       "      <td>0</td>\n",
       "      <td>0</td>\n",
       "      <td>0</td>\n",
       "    </tr>\n",
       "    <tr>\n",
       "      <th>2</th>\n",
       "      <td>0</td>\n",
       "      <td>1</td>\n",
       "      <td>0</td>\n",
       "      <td>0</td>\n",
       "      <td>0</td>\n",
       "      <td>0</td>\n",
       "      <td>1</td>\n",
       "      <td>0</td>\n",
       "      <td>0</td>\n",
       "      <td>0</td>\n",
       "      <td>...</td>\n",
       "      <td>0</td>\n",
       "      <td>0</td>\n",
       "      <td>0</td>\n",
       "      <td>0</td>\n",
       "      <td>0</td>\n",
       "      <td>0</td>\n",
       "      <td>0</td>\n",
       "      <td>0</td>\n",
       "      <td>0</td>\n",
       "      <td>0</td>\n",
       "    </tr>\n",
       "    <tr>\n",
       "      <th>3</th>\n",
       "      <td>0</td>\n",
       "      <td>1</td>\n",
       "      <td>0</td>\n",
       "      <td>0</td>\n",
       "      <td>0</td>\n",
       "      <td>0</td>\n",
       "      <td>1</td>\n",
       "      <td>0</td>\n",
       "      <td>0</td>\n",
       "      <td>0</td>\n",
       "      <td>...</td>\n",
       "      <td>0</td>\n",
       "      <td>0</td>\n",
       "      <td>1</td>\n",
       "      <td>0</td>\n",
       "      <td>0</td>\n",
       "      <td>0</td>\n",
       "      <td>0</td>\n",
       "      <td>0</td>\n",
       "      <td>0</td>\n",
       "      <td>0</td>\n",
       "    </tr>\n",
       "    <tr>\n",
       "      <th>4</th>\n",
       "      <td>0</td>\n",
       "      <td>1</td>\n",
       "      <td>0</td>\n",
       "      <td>0</td>\n",
       "      <td>0</td>\n",
       "      <td>0</td>\n",
       "      <td>0</td>\n",
       "      <td>0</td>\n",
       "      <td>1</td>\n",
       "      <td>0</td>\n",
       "      <td>...</td>\n",
       "      <td>0</td>\n",
       "      <td>0</td>\n",
       "      <td>1</td>\n",
       "      <td>0</td>\n",
       "      <td>0</td>\n",
       "      <td>0</td>\n",
       "      <td>0</td>\n",
       "      <td>0</td>\n",
       "      <td>0</td>\n",
       "      <td>0</td>\n",
       "    </tr>\n",
       "  </tbody>\n",
       "</table>\n",
       "<p>5 rows × 115 columns</p>\n",
       "</div>"
      ],
      "text/plain": [
       "   Lead Origin_API  Lead Origin_Landing Page Submission  \\\n",
       "0                1                                    0   \n",
       "1                1                                    0   \n",
       "2                0                                    1   \n",
       "3                0                                    1   \n",
       "4                0                                    1   \n",
       "\n",
       "   Lead Origin_Lead Add Form  Lead Origin_Lead Import  \\\n",
       "0                          0                        0   \n",
       "1                          0                        0   \n",
       "2                          0                        0   \n",
       "3                          0                        0   \n",
       "4                          0                        0   \n",
       "\n",
       "   Lead Origin_Quick Add Form  Lead Source_Click2call  \\\n",
       "0                           0                       0   \n",
       "1                           0                       0   \n",
       "2                           0                       0   \n",
       "3                           0                       0   \n",
       "4                           0                       0   \n",
       "\n",
       "   Lead Source_Direct Traffic  Lead Source_Facebook  Lead Source_Google  \\\n",
       "0                           0                     0                   0   \n",
       "1                           0                     0                   0   \n",
       "2                           1                     0                   0   \n",
       "3                           1                     0                   0   \n",
       "4                           0                     0                   1   \n",
       "\n",
       "   Lead Source_Live Chat  ...  \\\n",
       "0                      0  ...   \n",
       "1                      0  ...   \n",
       "2                      0  ...   \n",
       "3                      0  ...   \n",
       "4                      0  ...   \n",
       "\n",
       "   Last Notable Activity_Form Submitted on Website  \\\n",
       "0                                                0   \n",
       "1                                                0   \n",
       "2                                                0   \n",
       "3                                                0   \n",
       "4                                                0   \n",
       "\n",
       "   Last Notable Activity_Had a Phone Conversation  \\\n",
       "0                                               0   \n",
       "1                                               0   \n",
       "2                                               0   \n",
       "3                                               0   \n",
       "4                                               0   \n",
       "\n",
       "   Last Notable Activity_Modified  \\\n",
       "0                               1   \n",
       "1                               0   \n",
       "2                               0   \n",
       "3                               1   \n",
       "4                               1   \n",
       "\n",
       "   Last Notable Activity_Olark Chat Conversation  \\\n",
       "0                                              0   \n",
       "1                                              0   \n",
       "2                                              0   \n",
       "3                                              0   \n",
       "4                                              0   \n",
       "\n",
       "   Last Notable Activity_Page Visited on Website  \\\n",
       "0                                              0   \n",
       "1                                              0   \n",
       "2                                              0   \n",
       "3                                              0   \n",
       "4                                              0   \n",
       "\n",
       "   Last Notable Activity_Resubscribed to emails  \\\n",
       "0                                             0   \n",
       "1                                             0   \n",
       "2                                             0   \n",
       "3                                             0   \n",
       "4                                             0   \n",
       "\n",
       "   Last Notable Activity_SMS Sent  Last Notable Activity_Unreachable  \\\n",
       "0                               0                                  0   \n",
       "1                               0                                  0   \n",
       "2                               0                                  0   \n",
       "3                               0                                  0   \n",
       "4                               0                                  0   \n",
       "\n",
       "   Last Notable Activity_Unsubscribed  \\\n",
       "0                                   0   \n",
       "1                                   0   \n",
       "2                                   0   \n",
       "3                                   0   \n",
       "4                                   0   \n",
       "\n",
       "   Last Notable Activity_View in browser link Clicked  \n",
       "0                                                  0   \n",
       "1                                                  0   \n",
       "2                                                  0   \n",
       "3                                                  0   \n",
       "4                                                  0   \n",
       "\n",
       "[5 rows x 115 columns]"
      ]
     },
     "execution_count": 45,
     "metadata": {},
     "output_type": "execute_result"
    }
   ],
   "source": [
    "df_dummy.head()"
   ]
  },
  {
   "cell_type": "code",
   "execution_count": 46,
   "metadata": {},
   "outputs": [],
   "source": [
    "leads = pd.concat([df_leads,df_dummy],axis=1)"
   ]
  },
  {
   "cell_type": "code",
   "execution_count": 47,
   "metadata": {},
   "outputs": [
    {
     "data": {
      "text/html": [
       "<div>\n",
       "<style scoped>\n",
       "    .dataframe tbody tr th:only-of-type {\n",
       "        vertical-align: middle;\n",
       "    }\n",
       "\n",
       "    .dataframe tbody tr th {\n",
       "        vertical-align: top;\n",
       "    }\n",
       "\n",
       "    .dataframe thead th {\n",
       "        text-align: right;\n",
       "    }\n",
       "</style>\n",
       "<table border=\"1\" class=\"dataframe\">\n",
       "  <thead>\n",
       "    <tr style=\"text-align: right;\">\n",
       "      <th></th>\n",
       "      <th>Lead Number</th>\n",
       "      <th>Lead Origin</th>\n",
       "      <th>Lead Source</th>\n",
       "      <th>Do Not Email</th>\n",
       "      <th>Do Not Call</th>\n",
       "      <th>Converted</th>\n",
       "      <th>TotalVisits</th>\n",
       "      <th>Total Time Spent on Website</th>\n",
       "      <th>Page Views Per Visit</th>\n",
       "      <th>Last Activity</th>\n",
       "      <th>...</th>\n",
       "      <th>Last Notable Activity_Form Submitted on Website</th>\n",
       "      <th>Last Notable Activity_Had a Phone Conversation</th>\n",
       "      <th>Last Notable Activity_Modified</th>\n",
       "      <th>Last Notable Activity_Olark Chat Conversation</th>\n",
       "      <th>Last Notable Activity_Page Visited on Website</th>\n",
       "      <th>Last Notable Activity_Resubscribed to emails</th>\n",
       "      <th>Last Notable Activity_SMS Sent</th>\n",
       "      <th>Last Notable Activity_Unreachable</th>\n",
       "      <th>Last Notable Activity_Unsubscribed</th>\n",
       "      <th>Last Notable Activity_View in browser link Clicked</th>\n",
       "    </tr>\n",
       "  </thead>\n",
       "  <tbody>\n",
       "    <tr>\n",
       "      <th>0</th>\n",
       "      <td>660737</td>\n",
       "      <td>API</td>\n",
       "      <td>Olark Chat</td>\n",
       "      <td>0</td>\n",
       "      <td>0</td>\n",
       "      <td>0</td>\n",
       "      <td>0.0</td>\n",
       "      <td>0</td>\n",
       "      <td>0.0</td>\n",
       "      <td>Page Visited on Website</td>\n",
       "      <td>...</td>\n",
       "      <td>0</td>\n",
       "      <td>0</td>\n",
       "      <td>1</td>\n",
       "      <td>0</td>\n",
       "      <td>0</td>\n",
       "      <td>0</td>\n",
       "      <td>0</td>\n",
       "      <td>0</td>\n",
       "      <td>0</td>\n",
       "      <td>0</td>\n",
       "    </tr>\n",
       "    <tr>\n",
       "      <th>1</th>\n",
       "      <td>660728</td>\n",
       "      <td>API</td>\n",
       "      <td>Organic Search</td>\n",
       "      <td>0</td>\n",
       "      <td>0</td>\n",
       "      <td>0</td>\n",
       "      <td>5.0</td>\n",
       "      <td>674</td>\n",
       "      <td>2.5</td>\n",
       "      <td>Email Opened</td>\n",
       "      <td>...</td>\n",
       "      <td>0</td>\n",
       "      <td>0</td>\n",
       "      <td>0</td>\n",
       "      <td>0</td>\n",
       "      <td>0</td>\n",
       "      <td>0</td>\n",
       "      <td>0</td>\n",
       "      <td>0</td>\n",
       "      <td>0</td>\n",
       "      <td>0</td>\n",
       "    </tr>\n",
       "    <tr>\n",
       "      <th>2</th>\n",
       "      <td>660727</td>\n",
       "      <td>Landing Page Submission</td>\n",
       "      <td>Direct Traffic</td>\n",
       "      <td>0</td>\n",
       "      <td>0</td>\n",
       "      <td>1</td>\n",
       "      <td>2.0</td>\n",
       "      <td>1532</td>\n",
       "      <td>2.0</td>\n",
       "      <td>Email Opened</td>\n",
       "      <td>...</td>\n",
       "      <td>0</td>\n",
       "      <td>0</td>\n",
       "      <td>0</td>\n",
       "      <td>0</td>\n",
       "      <td>0</td>\n",
       "      <td>0</td>\n",
       "      <td>0</td>\n",
       "      <td>0</td>\n",
       "      <td>0</td>\n",
       "      <td>0</td>\n",
       "    </tr>\n",
       "    <tr>\n",
       "      <th>3</th>\n",
       "      <td>660719</td>\n",
       "      <td>Landing Page Submission</td>\n",
       "      <td>Direct Traffic</td>\n",
       "      <td>0</td>\n",
       "      <td>0</td>\n",
       "      <td>0</td>\n",
       "      <td>1.0</td>\n",
       "      <td>305</td>\n",
       "      <td>1.0</td>\n",
       "      <td>Unreachable</td>\n",
       "      <td>...</td>\n",
       "      <td>0</td>\n",
       "      <td>0</td>\n",
       "      <td>1</td>\n",
       "      <td>0</td>\n",
       "      <td>0</td>\n",
       "      <td>0</td>\n",
       "      <td>0</td>\n",
       "      <td>0</td>\n",
       "      <td>0</td>\n",
       "      <td>0</td>\n",
       "    </tr>\n",
       "    <tr>\n",
       "      <th>4</th>\n",
       "      <td>660681</td>\n",
       "      <td>Landing Page Submission</td>\n",
       "      <td>Google</td>\n",
       "      <td>0</td>\n",
       "      <td>0</td>\n",
       "      <td>1</td>\n",
       "      <td>2.0</td>\n",
       "      <td>1428</td>\n",
       "      <td>1.0</td>\n",
       "      <td>Converted to Lead</td>\n",
       "      <td>...</td>\n",
       "      <td>0</td>\n",
       "      <td>0</td>\n",
       "      <td>1</td>\n",
       "      <td>0</td>\n",
       "      <td>0</td>\n",
       "      <td>0</td>\n",
       "      <td>0</td>\n",
       "      <td>0</td>\n",
       "      <td>0</td>\n",
       "      <td>0</td>\n",
       "    </tr>\n",
       "  </tbody>\n",
       "</table>\n",
       "<p>5 rows × 131 columns</p>\n",
       "</div>"
      ],
      "text/plain": [
       "   Lead Number              Lead Origin     Lead Source  Do Not Email  \\\n",
       "0       660737                      API      Olark Chat             0   \n",
       "1       660728                      API  Organic Search             0   \n",
       "2       660727  Landing Page Submission  Direct Traffic             0   \n",
       "3       660719  Landing Page Submission  Direct Traffic             0   \n",
       "4       660681  Landing Page Submission          Google             0   \n",
       "\n",
       "   Do Not Call  Converted  TotalVisits  Total Time Spent on Website  \\\n",
       "0            0          0          0.0                            0   \n",
       "1            0          0          5.0                          674   \n",
       "2            0          1          2.0                         1532   \n",
       "3            0          0          1.0                          305   \n",
       "4            0          1          2.0                         1428   \n",
       "\n",
       "   Page Views Per Visit            Last Activity  ...  \\\n",
       "0                   0.0  Page Visited on Website  ...   \n",
       "1                   2.5             Email Opened  ...   \n",
       "2                   2.0             Email Opened  ...   \n",
       "3                   1.0              Unreachable  ...   \n",
       "4                   1.0        Converted to Lead  ...   \n",
       "\n",
       "  Last Notable Activity_Form Submitted on Website  \\\n",
       "0                                               0   \n",
       "1                                               0   \n",
       "2                                               0   \n",
       "3                                               0   \n",
       "4                                               0   \n",
       "\n",
       "  Last Notable Activity_Had a Phone Conversation  \\\n",
       "0                                              0   \n",
       "1                                              0   \n",
       "2                                              0   \n",
       "3                                              0   \n",
       "4                                              0   \n",
       "\n",
       "  Last Notable Activity_Modified  \\\n",
       "0                              1   \n",
       "1                              0   \n",
       "2                              0   \n",
       "3                              1   \n",
       "4                              1   \n",
       "\n",
       "  Last Notable Activity_Olark Chat Conversation  \\\n",
       "0                                             0   \n",
       "1                                             0   \n",
       "2                                             0   \n",
       "3                                             0   \n",
       "4                                             0   \n",
       "\n",
       "   Last Notable Activity_Page Visited on Website  \\\n",
       "0                                              0   \n",
       "1                                              0   \n",
       "2                                              0   \n",
       "3                                              0   \n",
       "4                                              0   \n",
       "\n",
       "  Last Notable Activity_Resubscribed to emails  \\\n",
       "0                                            0   \n",
       "1                                            0   \n",
       "2                                            0   \n",
       "3                                            0   \n",
       "4                                            0   \n",
       "\n",
       "   Last Notable Activity_SMS Sent  Last Notable Activity_Unreachable  \\\n",
       "0                               0                                  0   \n",
       "1                               0                                  0   \n",
       "2                               0                                  0   \n",
       "3                               0                                  0   \n",
       "4                               0                                  0   \n",
       "\n",
       "   Last Notable Activity_Unsubscribed  \\\n",
       "0                                   0   \n",
       "1                                   0   \n",
       "2                                   0   \n",
       "3                                   0   \n",
       "4                                   0   \n",
       "\n",
       "   Last Notable Activity_View in browser link Clicked  \n",
       "0                                                  0   \n",
       "1                                                  0   \n",
       "2                                                  0   \n",
       "3                                                  0   \n",
       "4                                                  0   \n",
       "\n",
       "[5 rows x 131 columns]"
      ]
     },
     "execution_count": 47,
     "metadata": {},
     "output_type": "execute_result"
    }
   ],
   "source": [
    "leads.head()"
   ]
  },
  {
   "cell_type": "code",
   "execution_count": 48,
   "metadata": {},
   "outputs": [
    {
     "data": {
      "text/plain": [
       "(9240, 131)"
      ]
     },
     "execution_count": 48,
     "metadata": {},
     "output_type": "execute_result"
    }
   ],
   "source": [
    "leads.shape"
   ]
  },
  {
   "cell_type": "code",
   "execution_count": 49,
   "metadata": {},
   "outputs": [
    {
     "data": {
      "text/plain": [
       "(9240, 123)"
      ]
     },
     "execution_count": 49,
     "metadata": {},
     "output_type": "execute_result"
    }
   ],
   "source": [
    "# Dropping columns\n",
    "leads.drop(['Lead Origin', 'Lead Source', 'Last Activity',\n",
    "                           'Specialization', 'What is your current occupation', 'Tags','Lead Quality','Last Notable Activity'],\n",
    "           axis=1,inplace=True)\n",
    "leads.shape"
   ]
  },
  {
   "cell_type": "markdown",
   "metadata": {},
   "source": [
    "## Creating traning data\n"
   ]
  },
  {
   "cell_type": "code",
   "execution_count": 50,
   "metadata": {},
   "outputs": [
    {
     "data": {
      "text/html": [
       "<div>\n",
       "<style scoped>\n",
       "    .dataframe tbody tr th:only-of-type {\n",
       "        vertical-align: middle;\n",
       "    }\n",
       "\n",
       "    .dataframe tbody tr th {\n",
       "        vertical-align: top;\n",
       "    }\n",
       "\n",
       "    .dataframe thead th {\n",
       "        text-align: right;\n",
       "    }\n",
       "</style>\n",
       "<table border=\"1\" class=\"dataframe\">\n",
       "  <thead>\n",
       "    <tr style=\"text-align: right;\">\n",
       "      <th></th>\n",
       "      <th>Do Not Email</th>\n",
       "      <th>Do Not Call</th>\n",
       "      <th>TotalVisits</th>\n",
       "      <th>Total Time Spent on Website</th>\n",
       "      <th>Page Views Per Visit</th>\n",
       "      <th>A free copy of Mastering The Interview</th>\n",
       "      <th>Lead Origin_API</th>\n",
       "      <th>Lead Origin_Landing Page Submission</th>\n",
       "      <th>Lead Origin_Lead Add Form</th>\n",
       "      <th>Lead Origin_Lead Import</th>\n",
       "      <th>...</th>\n",
       "      <th>Last Notable Activity_Form Submitted on Website</th>\n",
       "      <th>Last Notable Activity_Had a Phone Conversation</th>\n",
       "      <th>Last Notable Activity_Modified</th>\n",
       "      <th>Last Notable Activity_Olark Chat Conversation</th>\n",
       "      <th>Last Notable Activity_Page Visited on Website</th>\n",
       "      <th>Last Notable Activity_Resubscribed to emails</th>\n",
       "      <th>Last Notable Activity_SMS Sent</th>\n",
       "      <th>Last Notable Activity_Unreachable</th>\n",
       "      <th>Last Notable Activity_Unsubscribed</th>\n",
       "      <th>Last Notable Activity_View in browser link Clicked</th>\n",
       "    </tr>\n",
       "  </thead>\n",
       "  <tbody>\n",
       "    <tr>\n",
       "      <th>0</th>\n",
       "      <td>0</td>\n",
       "      <td>0</td>\n",
       "      <td>0.0</td>\n",
       "      <td>0</td>\n",
       "      <td>0.0</td>\n",
       "      <td>0</td>\n",
       "      <td>1</td>\n",
       "      <td>0</td>\n",
       "      <td>0</td>\n",
       "      <td>0</td>\n",
       "      <td>...</td>\n",
       "      <td>0</td>\n",
       "      <td>0</td>\n",
       "      <td>1</td>\n",
       "      <td>0</td>\n",
       "      <td>0</td>\n",
       "      <td>0</td>\n",
       "      <td>0</td>\n",
       "      <td>0</td>\n",
       "      <td>0</td>\n",
       "      <td>0</td>\n",
       "    </tr>\n",
       "    <tr>\n",
       "      <th>1</th>\n",
       "      <td>0</td>\n",
       "      <td>0</td>\n",
       "      <td>5.0</td>\n",
       "      <td>674</td>\n",
       "      <td>2.5</td>\n",
       "      <td>0</td>\n",
       "      <td>1</td>\n",
       "      <td>0</td>\n",
       "      <td>0</td>\n",
       "      <td>0</td>\n",
       "      <td>...</td>\n",
       "      <td>0</td>\n",
       "      <td>0</td>\n",
       "      <td>0</td>\n",
       "      <td>0</td>\n",
       "      <td>0</td>\n",
       "      <td>0</td>\n",
       "      <td>0</td>\n",
       "      <td>0</td>\n",
       "      <td>0</td>\n",
       "      <td>0</td>\n",
       "    </tr>\n",
       "    <tr>\n",
       "      <th>2</th>\n",
       "      <td>0</td>\n",
       "      <td>0</td>\n",
       "      <td>2.0</td>\n",
       "      <td>1532</td>\n",
       "      <td>2.0</td>\n",
       "      <td>1</td>\n",
       "      <td>0</td>\n",
       "      <td>1</td>\n",
       "      <td>0</td>\n",
       "      <td>0</td>\n",
       "      <td>...</td>\n",
       "      <td>0</td>\n",
       "      <td>0</td>\n",
       "      <td>0</td>\n",
       "      <td>0</td>\n",
       "      <td>0</td>\n",
       "      <td>0</td>\n",
       "      <td>0</td>\n",
       "      <td>0</td>\n",
       "      <td>0</td>\n",
       "      <td>0</td>\n",
       "    </tr>\n",
       "    <tr>\n",
       "      <th>3</th>\n",
       "      <td>0</td>\n",
       "      <td>0</td>\n",
       "      <td>1.0</td>\n",
       "      <td>305</td>\n",
       "      <td>1.0</td>\n",
       "      <td>0</td>\n",
       "      <td>0</td>\n",
       "      <td>1</td>\n",
       "      <td>0</td>\n",
       "      <td>0</td>\n",
       "      <td>...</td>\n",
       "      <td>0</td>\n",
       "      <td>0</td>\n",
       "      <td>1</td>\n",
       "      <td>0</td>\n",
       "      <td>0</td>\n",
       "      <td>0</td>\n",
       "      <td>0</td>\n",
       "      <td>0</td>\n",
       "      <td>0</td>\n",
       "      <td>0</td>\n",
       "    </tr>\n",
       "    <tr>\n",
       "      <th>4</th>\n",
       "      <td>0</td>\n",
       "      <td>0</td>\n",
       "      <td>2.0</td>\n",
       "      <td>1428</td>\n",
       "      <td>1.0</td>\n",
       "      <td>0</td>\n",
       "      <td>0</td>\n",
       "      <td>1</td>\n",
       "      <td>0</td>\n",
       "      <td>0</td>\n",
       "      <td>...</td>\n",
       "      <td>0</td>\n",
       "      <td>0</td>\n",
       "      <td>1</td>\n",
       "      <td>0</td>\n",
       "      <td>0</td>\n",
       "      <td>0</td>\n",
       "      <td>0</td>\n",
       "      <td>0</td>\n",
       "      <td>0</td>\n",
       "      <td>0</td>\n",
       "    </tr>\n",
       "  </tbody>\n",
       "</table>\n",
       "<p>5 rows × 121 columns</p>\n",
       "</div>"
      ],
      "text/plain": [
       "   Do Not Email  Do Not Call  TotalVisits  Total Time Spent on Website  \\\n",
       "0             0            0          0.0                            0   \n",
       "1             0            0          5.0                          674   \n",
       "2             0            0          2.0                         1532   \n",
       "3             0            0          1.0                          305   \n",
       "4             0            0          2.0                         1428   \n",
       "\n",
       "   Page Views Per Visit  A free copy of Mastering The Interview  \\\n",
       "0                   0.0                                       0   \n",
       "1                   2.5                                       0   \n",
       "2                   2.0                                       1   \n",
       "3                   1.0                                       0   \n",
       "4                   1.0                                       0   \n",
       "\n",
       "   Lead Origin_API  Lead Origin_Landing Page Submission  \\\n",
       "0                1                                    0   \n",
       "1                1                                    0   \n",
       "2                0                                    1   \n",
       "3                0                                    1   \n",
       "4                0                                    1   \n",
       "\n",
       "   Lead Origin_Lead Add Form  Lead Origin_Lead Import  ...  \\\n",
       "0                          0                        0  ...   \n",
       "1                          0                        0  ...   \n",
       "2                          0                        0  ...   \n",
       "3                          0                        0  ...   \n",
       "4                          0                        0  ...   \n",
       "\n",
       "   Last Notable Activity_Form Submitted on Website  \\\n",
       "0                                                0   \n",
       "1                                                0   \n",
       "2                                                0   \n",
       "3                                                0   \n",
       "4                                                0   \n",
       "\n",
       "   Last Notable Activity_Had a Phone Conversation  \\\n",
       "0                                               0   \n",
       "1                                               0   \n",
       "2                                               0   \n",
       "3                                               0   \n",
       "4                                               0   \n",
       "\n",
       "   Last Notable Activity_Modified  \\\n",
       "0                               1   \n",
       "1                               0   \n",
       "2                               0   \n",
       "3                               1   \n",
       "4                               1   \n",
       "\n",
       "   Last Notable Activity_Olark Chat Conversation  \\\n",
       "0                                              0   \n",
       "1                                              0   \n",
       "2                                              0   \n",
       "3                                              0   \n",
       "4                                              0   \n",
       "\n",
       "   Last Notable Activity_Page Visited on Website  \\\n",
       "0                                              0   \n",
       "1                                              0   \n",
       "2                                              0   \n",
       "3                                              0   \n",
       "4                                              0   \n",
       "\n",
       "   Last Notable Activity_Resubscribed to emails  \\\n",
       "0                                             0   \n",
       "1                                             0   \n",
       "2                                             0   \n",
       "3                                             0   \n",
       "4                                             0   \n",
       "\n",
       "   Last Notable Activity_SMS Sent  Last Notable Activity_Unreachable  \\\n",
       "0                               0                                  0   \n",
       "1                               0                                  0   \n",
       "2                               0                                  0   \n",
       "3                               0                                  0   \n",
       "4                               0                                  0   \n",
       "\n",
       "   Last Notable Activity_Unsubscribed  \\\n",
       "0                                   0   \n",
       "1                                   0   \n",
       "2                                   0   \n",
       "3                                   0   \n",
       "4                                   0   \n",
       "\n",
       "   Last Notable Activity_View in browser link Clicked  \n",
       "0                                                  0   \n",
       "1                                                  0   \n",
       "2                                                  0   \n",
       "3                                                  0   \n",
       "4                                                  0   \n",
       "\n",
       "[5 rows x 121 columns]"
      ]
     },
     "execution_count": 50,
     "metadata": {},
     "output_type": "execute_result"
    }
   ],
   "source": [
    "# X axis\n",
    "X = leads.drop(['Converted','Lead Number'],axis=1)\n",
    "X.head()"
   ]
  },
  {
   "cell_type": "code",
   "execution_count": 51,
   "metadata": {},
   "outputs": [
    {
     "data": {
      "text/plain": [
       "0    0\n",
       "1    0\n",
       "2    1\n",
       "3    0\n",
       "4    1\n",
       "Name: Converted, dtype: int64"
      ]
     },
     "execution_count": 51,
     "metadata": {},
     "output_type": "execute_result"
    }
   ],
   "source": [
    "# Y axis = Converted\n",
    "y = leads.Converted \n",
    "y.head()"
   ]
  },
  {
   "cell_type": "code",
   "execution_count": 52,
   "metadata": {},
   "outputs": [],
   "source": [
    "# splitting test train data\n",
    "X_train, X_test, y_train,y_test = train_test_split(X,y,train_size=0.7,test_size=0.3,random_state=100)"
   ]
  },
  {
   "cell_type": "code",
   "execution_count": 53,
   "metadata": {},
   "outputs": [
    {
     "data": {
      "text/html": [
       "<div>\n",
       "<style scoped>\n",
       "    .dataframe tbody tr th:only-of-type {\n",
       "        vertical-align: middle;\n",
       "    }\n",
       "\n",
       "    .dataframe tbody tr th {\n",
       "        vertical-align: top;\n",
       "    }\n",
       "\n",
       "    .dataframe thead th {\n",
       "        text-align: right;\n",
       "    }\n",
       "</style>\n",
       "<table border=\"1\" class=\"dataframe\">\n",
       "  <thead>\n",
       "    <tr style=\"text-align: right;\">\n",
       "      <th></th>\n",
       "      <th>Do Not Email</th>\n",
       "      <th>Do Not Call</th>\n",
       "      <th>TotalVisits</th>\n",
       "      <th>Total Time Spent on Website</th>\n",
       "      <th>Page Views Per Visit</th>\n",
       "      <th>A free copy of Mastering The Interview</th>\n",
       "      <th>Lead Origin_API</th>\n",
       "      <th>Lead Origin_Landing Page Submission</th>\n",
       "      <th>Lead Origin_Lead Add Form</th>\n",
       "      <th>Lead Origin_Lead Import</th>\n",
       "      <th>...</th>\n",
       "      <th>Last Notable Activity_Form Submitted on Website</th>\n",
       "      <th>Last Notable Activity_Had a Phone Conversation</th>\n",
       "      <th>Last Notable Activity_Modified</th>\n",
       "      <th>Last Notable Activity_Olark Chat Conversation</th>\n",
       "      <th>Last Notable Activity_Page Visited on Website</th>\n",
       "      <th>Last Notable Activity_Resubscribed to emails</th>\n",
       "      <th>Last Notable Activity_SMS Sent</th>\n",
       "      <th>Last Notable Activity_Unreachable</th>\n",
       "      <th>Last Notable Activity_Unsubscribed</th>\n",
       "      <th>Last Notable Activity_View in browser link Clicked</th>\n",
       "    </tr>\n",
       "  </thead>\n",
       "  <tbody>\n",
       "    <tr>\n",
       "      <th>1871</th>\n",
       "      <td>0</td>\n",
       "      <td>0</td>\n",
       "      <td>-0.645678</td>\n",
       "      <td>-0.885371</td>\n",
       "      <td>-1.062143</td>\n",
       "      <td>0</td>\n",
       "      <td>1</td>\n",
       "      <td>0</td>\n",
       "      <td>0</td>\n",
       "      <td>0</td>\n",
       "      <td>...</td>\n",
       "      <td>0</td>\n",
       "      <td>0</td>\n",
       "      <td>0</td>\n",
       "      <td>0</td>\n",
       "      <td>0</td>\n",
       "      <td>0</td>\n",
       "      <td>0</td>\n",
       "      <td>0</td>\n",
       "      <td>0</td>\n",
       "      <td>0</td>\n",
       "    </tr>\n",
       "    <tr>\n",
       "      <th>6795</th>\n",
       "      <td>0</td>\n",
       "      <td>0</td>\n",
       "      <td>0.109111</td>\n",
       "      <td>0.005716</td>\n",
       "      <td>-0.452487</td>\n",
       "      <td>1</td>\n",
       "      <td>0</td>\n",
       "      <td>1</td>\n",
       "      <td>0</td>\n",
       "      <td>0</td>\n",
       "      <td>...</td>\n",
       "      <td>0</td>\n",
       "      <td>0</td>\n",
       "      <td>0</td>\n",
       "      <td>0</td>\n",
       "      <td>0</td>\n",
       "      <td>0</td>\n",
       "      <td>0</td>\n",
       "      <td>0</td>\n",
       "      <td>0</td>\n",
       "      <td>0</td>\n",
       "    </tr>\n",
       "    <tr>\n",
       "      <th>3516</th>\n",
       "      <td>0</td>\n",
       "      <td>0</td>\n",
       "      <td>0.297808</td>\n",
       "      <td>-0.691418</td>\n",
       "      <td>0.083827</td>\n",
       "      <td>0</td>\n",
       "      <td>1</td>\n",
       "      <td>0</td>\n",
       "      <td>0</td>\n",
       "      <td>0</td>\n",
       "      <td>...</td>\n",
       "      <td>0</td>\n",
       "      <td>0</td>\n",
       "      <td>0</td>\n",
       "      <td>0</td>\n",
       "      <td>0</td>\n",
       "      <td>0</td>\n",
       "      <td>0</td>\n",
       "      <td>0</td>\n",
       "      <td>0</td>\n",
       "      <td>0</td>\n",
       "    </tr>\n",
       "    <tr>\n",
       "      <th>8105</th>\n",
       "      <td>0</td>\n",
       "      <td>0</td>\n",
       "      <td>0.297808</td>\n",
       "      <td>1.365219</td>\n",
       "      <td>1.229797</td>\n",
       "      <td>0</td>\n",
       "      <td>0</td>\n",
       "      <td>1</td>\n",
       "      <td>0</td>\n",
       "      <td>0</td>\n",
       "      <td>...</td>\n",
       "      <td>0</td>\n",
       "      <td>0</td>\n",
       "      <td>0</td>\n",
       "      <td>0</td>\n",
       "      <td>0</td>\n",
       "      <td>0</td>\n",
       "      <td>1</td>\n",
       "      <td>0</td>\n",
       "      <td>0</td>\n",
       "      <td>0</td>\n",
       "    </tr>\n",
       "    <tr>\n",
       "      <th>3934</th>\n",
       "      <td>0</td>\n",
       "      <td>0</td>\n",
       "      <td>-0.645678</td>\n",
       "      <td>-0.885371</td>\n",
       "      <td>-1.062143</td>\n",
       "      <td>0</td>\n",
       "      <td>1</td>\n",
       "      <td>0</td>\n",
       "      <td>0</td>\n",
       "      <td>0</td>\n",
       "      <td>...</td>\n",
       "      <td>0</td>\n",
       "      <td>0</td>\n",
       "      <td>1</td>\n",
       "      <td>0</td>\n",
       "      <td>0</td>\n",
       "      <td>0</td>\n",
       "      <td>0</td>\n",
       "      <td>0</td>\n",
       "      <td>0</td>\n",
       "      <td>0</td>\n",
       "    </tr>\n",
       "  </tbody>\n",
       "</table>\n",
       "<p>5 rows × 121 columns</p>\n",
       "</div>"
      ],
      "text/plain": [
       "      Do Not Email  Do Not Call  TotalVisits  Total Time Spent on Website  \\\n",
       "1871             0            0    -0.645678                    -0.885371   \n",
       "6795             0            0     0.109111                     0.005716   \n",
       "3516             0            0     0.297808                    -0.691418   \n",
       "8105             0            0     0.297808                     1.365219   \n",
       "3934             0            0    -0.645678                    -0.885371   \n",
       "\n",
       "      Page Views Per Visit  A free copy of Mastering The Interview  \\\n",
       "1871             -1.062143                                       0   \n",
       "6795             -0.452487                                       1   \n",
       "3516              0.083827                                       0   \n",
       "8105              1.229797                                       0   \n",
       "3934             -1.062143                                       0   \n",
       "\n",
       "      Lead Origin_API  Lead Origin_Landing Page Submission  \\\n",
       "1871                1                                    0   \n",
       "6795                0                                    1   \n",
       "3516                1                                    0   \n",
       "8105                0                                    1   \n",
       "3934                1                                    0   \n",
       "\n",
       "      Lead Origin_Lead Add Form  Lead Origin_Lead Import  ...  \\\n",
       "1871                          0                        0  ...   \n",
       "6795                          0                        0  ...   \n",
       "3516                          0                        0  ...   \n",
       "8105                          0                        0  ...   \n",
       "3934                          0                        0  ...   \n",
       "\n",
       "      Last Notable Activity_Form Submitted on Website  \\\n",
       "1871                                                0   \n",
       "6795                                                0   \n",
       "3516                                                0   \n",
       "8105                                                0   \n",
       "3934                                                0   \n",
       "\n",
       "      Last Notable Activity_Had a Phone Conversation  \\\n",
       "1871                                               0   \n",
       "6795                                               0   \n",
       "3516                                               0   \n",
       "8105                                               0   \n",
       "3934                                               0   \n",
       "\n",
       "      Last Notable Activity_Modified  \\\n",
       "1871                               0   \n",
       "6795                               0   \n",
       "3516                               0   \n",
       "8105                               0   \n",
       "3934                               1   \n",
       "\n",
       "      Last Notable Activity_Olark Chat Conversation  \\\n",
       "1871                                              0   \n",
       "6795                                              0   \n",
       "3516                                              0   \n",
       "8105                                              0   \n",
       "3934                                              0   \n",
       "\n",
       "      Last Notable Activity_Page Visited on Website  \\\n",
       "1871                                              0   \n",
       "6795                                              0   \n",
       "3516                                              0   \n",
       "8105                                              0   \n",
       "3934                                              0   \n",
       "\n",
       "      Last Notable Activity_Resubscribed to emails  \\\n",
       "1871                                             0   \n",
       "6795                                             0   \n",
       "3516                                             0   \n",
       "8105                                             0   \n",
       "3934                                             0   \n",
       "\n",
       "      Last Notable Activity_SMS Sent  Last Notable Activity_Unreachable  \\\n",
       "1871                               0                                  0   \n",
       "6795                               0                                  0   \n",
       "3516                               0                                  0   \n",
       "8105                               1                                  0   \n",
       "3934                               0                                  0   \n",
       "\n",
       "      Last Notable Activity_Unsubscribed  \\\n",
       "1871                                   0   \n",
       "6795                                   0   \n",
       "3516                                   0   \n",
       "8105                                   0   \n",
       "3934                                   0   \n",
       "\n",
       "      Last Notable Activity_View in browser link Clicked  \n",
       "1871                                                  0   \n",
       "6795                                                  0   \n",
       "3516                                                  0   \n",
       "8105                                                  0   \n",
       "3934                                                  0   \n",
       "\n",
       "[5 rows x 121 columns]"
      ]
     },
     "execution_count": 53,
     "metadata": {},
     "output_type": "execute_result"
    }
   ],
   "source": [
    "#Scaling\n",
    "\n",
    "scaler = StandardScaler()\n",
    "X_train[['TotalVisits','Total Time Spent on Website','Page Views Per Visit']] = scaler.fit_transform(X_train[['TotalVisits','Total Time Spent on Website','Page Views Per Visit']])\n",
    "\n",
    "X_train.head()"
   ]
  },
  {
   "cell_type": "code",
   "execution_count": 54,
   "metadata": {},
   "outputs": [
    {
     "data": {
      "text/plain": [
       "38.53896103896104"
      ]
     },
     "execution_count": 54,
     "metadata": {},
     "output_type": "execute_result"
    }
   ],
   "source": [
    "(sum(leads['Converted'])/len(leads['Converted'].index))*100 #Checking conversion rate"
   ]
  },
  {
   "cell_type": "code",
   "execution_count": 55,
   "metadata": {},
   "outputs": [],
   "source": [
    "## Building model"
   ]
  },
  {
   "cell_type": "code",
   "execution_count": 56,
   "metadata": {
    "scrolled": false
   },
   "outputs": [
    {
     "data": {
      "text/html": [
       "<table class=\"simpletable\">\n",
       "<caption>Generalized Linear Model Regression Results</caption>\n",
       "<tr>\n",
       "  <th>Dep. Variable:</th>       <td>Converted</td>    <th>  No. Observations:  </th>  <td>  6468</td> \n",
       "</tr>\n",
       "<tr>\n",
       "  <th>Model:</th>                  <td>GLM</td>       <th>  Df Residuals:      </th>  <td>  6358</td> \n",
       "</tr>\n",
       "<tr>\n",
       "  <th>Model Family:</th>        <td>Binomial</td>     <th>  Df Model:          </th>  <td>   109</td> \n",
       "</tr>\n",
       "<tr>\n",
       "  <th>Link Function:</th>         <td>logit</td>      <th>  Scale:             </th> <td>  1.0000</td>\n",
       "</tr>\n",
       "<tr>\n",
       "  <th>Method:</th>                <td>IRLS</td>       <th>  Log-Likelihood:    </th> <td>     nan</td>\n",
       "</tr>\n",
       "<tr>\n",
       "  <th>Date:</th>            <td>Mon, 14 Jun 2021</td> <th>  Deviance:          </th> <td>     nan</td>\n",
       "</tr>\n",
       "<tr>\n",
       "  <th>Time:</th>                <td>22:06:35</td>     <th>  Pearson chi2:      </th> <td>3.13e+18</td>\n",
       "</tr>\n",
       "<tr>\n",
       "  <th>No. Iterations:</th>         <td>100</td>       <th>                     </th>     <td> </td>   \n",
       "</tr>\n",
       "<tr>\n",
       "  <th>Covariance Type:</th>     <td>nonrobust</td>    <th>                     </th>     <td> </td>   \n",
       "</tr>\n",
       "</table>\n",
       "<table class=\"simpletable\">\n",
       "<tr>\n",
       "                             <td></td>                               <th>coef</th>     <th>std err</th>      <th>z</th>      <th>P>|z|</th>  <th>[0.025</th>    <th>0.975]</th>  \n",
       "</tr>\n",
       "<tr>\n",
       "  <th>const</th>                                                  <td> 7.338e+14</td> <td> 1.31e+07</td> <td>  5.6e+07</td> <td> 0.000</td> <td> 7.34e+14</td> <td> 7.34e+14</td>\n",
       "</tr>\n",
       "<tr>\n",
       "  <th>Do Not Email</th>                                           <td> -1.32e+14</td> <td> 4.47e+06</td> <td>-2.95e+07</td> <td> 0.000</td> <td>-1.32e+14</td> <td>-1.32e+14</td>\n",
       "</tr>\n",
       "<tr>\n",
       "  <th>Do Not Call</th>                                            <td> 1.223e+15</td> <td> 4.78e+07</td> <td> 2.56e+07</td> <td> 0.000</td> <td> 1.22e+15</td> <td> 1.22e+15</td>\n",
       "</tr>\n",
       "<tr>\n",
       "  <th>TotalVisits</th>                                            <td> 5.094e+13</td> <td>    1e+06</td> <td> 5.09e+07</td> <td> 0.000</td> <td> 5.09e+13</td> <td> 5.09e+13</td>\n",
       "</tr>\n",
       "<tr>\n",
       "  <th>Total Time Spent on Website</th>                            <td> 2.549e+14</td> <td> 9.99e+05</td> <td> 2.55e+08</td> <td> 0.000</td> <td> 2.55e+14</td> <td> 2.55e+14</td>\n",
       "</tr>\n",
       "<tr>\n",
       "  <th>Page Views Per Visit</th>                                   <td> -3.14e+13</td> <td> 1.22e+06</td> <td>-2.58e+07</td> <td> 0.000</td> <td>-3.14e+13</td> <td>-3.14e+13</td>\n",
       "</tr>\n",
       "<tr>\n",
       "  <th>A free copy of Mastering The Interview</th>                 <td> 2.831e+13</td> <td> 2.68e+06</td> <td> 1.06e+07</td> <td> 0.000</td> <td> 2.83e+13</td> <td> 2.83e+13</td>\n",
       "</tr>\n",
       "<tr>\n",
       "  <th>Lead Origin_API</th>                                        <td>-7.164e+14</td> <td> 1.54e+07</td> <td>-4.64e+07</td> <td> 0.000</td> <td>-7.16e+14</td> <td>-7.16e+14</td>\n",
       "</tr>\n",
       "<tr>\n",
       "  <th>Lead Origin_Landing Page Submission</th>                    <td>-8.606e+14</td> <td> 1.54e+07</td> <td>-5.58e+07</td> <td> 0.000</td> <td>-8.61e+14</td> <td>-8.61e+14</td>\n",
       "</tr>\n",
       "<tr>\n",
       "  <th>Lead Origin_Lead Add Form</th>                              <td>-5.206e+14</td> <td> 1.83e+07</td> <td>-2.84e+07</td> <td> 0.000</td> <td>-5.21e+14</td> <td>-5.21e+14</td>\n",
       "</tr>\n",
       "<tr>\n",
       "  <th>Lead Origin_Lead Import</th>                                <td> 1.284e+15</td> <td> 4.17e+07</td> <td> 3.08e+07</td> <td> 0.000</td> <td> 1.28e+15</td> <td> 1.28e+15</td>\n",
       "</tr>\n",
       "<tr>\n",
       "  <th>Lead Origin_Quick Add Form</th>                             <td> 1.548e+15</td> <td> 5.66e+07</td> <td> 2.74e+07</td> <td> 0.000</td> <td> 1.55e+15</td> <td> 1.55e+15</td>\n",
       "</tr>\n",
       "<tr>\n",
       "  <th>Lead Source_Click2call</th>                                 <td> 3.677e+14</td> <td> 4.12e+07</td> <td> 8.92e+06</td> <td> 0.000</td> <td> 3.68e+14</td> <td> 3.68e+14</td>\n",
       "</tr>\n",
       "<tr>\n",
       "  <th>Lead Source_Direct Traffic</th>                             <td> 4.172e+14</td> <td> 1.04e+07</td> <td>    4e+07</td> <td> 0.000</td> <td> 4.17e+14</td> <td> 4.17e+14</td>\n",
       "</tr>\n",
       "<tr>\n",
       "  <th>Lead Source_Facebook</th>                                   <td>-1.684e+15</td> <td>  4.7e+07</td> <td>-3.58e+07</td> <td> 0.000</td> <td>-1.68e+15</td> <td>-1.68e+15</td>\n",
       "</tr>\n",
       "<tr>\n",
       "  <th>Lead Source_Google</th>                                     <td>  4.41e+14</td> <td> 1.03e+07</td> <td>  4.3e+07</td> <td> 0.000</td> <td> 4.41e+14</td> <td> 4.41e+14</td>\n",
       "</tr>\n",
       "<tr>\n",
       "  <th>Lead Source_Live Chat</th>                                  <td> 4.116e+15</td> <td> 4.73e+07</td> <td>  8.7e+07</td> <td> 0.000</td> <td> 4.12e+15</td> <td> 4.12e+15</td>\n",
       "</tr>\n",
       "<tr>\n",
       "  <th>Lead Source_NC_EDM</th>                                     <td> 5.946e+15</td> <td> 6.47e+07</td> <td> 9.19e+07</td> <td> 0.000</td> <td> 5.95e+15</td> <td> 5.95e+15</td>\n",
       "</tr>\n",
       "<tr>\n",
       "  <th>Lead Source_Olark Chat</th>                                 <td> 6.446e+14</td> <td> 1.06e+07</td> <td> 6.06e+07</td> <td> 0.000</td> <td> 6.45e+14</td> <td> 6.45e+14</td>\n",
       "</tr>\n",
       "<tr>\n",
       "  <th>Lead Source_Organic Search</th>                             <td> 4.438e+14</td> <td> 1.05e+07</td> <td> 4.22e+07</td> <td> 0.000</td> <td> 4.44e+14</td> <td> 4.44e+14</td>\n",
       "</tr>\n",
       "<tr>\n",
       "  <th>Lead Source_Pay per Click Ads</th>                          <td>-2.266e+15</td> <td> 6.47e+07</td> <td> -3.5e+07</td> <td> 0.000</td> <td>-2.27e+15</td> <td>-2.27e+15</td>\n",
       "</tr>\n",
       "<tr>\n",
       "  <th>Lead Source_Press_Release</th>                              <td>-3.072e+15</td> <td> 4.68e+07</td> <td>-6.57e+07</td> <td> 0.000</td> <td>-3.07e+15</td> <td>-3.07e+15</td>\n",
       "</tr>\n",
       "<tr>\n",
       "  <th>Lead Source_Reference</th>                                  <td> 3.607e+14</td> <td> 1.48e+07</td> <td> 2.44e+07</td> <td> 0.000</td> <td> 3.61e+14</td> <td> 3.61e+14</td>\n",
       "</tr>\n",
       "<tr>\n",
       "  <th>Lead Source_Referral Sites</th>                             <td> 3.729e+14</td> <td> 1.23e+07</td> <td> 3.03e+07</td> <td> 0.000</td> <td> 3.73e+14</td> <td> 3.73e+14</td>\n",
       "</tr>\n",
       "<tr>\n",
       "  <th>Lead Source_Social Media</th>                               <td> 9.141e+14</td> <td> 4.65e+07</td> <td> 1.97e+07</td> <td> 0.000</td> <td> 9.14e+14</td> <td> 9.14e+14</td>\n",
       "</tr>\n",
       "<tr>\n",
       "  <th>Lead Source_WeLearn</th>                                    <td> 4.359e+15</td> <td> 6.47e+07</td> <td> 6.73e+07</td> <td> 0.000</td> <td> 4.36e+15</td> <td> 4.36e+15</td>\n",
       "</tr>\n",
       "<tr>\n",
       "  <th>Lead Source_Welingak Website</th>                           <td> 1.243e+15</td> <td> 1.58e+07</td> <td> 7.86e+07</td> <td> 0.000</td> <td> 1.24e+15</td> <td> 1.24e+15</td>\n",
       "</tr>\n",
       "<tr>\n",
       "  <th>Lead Source_bing</th>                                       <td> 1.016e+15</td> <td> 3.83e+07</td> <td> 2.65e+07</td> <td> 0.000</td> <td> 1.02e+15</td> <td> 1.02e+15</td>\n",
       "</tr>\n",
       "<tr>\n",
       "  <th>Lead Source_blog</th>                                       <td>-3.179e+15</td> <td> 6.47e+07</td> <td>-4.91e+07</td> <td> 0.000</td> <td>-3.18e+15</td> <td>-3.18e+15</td>\n",
       "</tr>\n",
       "<tr>\n",
       "  <th>Lead Source_google</th>                                     <td> -3.45e+15</td> <td> 3.07e+07</td> <td>-1.13e+08</td> <td> 0.000</td> <td>-3.45e+15</td> <td>-3.45e+15</td>\n",
       "</tr>\n",
       "<tr>\n",
       "  <th>Lead Source_testone</th>                                    <td>  -33.0168</td> <td> 3.66e-07</td> <td>-9.01e+07</td> <td> 0.000</td> <td>  -33.017</td> <td>  -33.017</td>\n",
       "</tr>\n",
       "<tr>\n",
       "  <th>Lead Source_welearnblog_Home</th>                           <td>-3.045e+15</td> <td> 6.47e+07</td> <td>-4.71e+07</td> <td> 0.000</td> <td>-3.04e+15</td> <td>-3.04e+15</td>\n",
       "</tr>\n",
       "<tr>\n",
       "  <th>Lead Source_youtubechannel</th>                             <td>-3.213e+15</td> <td> 6.58e+07</td> <td>-4.88e+07</td> <td> 0.000</td> <td>-3.21e+15</td> <td>-3.21e+15</td>\n",
       "</tr>\n",
       "<tr>\n",
       "  <th>Last Activity_Approached upfront</th>                       <td>-2.255e+14</td> <td> 2.71e+07</td> <td>-8.33e+06</td> <td> 0.000</td> <td>-2.26e+14</td> <td>-2.26e+14</td>\n",
       "</tr>\n",
       "<tr>\n",
       "  <th>Last Activity_Converted to Lead</th>                        <td>-3.463e+14</td> <td> 8.58e+06</td> <td>-4.04e+07</td> <td> 0.000</td> <td>-3.46e+14</td> <td>-3.46e+14</td>\n",
       "</tr>\n",
       "<tr>\n",
       "  <th>Last Activity_Email Bounced</th>                            <td>-4.797e+14</td> <td> 9.54e+06</td> <td>-5.03e+07</td> <td> 0.000</td> <td> -4.8e+14</td> <td> -4.8e+14</td>\n",
       "</tr>\n",
       "<tr>\n",
       "  <th>Last Activity_Email Link Clicked</th>                       <td>-3.763e+13</td> <td>  1.1e+07</td> <td>-3.43e+06</td> <td> 0.000</td> <td>-3.76e+13</td> <td>-3.76e+13</td>\n",
       "</tr>\n",
       "<tr>\n",
       "  <th>Last Activity_Email Marked Spam</th>                        <td> 1.617e+15</td> <td>  3.2e+07</td> <td> 5.05e+07</td> <td> 0.000</td> <td> 1.62e+15</td> <td> 1.62e+15</td>\n",
       "</tr>\n",
       "<tr>\n",
       "  <th>Last Activity_Email Opened</th>                             <td>-3.239e+14</td> <td> 8.19e+06</td> <td>-3.95e+07</td> <td> 0.000</td> <td>-3.24e+14</td> <td>-3.24e+14</td>\n",
       "</tr>\n",
       "<tr>\n",
       "  <th>Last Activity_Email Received</th>                           <td> 3.476e+15</td> <td>  6.3e+07</td> <td> 5.52e+07</td> <td> 0.000</td> <td> 3.48e+15</td> <td> 3.48e+15</td>\n",
       "</tr>\n",
       "<tr>\n",
       "  <th>Last Activity_Form Submitted on Website</th>                <td>-1.896e+13</td> <td> 1.04e+07</td> <td>-1.82e+06</td> <td> 0.000</td> <td> -1.9e+13</td> <td> -1.9e+13</td>\n",
       "</tr>\n",
       "<tr>\n",
       "  <th>Last Activity_Had a Phone Conversation</th>                 <td>-2.521e+14</td> <td> 2.04e+07</td> <td>-1.24e+07</td> <td> 0.000</td> <td>-2.52e+14</td> <td>-2.52e+14</td>\n",
       "</tr>\n",
       "<tr>\n",
       "  <th>Last Activity_Olark Chat Conversation</th>                  <td>-4.854e+14</td> <td> 8.24e+06</td> <td>-5.89e+07</td> <td> 0.000</td> <td>-4.85e+14</td> <td>-4.85e+14</td>\n",
       "</tr>\n",
       "<tr>\n",
       "  <th>Last Activity_Page Visited on Website</th>                  <td>-2.411e+14</td> <td> 8.72e+06</td> <td>-2.76e+07</td> <td> 0.000</td> <td>-2.41e+14</td> <td>-2.41e+14</td>\n",
       "</tr>\n",
       "<tr>\n",
       "  <th>Last Activity_Resubscribed to emails</th>                   <td> 1.555e+15</td> <td>  3.2e+07</td> <td> 4.85e+07</td> <td> 0.000</td> <td> 1.55e+15</td> <td> 1.55e+15</td>\n",
       "</tr>\n",
       "<tr>\n",
       "  <th>Last Activity_SMS Sent</th>                                 <td>-1.481e+14</td> <td> 8.26e+06</td> <td>-1.79e+07</td> <td> 0.000</td> <td>-1.48e+14</td> <td>-1.48e+14</td>\n",
       "</tr>\n",
       "<tr>\n",
       "  <th>Last Activity_Unreachable</th>                              <td>-1.891e+14</td> <td>  1.3e+07</td> <td>-1.45e+07</td> <td> 0.000</td> <td>-1.89e+14</td> <td>-1.89e+14</td>\n",
       "</tr>\n",
       "<tr>\n",
       "  <th>Last Activity_Unsubscribed</th>                             <td>-5.376e+14</td> <td> 2.35e+07</td> <td>-2.28e+07</td> <td> 0.000</td> <td>-5.38e+14</td> <td>-5.38e+14</td>\n",
       "</tr>\n",
       "<tr>\n",
       "  <th>Last Activity_View in browser link Clicked</th>             <td> 2.413e+14</td> <td> 2.92e+07</td> <td> 8.25e+06</td> <td> 0.000</td> <td> 2.41e+14</td> <td> 2.41e+14</td>\n",
       "</tr>\n",
       "<tr>\n",
       "  <th>Last Activity_Visited Booth in Tradeshow</th>               <td>-2.869e+15</td> <td> 6.45e+07</td> <td>-4.45e+07</td> <td> 0.000</td> <td>-2.87e+15</td> <td>-2.87e+15</td>\n",
       "</tr>\n",
       "<tr>\n",
       "  <th>Specialization_Banking, Investment And Insurance</th>       <td>-3.743e+14</td> <td> 5.91e+06</td> <td>-6.34e+07</td> <td> 0.000</td> <td>-3.74e+14</td> <td>-3.74e+14</td>\n",
       "</tr>\n",
       "<tr>\n",
       "  <th>Specialization_Business Administration</th>                 <td>-4.809e+14</td> <td> 5.55e+06</td> <td>-8.66e+07</td> <td> 0.000</td> <td>-4.81e+14</td> <td>-4.81e+14</td>\n",
       "</tr>\n",
       "<tr>\n",
       "  <th>Specialization_E-Business</th>                              <td>-4.913e+14</td> <td> 1.18e+07</td> <td>-4.16e+07</td> <td> 0.000</td> <td>-4.91e+14</td> <td>-4.91e+14</td>\n",
       "</tr>\n",
       "<tr>\n",
       "  <th>Specialization_E-COMMERCE</th>                              <td>-3.999e+14</td> <td> 8.37e+06</td> <td>-4.78e+07</td> <td> 0.000</td> <td>   -4e+14</td> <td>   -4e+14</td>\n",
       "</tr>\n",
       "<tr>\n",
       "  <th>Specialization_Finance Management</th>                      <td> -4.22e+14</td> <td> 4.66e+06</td> <td>-9.06e+07</td> <td> 0.000</td> <td>-4.22e+14</td> <td>-4.22e+14</td>\n",
       "</tr>\n",
       "<tr>\n",
       "  <th>Specialization_Healthcare Management</th>                   <td>-3.715e+14</td> <td> 7.82e+06</td> <td>-4.75e+07</td> <td> 0.000</td> <td>-3.72e+14</td> <td>-3.72e+14</td>\n",
       "</tr>\n",
       "<tr>\n",
       "  <th>Specialization_Hospitality Management</th>                  <td>-5.466e+14</td> <td> 8.19e+06</td> <td>-6.67e+07</td> <td> 0.000</td> <td>-5.47e+14</td> <td>-5.47e+14</td>\n",
       "</tr>\n",
       "<tr>\n",
       "  <th>Specialization_Human Resource Management</th>               <td>-5.395e+14</td> <td> 4.76e+06</td> <td>-1.13e+08</td> <td> 0.000</td> <td> -5.4e+14</td> <td> -5.4e+14</td>\n",
       "</tr>\n",
       "<tr>\n",
       "  <th>Specialization_IT Projects Management</th>                  <td>-2.691e+14</td> <td> 5.87e+06</td> <td>-4.59e+07</td> <td> 0.000</td> <td>-2.69e+14</td> <td>-2.69e+14</td>\n",
       "</tr>\n",
       "<tr>\n",
       "  <th>Specialization_International Business</th>                  <td> -5.88e+14</td> <td> 7.24e+06</td> <td>-8.12e+07</td> <td> 0.000</td> <td>-5.88e+14</td> <td>-5.88e+14</td>\n",
       "</tr>\n",
       "<tr>\n",
       "  <th>Specialization_Marketing Management</th>                    <td>-4.084e+14</td> <td> 4.64e+06</td> <td> -8.8e+07</td> <td> 0.000</td> <td>-4.08e+14</td> <td>-4.08e+14</td>\n",
       "</tr>\n",
       "<tr>\n",
       "  <th>Specialization_Media and Advertising</th>                   <td> -2.83e+14</td> <td>  7.1e+06</td> <td>-3.99e+07</td> <td> 0.000</td> <td>-2.83e+14</td> <td>-2.83e+14</td>\n",
       "</tr>\n",
       "<tr>\n",
       "  <th>Specialization_Operations Management</th>                   <td> -4.24e+14</td> <td> 5.16e+06</td> <td>-8.22e+07</td> <td> 0.000</td> <td>-4.24e+14</td> <td>-4.24e+14</td>\n",
       "</tr>\n",
       "<tr>\n",
       "  <th>Specialization_Others</th>                                  <td>-1.395e+14</td> <td> 3.28e+06</td> <td>-4.25e+07</td> <td> 0.000</td> <td> -1.4e+14</td> <td> -1.4e+14</td>\n",
       "</tr>\n",
       "<tr>\n",
       "  <th>Specialization_Retail Management</th>                       <td>-5.523e+14</td> <td> 9.02e+06</td> <td>-6.12e+07</td> <td> 0.000</td> <td>-5.52e+14</td> <td>-5.52e+14</td>\n",
       "</tr>\n",
       "<tr>\n",
       "  <th>Specialization_Rural and Agribusiness</th>                  <td>-2.946e+14</td> <td> 1.06e+07</td> <td>-2.78e+07</td> <td> 0.000</td> <td>-2.95e+14</td> <td>-2.95e+14</td>\n",
       "</tr>\n",
       "<tr>\n",
       "  <th>Specialization_Services Excellence</th>                     <td>-2.115e+14</td> <td> 1.28e+07</td> <td>-1.65e+07</td> <td> 0.000</td> <td>-2.12e+14</td> <td>-2.12e+14</td>\n",
       "</tr>\n",
       "<tr>\n",
       "  <th>Specialization_Supply Chain Management</th>                 <td>-4.013e+14</td> <td> 5.84e+06</td> <td>-6.87e+07</td> <td> 0.000</td> <td>-4.01e+14</td> <td>-4.01e+14</td>\n",
       "</tr>\n",
       "<tr>\n",
       "  <th>Specialization_Travel and Tourism</th>                      <td>-3.933e+14</td> <td> 7.06e+06</td> <td>-5.57e+07</td> <td> 0.000</td> <td>-3.93e+14</td> <td>-3.93e+14</td>\n",
       "</tr>\n",
       "<tr>\n",
       "  <th>What is your current occupation_Businessman</th>            <td>-9.095e+14</td> <td> 2.41e+07</td> <td>-3.77e+07</td> <td> 0.000</td> <td>-9.09e+14</td> <td>-9.09e+14</td>\n",
       "</tr>\n",
       "<tr>\n",
       "  <th>What is your current occupation_Housewife</th>              <td> 2.821e+15</td> <td> 2.01e+07</td> <td>  1.4e+08</td> <td> 0.000</td> <td> 2.82e+15</td> <td> 2.82e+15</td>\n",
       "</tr>\n",
       "<tr>\n",
       "  <th>What is your current occupation_Other</th>                  <td>-2.372e+14</td> <td> 2.12e+07</td> <td>-1.12e+07</td> <td> 0.000</td> <td>-2.37e+14</td> <td>-2.37e+14</td>\n",
       "</tr>\n",
       "<tr>\n",
       "  <th>What is your current occupation_Student</th>                <td>-2.722e+14</td> <td>  8.6e+06</td> <td>-3.17e+07</td> <td> 0.000</td> <td>-2.72e+14</td> <td>-2.72e+14</td>\n",
       "</tr>\n",
       "<tr>\n",
       "  <th>What is your current occupation_Unemployed</th>             <td>-5.213e+14</td> <td> 6.99e+06</td> <td>-7.46e+07</td> <td> 0.000</td> <td>-5.21e+14</td> <td>-5.21e+14</td>\n",
       "</tr>\n",
       "<tr>\n",
       "  <th>What is your current occupation_Working Professional</th>   <td>-1.468e+14</td> <td> 7.42e+06</td> <td>-1.98e+07</td> <td> 0.000</td> <td>-1.47e+14</td> <td>-1.47e+14</td>\n",
       "</tr>\n",
       "<tr>\n",
       "  <th>Tags_Already a student</th>                                 <td>-1.605e+13</td> <td> 7.19e+06</td> <td>-2.23e+06</td> <td> 0.000</td> <td> -1.6e+13</td> <td> -1.6e+13</td>\n",
       "</tr>\n",
       "<tr>\n",
       "  <th>Tags_Busy</th>                                              <td> -1.66e+14</td> <td> 8.21e+06</td> <td>-2.02e+07</td> <td> 0.000</td> <td>-1.66e+14</td> <td>-1.66e+14</td>\n",
       "</tr>\n",
       "<tr>\n",
       "  <th>Tags_Closed by Horizzon</th>                                <td> 1.865e+15</td> <td>  7.5e+06</td> <td> 2.49e+08</td> <td> 0.000</td> <td> 1.87e+15</td> <td> 1.87e+15</td>\n",
       "</tr>\n",
       "<tr>\n",
       "  <th>Tags_Diploma holder (Not Eligible)</th>                     <td>-1.676e+15</td> <td> 1.11e+07</td> <td>-1.51e+08</td> <td> 0.000</td> <td>-1.68e+15</td> <td>-1.68e+15</td>\n",
       "</tr>\n",
       "<tr>\n",
       "  <th>Tags_Graduation in progress</th>                            <td> 3.233e+14</td> <td> 9.79e+06</td> <td>  3.3e+07</td> <td> 0.000</td> <td> 3.23e+14</td> <td> 3.23e+14</td>\n",
       "</tr>\n",
       "<tr>\n",
       "  <th>Tags_In confusion whether part time or DLP</th>             <td> 7.395e+14</td> <td> 3.29e+07</td> <td> 2.25e+07</td> <td> 0.000</td> <td> 7.39e+14</td> <td> 7.39e+14</td>\n",
       "</tr>\n",
       "<tr>\n",
       "  <th>Tags_Interested  in full time MBA</th>                      <td> 1.231e+14</td> <td> 9.23e+06</td> <td> 1.33e+07</td> <td> 0.000</td> <td> 1.23e+14</td> <td> 1.23e+14</td>\n",
       "</tr>\n",
       "<tr>\n",
       "  <th>Tags_Interested in Next batch</th>                          <td> 1.571e+15</td> <td> 2.96e+07</td> <td> 5.31e+07</td> <td> 0.000</td> <td> 1.57e+15</td> <td> 1.57e+15</td>\n",
       "</tr>\n",
       "<tr>\n",
       "  <th>Tags_Interested in other courses</th>                       <td> 2.654e+12</td> <td> 6.66e+06</td> <td> 3.98e+05</td> <td> 0.000</td> <td> 2.65e+12</td> <td> 2.65e+12</td>\n",
       "</tr>\n",
       "<tr>\n",
       "  <th>Tags_Lateral student</th>                                   <td> 4.044e+15</td> <td> 3.78e+07</td> <td> 1.07e+08</td> <td> 0.000</td> <td> 4.04e+15</td> <td> 4.04e+15</td>\n",
       "</tr>\n",
       "<tr>\n",
       "  <th>Tags_Lost to EINS</th>                                      <td> 1.861e+15</td> <td> 8.43e+06</td> <td> 2.21e+08</td> <td> 0.000</td> <td> 1.86e+15</td> <td> 1.86e+15</td>\n",
       "</tr>\n",
       "<tr>\n",
       "  <th>Tags_Lost to Others</th>                                    <td>-2.391e+15</td> <td> 2.96e+07</td> <td>-8.07e+07</td> <td> 0.000</td> <td>-2.39e+15</td> <td>-2.39e+15</td>\n",
       "</tr>\n",
       "<tr>\n",
       "  <th>Tags_Not doing further education</th>                       <td> 2.305e+14</td> <td> 8.75e+06</td> <td> 2.63e+07</td> <td> 0.000</td> <td>  2.3e+14</td> <td>  2.3e+14</td>\n",
       "</tr>\n",
       "<tr>\n",
       "  <th>Tags_Recognition issue (DEC approval)</th>                  <td>-4.861e+15</td> <td> 6.64e+07</td> <td>-7.33e+07</td> <td> 0.000</td> <td>-4.86e+15</td> <td>-4.86e+15</td>\n",
       "</tr>\n",
       "<tr>\n",
       "  <th>Tags_Ringing</th>                                           <td>-2.402e+14</td> <td> 6.16e+06</td> <td> -3.9e+07</td> <td> 0.000</td> <td> -2.4e+14</td> <td> -2.4e+14</td>\n",
       "</tr>\n",
       "<tr>\n",
       "  <th>Tags_Shall take in the next coming month</th>               <td>  4.49e+15</td> <td> 6.51e+07</td> <td>  6.9e+07</td> <td> 0.000</td> <td> 4.49e+15</td> <td> 4.49e+15</td>\n",
       "</tr>\n",
       "<tr>\n",
       "  <th>Tags_Still Thinking</th>                                    <td> 1.796e+14</td> <td>  3.3e+07</td> <td> 5.44e+06</td> <td> 0.000</td> <td>  1.8e+14</td> <td>  1.8e+14</td>\n",
       "</tr>\n",
       "<tr>\n",
       "  <th>Tags_University not recognized</th>                         <td>-3.752e+15</td> <td> 6.54e+07</td> <td>-5.74e+07</td> <td> 0.000</td> <td>-3.75e+15</td> <td>-3.75e+15</td>\n",
       "</tr>\n",
       "<tr>\n",
       "  <th>Tags_Want to take admission but has financial problems</th> <td> 7.825e+13</td> <td> 3.47e+07</td> <td> 2.25e+06</td> <td> 0.000</td> <td> 7.82e+13</td> <td> 7.82e+13</td>\n",
       "</tr>\n",
       "<tr>\n",
       "  <th>Tags_Will revert after reading the email</th>               <td> 4.246e+14</td> <td>  5.8e+06</td> <td> 7.32e+07</td> <td> 0.000</td> <td> 4.25e+14</td> <td> 4.25e+14</td>\n",
       "</tr>\n",
       "<tr>\n",
       "  <th>Tags_in touch with EINS</th>                                <td> 1.178e+15</td> <td> 2.03e+07</td> <td> 5.79e+07</td> <td> 0.000</td> <td> 1.18e+15</td> <td> 1.18e+15</td>\n",
       "</tr>\n",
       "<tr>\n",
       "  <th>Tags_invalid number</th>                                    <td> -3.62e+14</td> <td>    1e+07</td> <td>-3.61e+07</td> <td> 0.000</td> <td>-3.62e+14</td> <td>-3.62e+14</td>\n",
       "</tr>\n",
       "<tr>\n",
       "  <th>Tags_number not provided</th>                               <td>-1.835e+15</td> <td> 1.55e+07</td> <td>-1.19e+08</td> <td> 0.000</td> <td>-1.84e+15</td> <td>-1.84e+15</td>\n",
       "</tr>\n",
       "<tr>\n",
       "  <th>Tags_opp hangup</th>                                        <td> 7.899e+14</td> <td> 1.47e+07</td> <td> 5.38e+07</td> <td> 0.000</td> <td>  7.9e+14</td> <td>  7.9e+14</td>\n",
       "</tr>\n",
       "<tr>\n",
       "  <th>Tags_switched off</th>                                      <td>-4.351e+14</td> <td>  7.5e+06</td> <td> -5.8e+07</td> <td> 0.000</td> <td>-4.35e+14</td> <td>-4.35e+14</td>\n",
       "</tr>\n",
       "<tr>\n",
       "  <th>Tags_wrong number given</th>                                <td>-1.433e+15</td> <td> 1.31e+07</td> <td>-1.09e+08</td> <td> 0.000</td> <td>-1.43e+15</td> <td>-1.43e+15</td>\n",
       "</tr>\n",
       "<tr>\n",
       "  <th>Lead Quality_High in Relevance</th>                         <td> 7.197e+14</td> <td> 4.18e+06</td> <td> 1.72e+08</td> <td> 0.000</td> <td>  7.2e+14</td> <td>  7.2e+14</td>\n",
       "</tr>\n",
       "<tr>\n",
       "  <th>Lead Quality_Low in Relevance</th>                          <td> 5.981e+14</td> <td>  4.1e+06</td> <td> 1.46e+08</td> <td> 0.000</td> <td> 5.98e+14</td> <td> 5.98e+14</td>\n",
       "</tr>\n",
       "<tr>\n",
       "  <th>Lead Quality_Might be</th>                                  <td> 3.429e+14</td> <td> 3.51e+06</td> <td> 9.76e+07</td> <td> 0.000</td> <td> 3.43e+14</td> <td> 3.43e+14</td>\n",
       "</tr>\n",
       "<tr>\n",
       "  <th>Lead Quality_Not Sure</th>                                  <td>-5.532e+14</td> <td> 3.16e+06</td> <td>-1.75e+08</td> <td> 0.000</td> <td>-5.53e+14</td> <td>-5.53e+14</td>\n",
       "</tr>\n",
       "<tr>\n",
       "  <th>Lead Quality_Worst</th>                                     <td>-3.736e+14</td> <td> 4.68e+06</td> <td>-7.98e+07</td> <td> 0.000</td> <td>-3.74e+14</td> <td>-3.74e+14</td>\n",
       "</tr>\n",
       "<tr>\n",
       "  <th>Last Notable Activity_Approached upfront</th>               <td>   -0.2249</td> <td> 1.38e-08</td> <td>-1.63e+07</td> <td> 0.000</td> <td>   -0.225</td> <td>   -0.225</td>\n",
       "</tr>\n",
       "<tr>\n",
       "  <th>Last Notable Activity_Email Bounced</th>                    <td>-1.232e+14</td> <td>  1.5e+07</td> <td>-8.23e+06</td> <td> 0.000</td> <td>-1.23e+14</td> <td>-1.23e+14</td>\n",
       "</tr>\n",
       "<tr>\n",
       "  <th>Last Notable Activity_Email Link Clicked</th>               <td>-4.114e+14</td> <td> 1.41e+07</td> <td>-2.93e+07</td> <td> 0.000</td> <td>-4.11e+14</td> <td>-4.11e+14</td>\n",
       "</tr>\n",
       "<tr>\n",
       "  <th>Last Notable Activity_Email Marked Spam</th>                <td> 1.617e+15</td> <td>  3.2e+07</td> <td> 5.05e+07</td> <td> 0.000</td> <td> 1.62e+15</td> <td> 1.62e+15</td>\n",
       "</tr>\n",
       "<tr>\n",
       "  <th>Last Notable Activity_Email Opened</th>                     <td> 4.311e+13</td> <td> 1.08e+07</td> <td>    4e+06</td> <td> 0.000</td> <td> 4.31e+13</td> <td> 4.31e+13</td>\n",
       "</tr>\n",
       "<tr>\n",
       "  <th>Last Notable Activity_Email Received</th>                   <td>-7.184e+12</td> <td>  8.8e+07</td> <td>-8.17e+04</td> <td> 0.000</td> <td>-7.18e+12</td> <td>-7.18e+12</td>\n",
       "</tr>\n",
       "<tr>\n",
       "  <th>Last Notable Activity_Form Submitted on Website</th>        <td>-3.735e+15</td> <td> 6.33e+07</td> <td> -5.9e+07</td> <td> 0.000</td> <td>-3.73e+15</td> <td>-3.73e+15</td>\n",
       "</tr>\n",
       "<tr>\n",
       "  <th>Last Notable Activity_Had a Phone Conversation</th>         <td> 4.635e+14</td> <td> 2.85e+07</td> <td> 1.63e+07</td> <td> 0.000</td> <td> 4.64e+14</td> <td> 4.64e+14</td>\n",
       "</tr>\n",
       "<tr>\n",
       "  <th>Last Notable Activity_Modified</th>                         <td>-1.001e+14</td> <td> 1.03e+07</td> <td>-9.72e+06</td> <td> 0.000</td> <td>   -1e+14</td> <td>   -1e+14</td>\n",
       "</tr>\n",
       "<tr>\n",
       "  <th>Last Notable Activity_Olark Chat Conversation</th>          <td>-1.685e+14</td> <td>  1.2e+07</td> <td> -1.4e+07</td> <td> 0.000</td> <td>-1.69e+14</td> <td>-1.69e+14</td>\n",
       "</tr>\n",
       "<tr>\n",
       "  <th>Last Notable Activity_Page Visited on Website</th>          <td>-8.773e+13</td> <td> 1.19e+07</td> <td> -7.4e+06</td> <td> 0.000</td> <td>-8.77e+13</td> <td>-8.77e+13</td>\n",
       "</tr>\n",
       "<tr>\n",
       "  <th>Last Notable Activity_Resubscribed to emails</th>           <td> 1.555e+15</td> <td>  3.2e+07</td> <td> 4.85e+07</td> <td> 0.000</td> <td> 1.55e+15</td> <td> 1.55e+15</td>\n",
       "</tr>\n",
       "<tr>\n",
       "  <th>Last Notable Activity_SMS Sent</th>                         <td> 6.187e+14</td> <td> 1.09e+07</td> <td> 5.68e+07</td> <td> 0.000</td> <td> 6.19e+14</td> <td> 6.19e+14</td>\n",
       "</tr>\n",
       "<tr>\n",
       "  <th>Last Notable Activity_Unreachable</th>                      <td> 5.369e+14</td> <td>    2e+07</td> <td> 2.69e+07</td> <td> 0.000</td> <td> 5.37e+14</td> <td> 5.37e+14</td>\n",
       "</tr>\n",
       "<tr>\n",
       "  <th>Last Notable Activity_Unsubscribed</th>                     <td>  5.33e+14</td> <td> 2.68e+07</td> <td> 1.99e+07</td> <td> 0.000</td> <td> 5.33e+14</td> <td> 5.33e+14</td>\n",
       "</tr>\n",
       "<tr>\n",
       "  <th>Last Notable Activity_View in browser link Clicked</th>     <td>         0</td> <td>        0</td> <td>      nan</td> <td>   nan</td> <td>        0</td> <td>        0</td>\n",
       "</tr>\n",
       "</table>"
      ],
      "text/plain": [
       "<class 'statsmodels.iolib.summary.Summary'>\n",
       "\"\"\"\n",
       "                 Generalized Linear Model Regression Results                  \n",
       "==============================================================================\n",
       "Dep. Variable:              Converted   No. Observations:                 6468\n",
       "Model:                            GLM   Df Residuals:                     6358\n",
       "Model Family:                Binomial   Df Model:                          109\n",
       "Link Function:                  logit   Scale:                          1.0000\n",
       "Method:                          IRLS   Log-Likelihood:                    nan\n",
       "Date:                Mon, 14 Jun 2021   Deviance:                          nan\n",
       "Time:                        22:06:35   Pearson chi2:                 3.13e+18\n",
       "No. Iterations:                   100                                         \n",
       "Covariance Type:            nonrobust                                         \n",
       "==========================================================================================================================\n",
       "                                                             coef    std err          z      P>|z|      [0.025      0.975]\n",
       "--------------------------------------------------------------------------------------------------------------------------\n",
       "const                                                   7.338e+14   1.31e+07    5.6e+07      0.000    7.34e+14    7.34e+14\n",
       "Do Not Email                                            -1.32e+14   4.47e+06  -2.95e+07      0.000   -1.32e+14   -1.32e+14\n",
       "Do Not Call                                             1.223e+15   4.78e+07   2.56e+07      0.000    1.22e+15    1.22e+15\n",
       "TotalVisits                                             5.094e+13      1e+06   5.09e+07      0.000    5.09e+13    5.09e+13\n",
       "Total Time Spent on Website                             2.549e+14   9.99e+05   2.55e+08      0.000    2.55e+14    2.55e+14\n",
       "Page Views Per Visit                                    -3.14e+13   1.22e+06  -2.58e+07      0.000   -3.14e+13   -3.14e+13\n",
       "A free copy of Mastering The Interview                  2.831e+13   2.68e+06   1.06e+07      0.000    2.83e+13    2.83e+13\n",
       "Lead Origin_API                                        -7.164e+14   1.54e+07  -4.64e+07      0.000   -7.16e+14   -7.16e+14\n",
       "Lead Origin_Landing Page Submission                    -8.606e+14   1.54e+07  -5.58e+07      0.000   -8.61e+14   -8.61e+14\n",
       "Lead Origin_Lead Add Form                              -5.206e+14   1.83e+07  -2.84e+07      0.000   -5.21e+14   -5.21e+14\n",
       "Lead Origin_Lead Import                                 1.284e+15   4.17e+07   3.08e+07      0.000    1.28e+15    1.28e+15\n",
       "Lead Origin_Quick Add Form                              1.548e+15   5.66e+07   2.74e+07      0.000    1.55e+15    1.55e+15\n",
       "Lead Source_Click2call                                  3.677e+14   4.12e+07   8.92e+06      0.000    3.68e+14    3.68e+14\n",
       "Lead Source_Direct Traffic                              4.172e+14   1.04e+07      4e+07      0.000    4.17e+14    4.17e+14\n",
       "Lead Source_Facebook                                   -1.684e+15    4.7e+07  -3.58e+07      0.000   -1.68e+15   -1.68e+15\n",
       "Lead Source_Google                                       4.41e+14   1.03e+07    4.3e+07      0.000    4.41e+14    4.41e+14\n",
       "Lead Source_Live Chat                                   4.116e+15   4.73e+07    8.7e+07      0.000    4.12e+15    4.12e+15\n",
       "Lead Source_NC_EDM                                      5.946e+15   6.47e+07   9.19e+07      0.000    5.95e+15    5.95e+15\n",
       "Lead Source_Olark Chat                                  6.446e+14   1.06e+07   6.06e+07      0.000    6.45e+14    6.45e+14\n",
       "Lead Source_Organic Search                              4.438e+14   1.05e+07   4.22e+07      0.000    4.44e+14    4.44e+14\n",
       "Lead Source_Pay per Click Ads                          -2.266e+15   6.47e+07   -3.5e+07      0.000   -2.27e+15   -2.27e+15\n",
       "Lead Source_Press_Release                              -3.072e+15   4.68e+07  -6.57e+07      0.000   -3.07e+15   -3.07e+15\n",
       "Lead Source_Reference                                   3.607e+14   1.48e+07   2.44e+07      0.000    3.61e+14    3.61e+14\n",
       "Lead Source_Referral Sites                              3.729e+14   1.23e+07   3.03e+07      0.000    3.73e+14    3.73e+14\n",
       "Lead Source_Social Media                                9.141e+14   4.65e+07   1.97e+07      0.000    9.14e+14    9.14e+14\n",
       "Lead Source_WeLearn                                     4.359e+15   6.47e+07   6.73e+07      0.000    4.36e+15    4.36e+15\n",
       "Lead Source_Welingak Website                            1.243e+15   1.58e+07   7.86e+07      0.000    1.24e+15    1.24e+15\n",
       "Lead Source_bing                                        1.016e+15   3.83e+07   2.65e+07      0.000    1.02e+15    1.02e+15\n",
       "Lead Source_blog                                       -3.179e+15   6.47e+07  -4.91e+07      0.000   -3.18e+15   -3.18e+15\n",
       "Lead Source_google                                      -3.45e+15   3.07e+07  -1.13e+08      0.000   -3.45e+15   -3.45e+15\n",
       "Lead Source_testone                                      -33.0168   3.66e-07  -9.01e+07      0.000     -33.017     -33.017\n",
       "Lead Source_welearnblog_Home                           -3.045e+15   6.47e+07  -4.71e+07      0.000   -3.04e+15   -3.04e+15\n",
       "Lead Source_youtubechannel                             -3.213e+15   6.58e+07  -4.88e+07      0.000   -3.21e+15   -3.21e+15\n",
       "Last Activity_Approached upfront                       -2.255e+14   2.71e+07  -8.33e+06      0.000   -2.26e+14   -2.26e+14\n",
       "Last Activity_Converted to Lead                        -3.463e+14   8.58e+06  -4.04e+07      0.000   -3.46e+14   -3.46e+14\n",
       "Last Activity_Email Bounced                            -4.797e+14   9.54e+06  -5.03e+07      0.000    -4.8e+14    -4.8e+14\n",
       "Last Activity_Email Link Clicked                       -3.763e+13    1.1e+07  -3.43e+06      0.000   -3.76e+13   -3.76e+13\n",
       "Last Activity_Email Marked Spam                         1.617e+15    3.2e+07   5.05e+07      0.000    1.62e+15    1.62e+15\n",
       "Last Activity_Email Opened                             -3.239e+14   8.19e+06  -3.95e+07      0.000   -3.24e+14   -3.24e+14\n",
       "Last Activity_Email Received                            3.476e+15    6.3e+07   5.52e+07      0.000    3.48e+15    3.48e+15\n",
       "Last Activity_Form Submitted on Website                -1.896e+13   1.04e+07  -1.82e+06      0.000    -1.9e+13    -1.9e+13\n",
       "Last Activity_Had a Phone Conversation                 -2.521e+14   2.04e+07  -1.24e+07      0.000   -2.52e+14   -2.52e+14\n",
       "Last Activity_Olark Chat Conversation                  -4.854e+14   8.24e+06  -5.89e+07      0.000   -4.85e+14   -4.85e+14\n",
       "Last Activity_Page Visited on Website                  -2.411e+14   8.72e+06  -2.76e+07      0.000   -2.41e+14   -2.41e+14\n",
       "Last Activity_Resubscribed to emails                    1.555e+15    3.2e+07   4.85e+07      0.000    1.55e+15    1.55e+15\n",
       "Last Activity_SMS Sent                                 -1.481e+14   8.26e+06  -1.79e+07      0.000   -1.48e+14   -1.48e+14\n",
       "Last Activity_Unreachable                              -1.891e+14    1.3e+07  -1.45e+07      0.000   -1.89e+14   -1.89e+14\n",
       "Last Activity_Unsubscribed                             -5.376e+14   2.35e+07  -2.28e+07      0.000   -5.38e+14   -5.38e+14\n",
       "Last Activity_View in browser link Clicked              2.413e+14   2.92e+07   8.25e+06      0.000    2.41e+14    2.41e+14\n",
       "Last Activity_Visited Booth in Tradeshow               -2.869e+15   6.45e+07  -4.45e+07      0.000   -2.87e+15   -2.87e+15\n",
       "Specialization_Banking, Investment And Insurance       -3.743e+14   5.91e+06  -6.34e+07      0.000   -3.74e+14   -3.74e+14\n",
       "Specialization_Business Administration                 -4.809e+14   5.55e+06  -8.66e+07      0.000   -4.81e+14   -4.81e+14\n",
       "Specialization_E-Business                              -4.913e+14   1.18e+07  -4.16e+07      0.000   -4.91e+14   -4.91e+14\n",
       "Specialization_E-COMMERCE                              -3.999e+14   8.37e+06  -4.78e+07      0.000      -4e+14      -4e+14\n",
       "Specialization_Finance Management                       -4.22e+14   4.66e+06  -9.06e+07      0.000   -4.22e+14   -4.22e+14\n",
       "Specialization_Healthcare Management                   -3.715e+14   7.82e+06  -4.75e+07      0.000   -3.72e+14   -3.72e+14\n",
       "Specialization_Hospitality Management                  -5.466e+14   8.19e+06  -6.67e+07      0.000   -5.47e+14   -5.47e+14\n",
       "Specialization_Human Resource Management               -5.395e+14   4.76e+06  -1.13e+08      0.000    -5.4e+14    -5.4e+14\n",
       "Specialization_IT Projects Management                  -2.691e+14   5.87e+06  -4.59e+07      0.000   -2.69e+14   -2.69e+14\n",
       "Specialization_International Business                   -5.88e+14   7.24e+06  -8.12e+07      0.000   -5.88e+14   -5.88e+14\n",
       "Specialization_Marketing Management                    -4.084e+14   4.64e+06   -8.8e+07      0.000   -4.08e+14   -4.08e+14\n",
       "Specialization_Media and Advertising                    -2.83e+14    7.1e+06  -3.99e+07      0.000   -2.83e+14   -2.83e+14\n",
       "Specialization_Operations Management                    -4.24e+14   5.16e+06  -8.22e+07      0.000   -4.24e+14   -4.24e+14\n",
       "Specialization_Others                                  -1.395e+14   3.28e+06  -4.25e+07      0.000    -1.4e+14    -1.4e+14\n",
       "Specialization_Retail Management                       -5.523e+14   9.02e+06  -6.12e+07      0.000   -5.52e+14   -5.52e+14\n",
       "Specialization_Rural and Agribusiness                  -2.946e+14   1.06e+07  -2.78e+07      0.000   -2.95e+14   -2.95e+14\n",
       "Specialization_Services Excellence                     -2.115e+14   1.28e+07  -1.65e+07      0.000   -2.12e+14   -2.12e+14\n",
       "Specialization_Supply Chain Management                 -4.013e+14   5.84e+06  -6.87e+07      0.000   -4.01e+14   -4.01e+14\n",
       "Specialization_Travel and Tourism                      -3.933e+14   7.06e+06  -5.57e+07      0.000   -3.93e+14   -3.93e+14\n",
       "What is your current occupation_Businessman            -9.095e+14   2.41e+07  -3.77e+07      0.000   -9.09e+14   -9.09e+14\n",
       "What is your current occupation_Housewife               2.821e+15   2.01e+07    1.4e+08      0.000    2.82e+15    2.82e+15\n",
       "What is your current occupation_Other                  -2.372e+14   2.12e+07  -1.12e+07      0.000   -2.37e+14   -2.37e+14\n",
       "What is your current occupation_Student                -2.722e+14    8.6e+06  -3.17e+07      0.000   -2.72e+14   -2.72e+14\n",
       "What is your current occupation_Unemployed             -5.213e+14   6.99e+06  -7.46e+07      0.000   -5.21e+14   -5.21e+14\n",
       "What is your current occupation_Working Professional   -1.468e+14   7.42e+06  -1.98e+07      0.000   -1.47e+14   -1.47e+14\n",
       "Tags_Already a student                                 -1.605e+13   7.19e+06  -2.23e+06      0.000    -1.6e+13    -1.6e+13\n",
       "Tags_Busy                                               -1.66e+14   8.21e+06  -2.02e+07      0.000   -1.66e+14   -1.66e+14\n",
       "Tags_Closed by Horizzon                                 1.865e+15    7.5e+06   2.49e+08      0.000    1.87e+15    1.87e+15\n",
       "Tags_Diploma holder (Not Eligible)                     -1.676e+15   1.11e+07  -1.51e+08      0.000   -1.68e+15   -1.68e+15\n",
       "Tags_Graduation in progress                             3.233e+14   9.79e+06    3.3e+07      0.000    3.23e+14    3.23e+14\n",
       "Tags_In confusion whether part time or DLP              7.395e+14   3.29e+07   2.25e+07      0.000    7.39e+14    7.39e+14\n",
       "Tags_Interested  in full time MBA                       1.231e+14   9.23e+06   1.33e+07      0.000    1.23e+14    1.23e+14\n",
       "Tags_Interested in Next batch                           1.571e+15   2.96e+07   5.31e+07      0.000    1.57e+15    1.57e+15\n",
       "Tags_Interested in other courses                        2.654e+12   6.66e+06   3.98e+05      0.000    2.65e+12    2.65e+12\n",
       "Tags_Lateral student                                    4.044e+15   3.78e+07   1.07e+08      0.000    4.04e+15    4.04e+15\n",
       "Tags_Lost to EINS                                       1.861e+15   8.43e+06   2.21e+08      0.000    1.86e+15    1.86e+15\n",
       "Tags_Lost to Others                                    -2.391e+15   2.96e+07  -8.07e+07      0.000   -2.39e+15   -2.39e+15\n",
       "Tags_Not doing further education                        2.305e+14   8.75e+06   2.63e+07      0.000     2.3e+14     2.3e+14\n",
       "Tags_Recognition issue (DEC approval)                  -4.861e+15   6.64e+07  -7.33e+07      0.000   -4.86e+15   -4.86e+15\n",
       "Tags_Ringing                                           -2.402e+14   6.16e+06   -3.9e+07      0.000    -2.4e+14    -2.4e+14\n",
       "Tags_Shall take in the next coming month                 4.49e+15   6.51e+07    6.9e+07      0.000    4.49e+15    4.49e+15\n",
       "Tags_Still Thinking                                     1.796e+14    3.3e+07   5.44e+06      0.000     1.8e+14     1.8e+14\n",
       "Tags_University not recognized                         -3.752e+15   6.54e+07  -5.74e+07      0.000   -3.75e+15   -3.75e+15\n",
       "Tags_Want to take admission but has financial problems  7.825e+13   3.47e+07   2.25e+06      0.000    7.82e+13    7.82e+13\n",
       "Tags_Will revert after reading the email                4.246e+14    5.8e+06   7.32e+07      0.000    4.25e+14    4.25e+14\n",
       "Tags_in touch with EINS                                 1.178e+15   2.03e+07   5.79e+07      0.000    1.18e+15    1.18e+15\n",
       "Tags_invalid number                                     -3.62e+14      1e+07  -3.61e+07      0.000   -3.62e+14   -3.62e+14\n",
       "Tags_number not provided                               -1.835e+15   1.55e+07  -1.19e+08      0.000   -1.84e+15   -1.84e+15\n",
       "Tags_opp hangup                                         7.899e+14   1.47e+07   5.38e+07      0.000     7.9e+14     7.9e+14\n",
       "Tags_switched off                                      -4.351e+14    7.5e+06   -5.8e+07      0.000   -4.35e+14   -4.35e+14\n",
       "Tags_wrong number given                                -1.433e+15   1.31e+07  -1.09e+08      0.000   -1.43e+15   -1.43e+15\n",
       "Lead Quality_High in Relevance                          7.197e+14   4.18e+06   1.72e+08      0.000     7.2e+14     7.2e+14\n",
       "Lead Quality_Low in Relevance                           5.981e+14    4.1e+06   1.46e+08      0.000    5.98e+14    5.98e+14\n",
       "Lead Quality_Might be                                   3.429e+14   3.51e+06   9.76e+07      0.000    3.43e+14    3.43e+14\n",
       "Lead Quality_Not Sure                                  -5.532e+14   3.16e+06  -1.75e+08      0.000   -5.53e+14   -5.53e+14\n",
       "Lead Quality_Worst                                     -3.736e+14   4.68e+06  -7.98e+07      0.000   -3.74e+14   -3.74e+14\n",
       "Last Notable Activity_Approached upfront                  -0.2249   1.38e-08  -1.63e+07      0.000      -0.225      -0.225\n",
       "Last Notable Activity_Email Bounced                    -1.232e+14    1.5e+07  -8.23e+06      0.000   -1.23e+14   -1.23e+14\n",
       "Last Notable Activity_Email Link Clicked               -4.114e+14   1.41e+07  -2.93e+07      0.000   -4.11e+14   -4.11e+14\n",
       "Last Notable Activity_Email Marked Spam                 1.617e+15    3.2e+07   5.05e+07      0.000    1.62e+15    1.62e+15\n",
       "Last Notable Activity_Email Opened                      4.311e+13   1.08e+07      4e+06      0.000    4.31e+13    4.31e+13\n",
       "Last Notable Activity_Email Received                   -7.184e+12    8.8e+07  -8.17e+04      0.000   -7.18e+12   -7.18e+12\n",
       "Last Notable Activity_Form Submitted on Website        -3.735e+15   6.33e+07   -5.9e+07      0.000   -3.73e+15   -3.73e+15\n",
       "Last Notable Activity_Had a Phone Conversation          4.635e+14   2.85e+07   1.63e+07      0.000    4.64e+14    4.64e+14\n",
       "Last Notable Activity_Modified                         -1.001e+14   1.03e+07  -9.72e+06      0.000      -1e+14      -1e+14\n",
       "Last Notable Activity_Olark Chat Conversation          -1.685e+14    1.2e+07   -1.4e+07      0.000   -1.69e+14   -1.69e+14\n",
       "Last Notable Activity_Page Visited on Website          -8.773e+13   1.19e+07   -7.4e+06      0.000   -8.77e+13   -8.77e+13\n",
       "Last Notable Activity_Resubscribed to emails            1.555e+15    3.2e+07   4.85e+07      0.000    1.55e+15    1.55e+15\n",
       "Last Notable Activity_SMS Sent                          6.187e+14   1.09e+07   5.68e+07      0.000    6.19e+14    6.19e+14\n",
       "Last Notable Activity_Unreachable                       5.369e+14      2e+07   2.69e+07      0.000    5.37e+14    5.37e+14\n",
       "Last Notable Activity_Unsubscribed                       5.33e+14   2.68e+07   1.99e+07      0.000    5.33e+14    5.33e+14\n",
       "Last Notable Activity_View in browser link Clicked              0          0        nan        nan           0           0\n",
       "==========================================================================================================================\n",
       "\"\"\""
      ]
     },
     "execution_count": 56,
     "metadata": {},
     "output_type": "execute_result"
    }
   ],
   "source": [
    "# Logistic regression model\n",
    "logm1 = sm.GLM(y_train,(sm.add_constant(X_train)), family = sm.families.Binomial())\n",
    "logm1.fit().summary()"
   ]
  },
  {
   "cell_type": "code",
   "execution_count": 57,
   "metadata": {},
   "outputs": [],
   "source": [
    "## RFE \n",
    "logreg = LogisticRegression()\n",
    "rfe = RFE(logreg, 15)             # running RFE with 15 variables as output\n",
    "rfe = rfe.fit(X_train, y_train)"
   ]
  },
  {
   "cell_type": "code",
   "execution_count": 58,
   "metadata": {
    "scrolled": false
   },
   "outputs": [
    {
     "data": {
      "text/plain": [
       "[('Do Not Email', False, 12),\n",
       " ('Do Not Call', False, 47),\n",
       " ('TotalVisits', False, 78),\n",
       " ('Total Time Spent on Website', False, 15),\n",
       " ('Page Views Per Visit', False, 86),\n",
       " ('A free copy of Mastering The Interview', False, 89),\n",
       " ('Lead Origin_API', False, 46),\n",
       " ('Lead Origin_Landing Page Submission', False, 45),\n",
       " ('Lead Origin_Lead Add Form', False, 14),\n",
       " ('Lead Origin_Lead Import', False, 83),\n",
       " ('Lead Origin_Quick Add Form', False, 61),\n",
       " ('Lead Source_Click2call', False, 69),\n",
       " ('Lead Source_Direct Traffic', False, 81),\n",
       " ('Lead Source_Facebook', False, 44),\n",
       " ('Lead Source_Google', False, 93),\n",
       " ('Lead Source_Live Chat', False, 87),\n",
       " ('Lead Source_NC_EDM', False, 40),\n",
       " ('Lead Source_Olark Chat', False, 27),\n",
       " ('Lead Source_Organic Search', False, 94),\n",
       " ('Lead Source_Pay per Click Ads', False, 104),\n",
       " ('Lead Source_Press_Release', False, 84),\n",
       " ('Lead Source_Reference', False, 72),\n",
       " ('Lead Source_Referral Sites', False, 77),\n",
       " ('Lead Source_Social Media', False, 60),\n",
       " ('Lead Source_WeLearn', False, 95),\n",
       " ('Lead Source_Welingak Website', True, 1),\n",
       " ('Lead Source_bing', False, 66),\n",
       " ('Lead Source_blog', False, 68),\n",
       " ('Lead Source_google', False, 13),\n",
       " ('Lead Source_testone', False, 105),\n",
       " ('Lead Source_welearnblog_Home', False, 74),\n",
       " ('Lead Source_youtubechannel', False, 70),\n",
       " ('Last Activity_Approached upfront', False, 90),\n",
       " ('Last Activity_Converted to Lead', False, 62),\n",
       " ('Last Activity_Email Bounced', False, 25),\n",
       " ('Last Activity_Email Link Clicked', False, 82),\n",
       " ('Last Activity_Email Marked Spam', False, 101),\n",
       " ('Last Activity_Email Opened', False, 91),\n",
       " ('Last Activity_Email Received', False, 88),\n",
       " ('Last Activity_Form Submitted on Website', False, 99),\n",
       " ('Last Activity_Had a Phone Conversation', False, 71),\n",
       " ('Last Activity_Olark Chat Conversation', False, 26),\n",
       " ('Last Activity_Page Visited on Website', False, 76),\n",
       " ('Last Activity_Resubscribed to emails', False, 75),\n",
       " ('Last Activity_SMS Sent', True, 1),\n",
       " ('Last Activity_Unreachable', False, 97),\n",
       " ('Last Activity_Unsubscribed', False, 63),\n",
       " ('Last Activity_View in browser link Clicked', False, 51),\n",
       " ('Last Activity_Visited Booth in Tradeshow', False, 100),\n",
       " ('Specialization_Banking, Investment And Insurance', False, 34),\n",
       " ('Specialization_Business Administration', False, 35),\n",
       " ('Specialization_E-Business', False, 55),\n",
       " ('Specialization_E-COMMERCE', False, 23),\n",
       " ('Specialization_Finance Management', False, 37),\n",
       " ('Specialization_Healthcare Management', False, 43),\n",
       " ('Specialization_Hospitality Management', False, 58),\n",
       " ('Specialization_Human Resource Management', False, 39),\n",
       " ('Specialization_IT Projects Management', False, 29),\n",
       " ('Specialization_International Business', False, 57),\n",
       " ('Specialization_Marketing Management', False, 38),\n",
       " ('Specialization_Media and Advertising', False, 33),\n",
       " ('Specialization_Operations Management', False, 36),\n",
       " ('Specialization_Others', True, 1),\n",
       " ('Specialization_Retail Management', False, 50),\n",
       " ('Specialization_Rural and Agribusiness', False, 31),\n",
       " ('Specialization_Services Excellence', False, 32),\n",
       " ('Specialization_Supply Chain Management', False, 42),\n",
       " ('Specialization_Travel and Tourism', False, 56),\n",
       " ('What is your current occupation_Businessman', False, 28),\n",
       " ('What is your current occupation_Housewife', False, 22),\n",
       " ('What is your current occupation_Other', False, 98),\n",
       " ('What is your current occupation_Student', False, 73),\n",
       " ('What is your current occupation_Unemployed', False, 53),\n",
       " ('What is your current occupation_Working Professional', True, 1),\n",
       " ('Tags_Already a student', True, 1),\n",
       " ('Tags_Busy', True, 1),\n",
       " ('Tags_Closed by Horizzon', True, 1),\n",
       " ('Tags_Diploma holder (Not Eligible)', False, 5),\n",
       " ('Tags_Graduation in progress', False, 11),\n",
       " ('Tags_In confusion whether part time or DLP', False, 64),\n",
       " ('Tags_Interested  in full time MBA', False, 10),\n",
       " ('Tags_Interested in Next batch', False, 65),\n",
       " ('Tags_Interested in other courses', False, 6),\n",
       " ('Tags_Lateral student', False, 41),\n",
       " ('Tags_Lost to EINS', True, 1),\n",
       " ('Tags_Lost to Others', False, 17),\n",
       " ('Tags_Not doing further education', False, 9),\n",
       " ('Tags_Recognition issue (DEC approval)', False, 54),\n",
       " ('Tags_Ringing', True, 1),\n",
       " ('Tags_Shall take in the next coming month', False, 49),\n",
       " ('Tags_Still Thinking', False, 67),\n",
       " ('Tags_University not recognized', False, 96),\n",
       " ('Tags_Want to take admission but has financial problems', False, 92),\n",
       " ('Tags_Will revert after reading the email', True, 1),\n",
       " ('Tags_in touch with EINS', False, 20),\n",
       " ('Tags_invalid number', False, 3),\n",
       " ('Tags_number not provided', True, 1),\n",
       " ('Tags_opp hangup', False, 59),\n",
       " ('Tags_switched off', True, 1),\n",
       " ('Tags_wrong number given', False, 7),\n",
       " ('Lead Quality_High in Relevance', False, 2),\n",
       " ('Lead Quality_Low in Relevance', False, 8),\n",
       " ('Lead Quality_Might be', False, 48),\n",
       " ('Lead Quality_Not Sure', True, 1),\n",
       " ('Lead Quality_Worst', True, 1),\n",
       " ('Last Notable Activity_Approached upfront', False, 106),\n",
       " ('Last Notable Activity_Email Bounced', False, 24),\n",
       " ('Last Notable Activity_Email Link Clicked', False, 18),\n",
       " ('Last Notable Activity_Email Marked Spam', False, 102),\n",
       " ('Last Notable Activity_Email Opened', False, 85),\n",
       " ('Last Notable Activity_Email Received', False, 103),\n",
       " ('Last Notable Activity_Form Submitted on Website', False, 79),\n",
       " ('Last Notable Activity_Had a Phone Conversation', False, 21),\n",
       " ('Last Notable Activity_Modified', True, 1),\n",
       " ('Last Notable Activity_Olark Chat Conversation', False, 4),\n",
       " ('Last Notable Activity_Page Visited on Website', False, 52),\n",
       " ('Last Notable Activity_Resubscribed to emails', False, 80),\n",
       " ('Last Notable Activity_SMS Sent', False, 16),\n",
       " ('Last Notable Activity_Unreachable', False, 30),\n",
       " ('Last Notable Activity_Unsubscribed', False, 19),\n",
       " ('Last Notable Activity_View in browser link Clicked', False, 107)]"
      ]
     },
     "execution_count": 58,
     "metadata": {},
     "output_type": "execute_result"
    }
   ],
   "source": [
    "list(zip(X_train.columns, rfe.support_, rfe.ranking_))"
   ]
  },
  {
   "cell_type": "code",
   "execution_count": 59,
   "metadata": {},
   "outputs": [
    {
     "data": {
      "text/plain": [
       "Index(['Lead Source_Welingak Website', 'Last Activity_SMS Sent',\n",
       "       'Specialization_Others',\n",
       "       'What is your current occupation_Working Professional',\n",
       "       'Tags_Already a student', 'Tags_Busy', 'Tags_Closed by Horizzon',\n",
       "       'Tags_Lost to EINS', 'Tags_Ringing',\n",
       "       'Tags_Will revert after reading the email', 'Tags_number not provided',\n",
       "       'Tags_switched off', 'Lead Quality_Not Sure', 'Lead Quality_Worst',\n",
       "       'Last Notable Activity_Modified'],\n",
       "      dtype='object')"
      ]
     },
     "execution_count": 59,
     "metadata": {},
     "output_type": "execute_result"
    }
   ],
   "source": [
    "cols = X_train.columns[rfe.support_]\n",
    "cols"
   ]
  },
  {
   "cell_type": "code",
   "execution_count": 60,
   "metadata": {},
   "outputs": [
    {
     "data": {
      "text/plain": [
       "Index(['Do Not Email', 'Do Not Call', 'TotalVisits',\n",
       "       'Total Time Spent on Website', 'Page Views Per Visit',\n",
       "       'A free copy of Mastering The Interview', 'Lead Origin_API',\n",
       "       'Lead Origin_Landing Page Submission', 'Lead Origin_Lead Add Form',\n",
       "       'Lead Origin_Lead Import',\n",
       "       ...\n",
       "       'Last Notable Activity_Email Received',\n",
       "       'Last Notable Activity_Form Submitted on Website',\n",
       "       'Last Notable Activity_Had a Phone Conversation',\n",
       "       'Last Notable Activity_Olark Chat Conversation',\n",
       "       'Last Notable Activity_Page Visited on Website',\n",
       "       'Last Notable Activity_Resubscribed to emails',\n",
       "       'Last Notable Activity_SMS Sent', 'Last Notable Activity_Unreachable',\n",
       "       'Last Notable Activity_Unsubscribed',\n",
       "       'Last Notable Activity_View in browser link Clicked'],\n",
       "      dtype='object', length=106)"
      ]
     },
     "execution_count": 60,
     "metadata": {},
     "output_type": "execute_result"
    }
   ],
   "source": [
    "X_train.columns[~rfe.support_] # removing non supported cols"
   ]
  },
  {
   "cell_type": "code",
   "execution_count": 61,
   "metadata": {},
   "outputs": [
    {
     "data": {
      "text/html": [
       "<table class=\"simpletable\">\n",
       "<caption>Generalized Linear Model Regression Results</caption>\n",
       "<tr>\n",
       "  <th>Dep. Variable:</th>       <td>Converted</td>    <th>  No. Observations:  </th>  <td>  6468</td> \n",
       "</tr>\n",
       "<tr>\n",
       "  <th>Model:</th>                  <td>GLM</td>       <th>  Df Residuals:      </th>  <td>  6452</td> \n",
       "</tr>\n",
       "<tr>\n",
       "  <th>Model Family:</th>        <td>Binomial</td>     <th>  Df Model:          </th>  <td>    15</td> \n",
       "</tr>\n",
       "<tr>\n",
       "  <th>Link Function:</th>         <td>logit</td>      <th>  Scale:             </th> <td>  1.0000</td>\n",
       "</tr>\n",
       "<tr>\n",
       "  <th>Method:</th>                <td>IRLS</td>       <th>  Log-Likelihood:    </th> <td> -1520.2</td>\n",
       "</tr>\n",
       "<tr>\n",
       "  <th>Date:</th>            <td>Mon, 14 Jun 2021</td> <th>  Deviance:          </th> <td>  3040.3</td>\n",
       "</tr>\n",
       "<tr>\n",
       "  <th>Time:</th>                <td>22:06:42</td>     <th>  Pearson chi2:      </th> <td>5.19e+04</td>\n",
       "</tr>\n",
       "<tr>\n",
       "  <th>No. Iterations:</th>         <td>22</td>        <th>                     </th>     <td> </td>   \n",
       "</tr>\n",
       "<tr>\n",
       "  <th>Covariance Type:</th>     <td>nonrobust</td>    <th>                     </th>     <td> </td>   \n",
       "</tr>\n",
       "</table>\n",
       "<table class=\"simpletable\">\n",
       "<tr>\n",
       "                            <td></td>                              <th>coef</th>     <th>std err</th>      <th>z</th>      <th>P>|z|</th>  <th>[0.025</th>    <th>0.975]</th>  \n",
       "</tr>\n",
       "<tr>\n",
       "  <th>const</th>                                                <td>   -1.6549</td> <td>    0.224</td> <td>   -7.375</td> <td> 0.000</td> <td>   -2.095</td> <td>   -1.215</td>\n",
       "</tr>\n",
       "<tr>\n",
       "  <th>Lead Source_Welingak Website</th>                         <td>    3.2361</td> <td>    0.773</td> <td>    4.185</td> <td> 0.000</td> <td>    1.720</td> <td>    4.752</td>\n",
       "</tr>\n",
       "<tr>\n",
       "  <th>Last Activity_SMS Sent</th>                               <td>    2.0045</td> <td>    0.104</td> <td>   19.204</td> <td> 0.000</td> <td>    1.800</td> <td>    2.209</td>\n",
       "</tr>\n",
       "<tr>\n",
       "  <th>Specialization_Others</th>                                <td>    1.6138</td> <td>    0.127</td> <td>   12.725</td> <td> 0.000</td> <td>    1.365</td> <td>    1.862</td>\n",
       "</tr>\n",
       "<tr>\n",
       "  <th>What is your current occupation_Working Professional</th> <td>    1.6235</td> <td>    0.289</td> <td>    5.623</td> <td> 0.000</td> <td>    1.058</td> <td>    2.189</td>\n",
       "</tr>\n",
       "<tr>\n",
       "  <th>Tags_Already a student</th>                               <td>   -1.2321</td> <td>    0.785</td> <td>   -1.569</td> <td> 0.117</td> <td>   -2.771</td> <td>    0.307</td>\n",
       "</tr>\n",
       "<tr>\n",
       "  <th>Tags_Busy</th>                                            <td>    3.8372</td> <td>    0.319</td> <td>   12.020</td> <td> 0.000</td> <td>    3.212</td> <td>    4.463</td>\n",
       "</tr>\n",
       "<tr>\n",
       "  <th>Tags_Closed by Horizzon</th>                              <td>    9.5060</td> <td>    1.051</td> <td>    9.046</td> <td> 0.000</td> <td>    7.446</td> <td>   11.565</td>\n",
       "</tr>\n",
       "<tr>\n",
       "  <th>Tags_Lost to EINS</th>                                    <td>    9.8308</td> <td>    0.762</td> <td>   12.903</td> <td> 0.000</td> <td>    8.337</td> <td>   11.324</td>\n",
       "</tr>\n",
       "<tr>\n",
       "  <th>Tags_Ringing</th>                                         <td>   -1.9328</td> <td>    0.323</td> <td>   -5.985</td> <td> 0.000</td> <td>   -2.566</td> <td>   -1.300</td>\n",
       "</tr>\n",
       "<tr>\n",
       "  <th>Tags_Will revert after reading the email</th>             <td>    3.8922</td> <td>    0.232</td> <td>   16.765</td> <td> 0.000</td> <td>    3.437</td> <td>    4.347</td>\n",
       "</tr>\n",
       "<tr>\n",
       "  <th>Tags_number not provided</th>                             <td>  -22.0170</td> <td> 1.33e+04</td> <td>   -0.002</td> <td> 0.999</td> <td>-2.61e+04</td> <td>  2.6e+04</td>\n",
       "</tr>\n",
       "<tr>\n",
       "  <th>Tags_switched off</th>                                    <td>   -2.6897</td> <td>    0.597</td> <td>   -4.507</td> <td> 0.000</td> <td>   -3.859</td> <td>   -1.520</td>\n",
       "</tr>\n",
       "<tr>\n",
       "  <th>Lead Quality_Not Sure</th>                                <td>   -3.6025</td> <td>    0.133</td> <td>  -27.035</td> <td> 0.000</td> <td>   -3.864</td> <td>   -3.341</td>\n",
       "</tr>\n",
       "<tr>\n",
       "  <th>Lead Quality_Worst</th>                                   <td>   -3.4618</td> <td>    0.716</td> <td>   -4.838</td> <td> 0.000</td> <td>   -4.864</td> <td>   -2.059</td>\n",
       "</tr>\n",
       "<tr>\n",
       "  <th>Last Notable Activity_Modified</th>                       <td>   -1.5663</td> <td>    0.106</td> <td>  -14.737</td> <td> 0.000</td> <td>   -1.775</td> <td>   -1.358</td>\n",
       "</tr>\n",
       "</table>"
      ],
      "text/plain": [
       "<class 'statsmodels.iolib.summary.Summary'>\n",
       "\"\"\"\n",
       "                 Generalized Linear Model Regression Results                  \n",
       "==============================================================================\n",
       "Dep. Variable:              Converted   No. Observations:                 6468\n",
       "Model:                            GLM   Df Residuals:                     6452\n",
       "Model Family:                Binomial   Df Model:                           15\n",
       "Link Function:                  logit   Scale:                          1.0000\n",
       "Method:                          IRLS   Log-Likelihood:                -1520.2\n",
       "Date:                Mon, 14 Jun 2021   Deviance:                       3040.3\n",
       "Time:                        22:06:42   Pearson chi2:                 5.19e+04\n",
       "No. Iterations:                    22                                         \n",
       "Covariance Type:            nonrobust                                         \n",
       "========================================================================================================================\n",
       "                                                           coef    std err          z      P>|z|      [0.025      0.975]\n",
       "------------------------------------------------------------------------------------------------------------------------\n",
       "const                                                   -1.6549      0.224     -7.375      0.000      -2.095      -1.215\n",
       "Lead Source_Welingak Website                             3.2361      0.773      4.185      0.000       1.720       4.752\n",
       "Last Activity_SMS Sent                                   2.0045      0.104     19.204      0.000       1.800       2.209\n",
       "Specialization_Others                                    1.6138      0.127     12.725      0.000       1.365       1.862\n",
       "What is your current occupation_Working Professional     1.6235      0.289      5.623      0.000       1.058       2.189\n",
       "Tags_Already a student                                  -1.2321      0.785     -1.569      0.117      -2.771       0.307\n",
       "Tags_Busy                                                3.8372      0.319     12.020      0.000       3.212       4.463\n",
       "Tags_Closed by Horizzon                                  9.5060      1.051      9.046      0.000       7.446      11.565\n",
       "Tags_Lost to EINS                                        9.8308      0.762     12.903      0.000       8.337      11.324\n",
       "Tags_Ringing                                            -1.9328      0.323     -5.985      0.000      -2.566      -1.300\n",
       "Tags_Will revert after reading the email                 3.8922      0.232     16.765      0.000       3.437       4.347\n",
       "Tags_number not provided                               -22.0170   1.33e+04     -0.002      0.999   -2.61e+04     2.6e+04\n",
       "Tags_switched off                                       -2.6897      0.597     -4.507      0.000      -3.859      -1.520\n",
       "Lead Quality_Not Sure                                   -3.6025      0.133    -27.035      0.000      -3.864      -3.341\n",
       "Lead Quality_Worst                                      -3.4618      0.716     -4.838      0.000      -4.864      -2.059\n",
       "Last Notable Activity_Modified                          -1.5663      0.106    -14.737      0.000      -1.775      -1.358\n",
       "========================================================================================================================\n",
       "\"\"\""
      ]
     },
     "execution_count": 61,
     "metadata": {},
     "output_type": "execute_result"
    }
   ],
   "source": [
    "X_train_sm = sm.add_constant(X_train[cols])\n",
    "logm2 = sm.GLM(y_train,X_train_sm, family = sm.families.Binomial())\n",
    "result = logm2.fit()\n",
    "result.summary()"
   ]
  },
  {
   "cell_type": "code",
   "execution_count": 62,
   "metadata": {},
   "outputs": [
    {
     "data": {
      "text/plain": [
       "Index(['Lead Source_Welingak Website', 'Last Activity_SMS Sent',\n",
       "       'Specialization_Others',\n",
       "       'What is your current occupation_Working Professional',\n",
       "       'Tags_Already a student', 'Tags_Busy', 'Tags_Closed by Horizzon',\n",
       "       'Tags_Lost to EINS', 'Tags_Ringing',\n",
       "       'Tags_Will revert after reading the email', 'Tags_switched off',\n",
       "       'Lead Quality_Not Sure', 'Lead Quality_Worst',\n",
       "       'Last Notable Activity_Modified'],\n",
       "      dtype='object')"
      ]
     },
     "execution_count": 62,
     "metadata": {},
     "output_type": "execute_result"
    }
   ],
   "source": [
    "# removing Tags_number not provided as p value>0.5\n",
    "cols2 = cols.drop('Tags_number not provided',1)\n",
    "cols2"
   ]
  },
  {
   "cell_type": "code",
   "execution_count": 63,
   "metadata": {},
   "outputs": [
    {
     "data": {
      "text/html": [
       "<table class=\"simpletable\">\n",
       "<caption>Generalized Linear Model Regression Results</caption>\n",
       "<tr>\n",
       "  <th>Dep. Variable:</th>       <td>Converted</td>    <th>  No. Observations:  </th>  <td>  6468</td> \n",
       "</tr>\n",
       "<tr>\n",
       "  <th>Model:</th>                  <td>GLM</td>       <th>  Df Residuals:      </th>  <td>  6453</td> \n",
       "</tr>\n",
       "<tr>\n",
       "  <th>Model Family:</th>        <td>Binomial</td>     <th>  Df Model:          </th>  <td>    14</td> \n",
       "</tr>\n",
       "<tr>\n",
       "  <th>Link Function:</th>         <td>logit</td>      <th>  Scale:             </th> <td>  1.0000</td>\n",
       "</tr>\n",
       "<tr>\n",
       "  <th>Method:</th>                <td>IRLS</td>       <th>  Log-Likelihood:    </th> <td> -1525.0</td>\n",
       "</tr>\n",
       "<tr>\n",
       "  <th>Date:</th>            <td>Mon, 14 Jun 2021</td> <th>  Deviance:          </th> <td>  3050.0</td>\n",
       "</tr>\n",
       "<tr>\n",
       "  <th>Time:</th>                <td>22:06:43</td>     <th>  Pearson chi2:      </th> <td>5.10e+04</td>\n",
       "</tr>\n",
       "<tr>\n",
       "  <th>No. Iterations:</th>          <td>9</td>        <th>                     </th>     <td> </td>   \n",
       "</tr>\n",
       "<tr>\n",
       "  <th>Covariance Type:</th>     <td>nonrobust</td>    <th>                     </th>     <td> </td>   \n",
       "</tr>\n",
       "</table>\n",
       "<table class=\"simpletable\">\n",
       "<tr>\n",
       "                            <td></td>                              <th>coef</th>     <th>std err</th>      <th>z</th>      <th>P>|z|</th>  <th>[0.025</th>    <th>0.975]</th>  \n",
       "</tr>\n",
       "<tr>\n",
       "  <th>const</th>                                                <td>   -1.8078</td> <td>    0.223</td> <td>   -8.113</td> <td> 0.000</td> <td>   -2.245</td> <td>   -1.371</td>\n",
       "</tr>\n",
       "<tr>\n",
       "  <th>Lead Source_Welingak Website</th>                         <td>    3.2241</td> <td>    0.773</td> <td>    4.172</td> <td> 0.000</td> <td>    1.710</td> <td>    4.739</td>\n",
       "</tr>\n",
       "<tr>\n",
       "  <th>Last Activity_SMS Sent</th>                               <td>    1.9915</td> <td>    0.104</td> <td>   19.151</td> <td> 0.000</td> <td>    1.788</td> <td>    2.195</td>\n",
       "</tr>\n",
       "<tr>\n",
       "  <th>Specialization_Others</th>                                <td>    1.6191</td> <td>    0.127</td> <td>   12.784</td> <td> 0.000</td> <td>    1.371</td> <td>    1.867</td>\n",
       "</tr>\n",
       "<tr>\n",
       "  <th>What is your current occupation_Working Professional</th> <td>    1.6483</td> <td>    0.290</td> <td>    5.675</td> <td> 0.000</td> <td>    1.079</td> <td>    2.218</td>\n",
       "</tr>\n",
       "<tr>\n",
       "  <th>Tags_Already a student</th>                               <td>   -1.0983</td> <td>    0.786</td> <td>   -1.398</td> <td> 0.162</td> <td>   -2.639</td> <td>    0.442</td>\n",
       "</tr>\n",
       "<tr>\n",
       "  <th>Tags_Busy</th>                                            <td>    3.9806</td> <td>    0.319</td> <td>   12.483</td> <td> 0.000</td> <td>    3.356</td> <td>    4.606</td>\n",
       "</tr>\n",
       "<tr>\n",
       "  <th>Tags_Closed by Horizzon</th>                              <td>    9.6307</td> <td>    1.051</td> <td>    9.163</td> <td> 0.000</td> <td>    7.571</td> <td>   11.691</td>\n",
       "</tr>\n",
       "<tr>\n",
       "  <th>Tags_Lost to EINS</th>                                    <td>    9.9550</td> <td>    0.762</td> <td>   13.057</td> <td> 0.000</td> <td>    8.461</td> <td>   11.449</td>\n",
       "</tr>\n",
       "<tr>\n",
       "  <th>Tags_Ringing</th>                                         <td>   -1.7755</td> <td>    0.321</td> <td>   -5.532</td> <td> 0.000</td> <td>   -2.405</td> <td>   -1.146</td>\n",
       "</tr>\n",
       "<tr>\n",
       "  <th>Tags_Will revert after reading the email</th>             <td>    4.0303</td> <td>    0.232</td> <td>   17.337</td> <td> 0.000</td> <td>    3.575</td> <td>    4.486</td>\n",
       "</tr>\n",
       "<tr>\n",
       "  <th>Tags_switched off</th>                                    <td>   -2.5316</td> <td>    0.596</td> <td>   -4.250</td> <td> 0.000</td> <td>   -3.699</td> <td>   -1.364</td>\n",
       "</tr>\n",
       "<tr>\n",
       "  <th>Lead Quality_Not Sure</th>                                <td>   -3.5871</td> <td>    0.133</td> <td>  -26.994</td> <td> 0.000</td> <td>   -3.848</td> <td>   -3.327</td>\n",
       "</tr>\n",
       "<tr>\n",
       "  <th>Lead Quality_Worst</th>                                   <td>   -3.4406</td> <td>    0.719</td> <td>   -4.782</td> <td> 0.000</td> <td>   -4.851</td> <td>   -2.031</td>\n",
       "</tr>\n",
       "<tr>\n",
       "  <th>Last Notable Activity_Modified</th>                       <td>   -1.5507</td> <td>    0.106</td> <td>  -14.638</td> <td> 0.000</td> <td>   -1.758</td> <td>   -1.343</td>\n",
       "</tr>\n",
       "</table>"
      ],
      "text/plain": [
       "<class 'statsmodels.iolib.summary.Summary'>\n",
       "\"\"\"\n",
       "                 Generalized Linear Model Regression Results                  \n",
       "==============================================================================\n",
       "Dep. Variable:              Converted   No. Observations:                 6468\n",
       "Model:                            GLM   Df Residuals:                     6453\n",
       "Model Family:                Binomial   Df Model:                           14\n",
       "Link Function:                  logit   Scale:                          1.0000\n",
       "Method:                          IRLS   Log-Likelihood:                -1525.0\n",
       "Date:                Mon, 14 Jun 2021   Deviance:                       3050.0\n",
       "Time:                        22:06:43   Pearson chi2:                 5.10e+04\n",
       "No. Iterations:                     9                                         \n",
       "Covariance Type:            nonrobust                                         \n",
       "========================================================================================================================\n",
       "                                                           coef    std err          z      P>|z|      [0.025      0.975]\n",
       "------------------------------------------------------------------------------------------------------------------------\n",
       "const                                                   -1.8078      0.223     -8.113      0.000      -2.245      -1.371\n",
       "Lead Source_Welingak Website                             3.2241      0.773      4.172      0.000       1.710       4.739\n",
       "Last Activity_SMS Sent                                   1.9915      0.104     19.151      0.000       1.788       2.195\n",
       "Specialization_Others                                    1.6191      0.127     12.784      0.000       1.371       1.867\n",
       "What is your current occupation_Working Professional     1.6483      0.290      5.675      0.000       1.079       2.218\n",
       "Tags_Already a student                                  -1.0983      0.786     -1.398      0.162      -2.639       0.442\n",
       "Tags_Busy                                                3.9806      0.319     12.483      0.000       3.356       4.606\n",
       "Tags_Closed by Horizzon                                  9.6307      1.051      9.163      0.000       7.571      11.691\n",
       "Tags_Lost to EINS                                        9.9550      0.762     13.057      0.000       8.461      11.449\n",
       "Tags_Ringing                                            -1.7755      0.321     -5.532      0.000      -2.405      -1.146\n",
       "Tags_Will revert after reading the email                 4.0303      0.232     17.337      0.000       3.575       4.486\n",
       "Tags_switched off                                       -2.5316      0.596     -4.250      0.000      -3.699      -1.364\n",
       "Lead Quality_Not Sure                                   -3.5871      0.133    -26.994      0.000      -3.848      -3.327\n",
       "Lead Quality_Worst                                      -3.4406      0.719     -4.782      0.000      -4.851      -2.031\n",
       "Last Notable Activity_Modified                          -1.5507      0.106    -14.638      0.000      -1.758      -1.343\n",
       "========================================================================================================================\n",
       "\"\"\""
      ]
     },
     "execution_count": 63,
     "metadata": {},
     "output_type": "execute_result"
    }
   ],
   "source": [
    "#regression 3\n",
    "X_train_sm = sm.add_constant(X_train[cols2])\n",
    "logm3 = sm.GLM(y_train,X_train_sm, family = sm.families.Binomial())\n",
    "result = logm3.fit()\n",
    "result.summary()"
   ]
  },
  {
   "cell_type": "code",
   "execution_count": 64,
   "metadata": {},
   "outputs": [
    {
     "data": {
      "text/plain": [
       "1871    0.000768\n",
       "6795    0.563294\n",
       "3516    0.003867\n",
       "8105    0.169123\n",
       "3934    0.214805\n",
       "4844    0.997163\n",
       "3297    0.000768\n",
       "8071    0.999637\n",
       "987     0.051403\n",
       "7423    0.997079\n",
       "dtype: float64"
      ]
     },
     "execution_count": 64,
     "metadata": {},
     "output_type": "execute_result"
    }
   ],
   "source": [
    "# summay looks fine now so getting the predicted values on the train set\n",
    "y_train_pred = result.predict(X_train_sm)\n",
    "y_train_pred[:10]"
   ]
  },
  {
   "cell_type": "code",
   "execution_count": 65,
   "metadata": {},
   "outputs": [
    {
     "data": {
      "text/plain": [
       "array([7.68443987e-04, 5.63293717e-01, 3.86745709e-03, 1.69123050e-01,\n",
       "       2.14805336e-01, 9.97163307e-01, 7.68443987e-04, 9.99636908e-01,\n",
       "       5.14028548e-02, 9.97079452e-01])"
      ]
     },
     "execution_count": 65,
     "metadata": {},
     "output_type": "execute_result"
    }
   ],
   "source": [
    "y_train_pred = y_train_pred.values.reshape(-1)\n",
    "y_train_pred[:10]"
   ]
  },
  {
   "cell_type": "code",
   "execution_count": 66,
   "metadata": {},
   "outputs": [
    {
     "data": {
      "text/html": [
       "<div>\n",
       "<style scoped>\n",
       "    .dataframe tbody tr th:only-of-type {\n",
       "        vertical-align: middle;\n",
       "    }\n",
       "\n",
       "    .dataframe tbody tr th {\n",
       "        vertical-align: top;\n",
       "    }\n",
       "\n",
       "    .dataframe thead th {\n",
       "        text-align: right;\n",
       "    }\n",
       "</style>\n",
       "<table border=\"1\" class=\"dataframe\">\n",
       "  <thead>\n",
       "    <tr style=\"text-align: right;\">\n",
       "      <th></th>\n",
       "      <th>Converted</th>\n",
       "      <th>Converted_Probility</th>\n",
       "      <th>Lead Number</th>\n",
       "    </tr>\n",
       "  </thead>\n",
       "  <tbody>\n",
       "    <tr>\n",
       "      <th>0</th>\n",
       "      <td>0</td>\n",
       "      <td>0.000768</td>\n",
       "      <td>1871</td>\n",
       "    </tr>\n",
       "    <tr>\n",
       "      <th>1</th>\n",
       "      <td>0</td>\n",
       "      <td>0.563294</td>\n",
       "      <td>6795</td>\n",
       "    </tr>\n",
       "    <tr>\n",
       "      <th>2</th>\n",
       "      <td>0</td>\n",
       "      <td>0.003867</td>\n",
       "      <td>3516</td>\n",
       "    </tr>\n",
       "    <tr>\n",
       "      <th>3</th>\n",
       "      <td>0</td>\n",
       "      <td>0.169123</td>\n",
       "      <td>8105</td>\n",
       "    </tr>\n",
       "    <tr>\n",
       "      <th>4</th>\n",
       "      <td>0</td>\n",
       "      <td>0.214805</td>\n",
       "      <td>3934</td>\n",
       "    </tr>\n",
       "  </tbody>\n",
       "</table>\n",
       "</div>"
      ],
      "text/plain": [
       "   Converted  Converted_Probility  Lead Number\n",
       "0          0             0.000768         1871\n",
       "1          0             0.563294         6795\n",
       "2          0             0.003867         3516\n",
       "3          0             0.169123         8105\n",
       "4          0             0.214805         3934"
      ]
     },
     "execution_count": 66,
     "metadata": {},
     "output_type": "execute_result"
    }
   ],
   "source": [
    "y_train_pred_final = pd.DataFrame({'Converted':y_train.values, 'Converted_Probility':y_train_pred})\n",
    "y_train_pred_final['Lead Number'] = y_train.index\n",
    "y_train_pred_final.head()"
   ]
  },
  {
   "cell_type": "code",
   "execution_count": 67,
   "metadata": {},
   "outputs": [
    {
     "data": {
      "text/html": [
       "<div>\n",
       "<style scoped>\n",
       "    .dataframe tbody tr th:only-of-type {\n",
       "        vertical-align: middle;\n",
       "    }\n",
       "\n",
       "    .dataframe tbody tr th {\n",
       "        vertical-align: top;\n",
       "    }\n",
       "\n",
       "    .dataframe thead th {\n",
       "        text-align: right;\n",
       "    }\n",
       "</style>\n",
       "<table border=\"1\" class=\"dataframe\">\n",
       "  <thead>\n",
       "    <tr style=\"text-align: right;\">\n",
       "      <th></th>\n",
       "      <th>Converted</th>\n",
       "      <th>Converted_Probility</th>\n",
       "      <th>Lead Number</th>\n",
       "      <th>Predicted</th>\n",
       "    </tr>\n",
       "  </thead>\n",
       "  <tbody>\n",
       "    <tr>\n",
       "      <th>0</th>\n",
       "      <td>0</td>\n",
       "      <td>0.000768</td>\n",
       "      <td>1871</td>\n",
       "      <td>0</td>\n",
       "    </tr>\n",
       "    <tr>\n",
       "      <th>1</th>\n",
       "      <td>0</td>\n",
       "      <td>0.563294</td>\n",
       "      <td>6795</td>\n",
       "      <td>1</td>\n",
       "    </tr>\n",
       "    <tr>\n",
       "      <th>2</th>\n",
       "      <td>0</td>\n",
       "      <td>0.003867</td>\n",
       "      <td>3516</td>\n",
       "      <td>0</td>\n",
       "    </tr>\n",
       "    <tr>\n",
       "      <th>3</th>\n",
       "      <td>0</td>\n",
       "      <td>0.169123</td>\n",
       "      <td>8105</td>\n",
       "      <td>0</td>\n",
       "    </tr>\n",
       "    <tr>\n",
       "      <th>4</th>\n",
       "      <td>0</td>\n",
       "      <td>0.214805</td>\n",
       "      <td>3934</td>\n",
       "      <td>0</td>\n",
       "    </tr>\n",
       "  </tbody>\n",
       "</table>\n",
       "</div>"
      ],
      "text/plain": [
       "   Converted  Converted_Probility  Lead Number  Predicted\n",
       "0          0             0.000768         1871          0\n",
       "1          0             0.563294         6795          1\n",
       "2          0             0.003867         3516          0\n",
       "3          0             0.169123         8105          0\n",
       "4          0             0.214805         3934          0"
      ]
     },
     "execution_count": 67,
     "metadata": {},
     "output_type": "execute_result"
    }
   ],
   "source": [
    "#creating predicted for convertion probability>0.5\n",
    "y_train_pred_final['Predicted'] = y_train_pred_final.Converted_Probility.map(lambda x: 1 if x > 0.5 else 0) \n",
    "y_train_pred_final.head()"
   ]
  },
  {
   "cell_type": "code",
   "execution_count": 68,
   "metadata": {},
   "outputs": [],
   "source": [
    "# Confusion matrix \n",
    "confusion=metrics.confusion_matrix(y_train_pred_final.Converted, y_train_pred_final.Predicted )"
   ]
  },
  {
   "cell_type": "code",
   "execution_count": 69,
   "metadata": {},
   "outputs": [
    {
     "data": {
      "text/plain": [
       "0.922077922077922"
      ]
     },
     "execution_count": 69,
     "metadata": {},
     "output_type": "execute_result"
    }
   ],
   "source": [
    "metrics.accuracy_score(y_train_pred_final.Converted, y_train_pred_final.Predicted) # accurecy score"
   ]
  },
  {
   "cell_type": "code",
   "execution_count": 70,
   "metadata": {},
   "outputs": [],
   "source": [
    "TP = confusion[1,1] # True positiv \n",
    "TN = confusion[0,0] # True negative\n",
    "FP = confusion[0,1] # False positive\n",
    "FN = confusion[1,0] # False negative"
   ]
  },
  {
   "cell_type": "code",
   "execution_count": 71,
   "metadata": {},
   "outputs": [
    {
     "data": {
      "text/plain": [
       "0.8913219789132197"
      ]
     },
     "execution_count": 71,
     "metadata": {},
     "output_type": "execute_result"
    }
   ],
   "source": [
    "# sensitivity\n",
    "TP / float(TP+FN)"
   ]
  },
  {
   "cell_type": "code",
   "execution_count": 72,
   "metadata": {},
   "outputs": [
    {
     "data": {
      "text/plain": [
       "0.9410294852573713"
      ]
     },
     "execution_count": 72,
     "metadata": {},
     "output_type": "execute_result"
    }
   ],
   "source": [
    "#specificity\n",
    "TN / float(TN+FP)"
   ]
  },
  {
   "cell_type": "code",
   "execution_count": 73,
   "metadata": {},
   "outputs": [
    {
     "data": {
      "text/plain": [
       "0.05897051474262868"
      ]
     },
     "execution_count": 73,
     "metadata": {},
     "output_type": "execute_result"
    }
   ],
   "source": [
    "FP/ float(TN+FP) #false postive rate - predicting churn when customer does not have churned"
   ]
  },
  {
   "cell_type": "code",
   "execution_count": 74,
   "metadata": {
    "scrolled": true
   },
   "outputs": [
    {
     "data": {
      "text/plain": [
       "0.9030402629416598"
      ]
     },
     "execution_count": 74,
     "metadata": {},
     "output_type": "execute_result"
    }
   ],
   "source": [
    "TP / float(TP+FP) #Positive predictive value "
   ]
  },
  {
   "cell_type": "code",
   "execution_count": 75,
   "metadata": {},
   "outputs": [
    {
     "data": {
      "text/plain": [
       "0.9335647000495786"
      ]
     },
     "execution_count": 75,
     "metadata": {},
     "output_type": "execute_result"
    }
   ],
   "source": [
    "TN / float(TN+ FN) #Negative predictive value"
   ]
  },
  {
   "cell_type": "code",
   "execution_count": 76,
   "metadata": {},
   "outputs": [
    {
     "data": {
      "text/html": [
       "<div>\n",
       "<style scoped>\n",
       "    .dataframe tbody tr th:only-of-type {\n",
       "        vertical-align: middle;\n",
       "    }\n",
       "\n",
       "    .dataframe tbody tr th {\n",
       "        vertical-align: top;\n",
       "    }\n",
       "\n",
       "    .dataframe thead th {\n",
       "        text-align: right;\n",
       "    }\n",
       "</style>\n",
       "<table border=\"1\" class=\"dataframe\">\n",
       "  <thead>\n",
       "    <tr style=\"text-align: right;\">\n",
       "      <th></th>\n",
       "      <th>Lead Source_Welingak Website</th>\n",
       "      <th>Last Activity_SMS Sent</th>\n",
       "      <th>Specialization_Others</th>\n",
       "      <th>What is your current occupation_Working Professional</th>\n",
       "      <th>Tags_Already a student</th>\n",
       "      <th>Tags_Busy</th>\n",
       "      <th>Tags_Closed by Horizzon</th>\n",
       "      <th>Tags_Lost to EINS</th>\n",
       "      <th>Tags_Ringing</th>\n",
       "      <th>Tags_Will revert after reading the email</th>\n",
       "      <th>Tags_switched off</th>\n",
       "      <th>Lead Quality_Not Sure</th>\n",
       "      <th>Lead Quality_Worst</th>\n",
       "      <th>Last Notable Activity_Modified</th>\n",
       "    </tr>\n",
       "  </thead>\n",
       "  <tbody>\n",
       "    <tr>\n",
       "      <th>4269</th>\n",
       "      <td>0</td>\n",
       "      <td>1</td>\n",
       "      <td>0</td>\n",
       "      <td>0</td>\n",
       "      <td>0</td>\n",
       "      <td>0</td>\n",
       "      <td>0</td>\n",
       "      <td>0</td>\n",
       "      <td>0</td>\n",
       "      <td>1</td>\n",
       "      <td>0</td>\n",
       "      <td>1</td>\n",
       "      <td>0</td>\n",
       "      <td>0</td>\n",
       "    </tr>\n",
       "    <tr>\n",
       "      <th>2376</th>\n",
       "      <td>0</td>\n",
       "      <td>1</td>\n",
       "      <td>1</td>\n",
       "      <td>0</td>\n",
       "      <td>0</td>\n",
       "      <td>0</td>\n",
       "      <td>0</td>\n",
       "      <td>0</td>\n",
       "      <td>0</td>\n",
       "      <td>1</td>\n",
       "      <td>0</td>\n",
       "      <td>0</td>\n",
       "      <td>0</td>\n",
       "      <td>0</td>\n",
       "    </tr>\n",
       "    <tr>\n",
       "      <th>7766</th>\n",
       "      <td>0</td>\n",
       "      <td>0</td>\n",
       "      <td>0</td>\n",
       "      <td>1</td>\n",
       "      <td>0</td>\n",
       "      <td>0</td>\n",
       "      <td>0</td>\n",
       "      <td>0</td>\n",
       "      <td>0</td>\n",
       "      <td>1</td>\n",
       "      <td>0</td>\n",
       "      <td>0</td>\n",
       "      <td>0</td>\n",
       "      <td>0</td>\n",
       "    </tr>\n",
       "    <tr>\n",
       "      <th>9199</th>\n",
       "      <td>0</td>\n",
       "      <td>0</td>\n",
       "      <td>1</td>\n",
       "      <td>0</td>\n",
       "      <td>1</td>\n",
       "      <td>0</td>\n",
       "      <td>0</td>\n",
       "      <td>0</td>\n",
       "      <td>0</td>\n",
       "      <td>0</td>\n",
       "      <td>0</td>\n",
       "      <td>1</td>\n",
       "      <td>0</td>\n",
       "      <td>1</td>\n",
       "    </tr>\n",
       "    <tr>\n",
       "      <th>4359</th>\n",
       "      <td>0</td>\n",
       "      <td>0</td>\n",
       "      <td>0</td>\n",
       "      <td>0</td>\n",
       "      <td>0</td>\n",
       "      <td>0</td>\n",
       "      <td>0</td>\n",
       "      <td>0</td>\n",
       "      <td>0</td>\n",
       "      <td>1</td>\n",
       "      <td>0</td>\n",
       "      <td>0</td>\n",
       "      <td>0</td>\n",
       "      <td>0</td>\n",
       "    </tr>\n",
       "  </tbody>\n",
       "</table>\n",
       "</div>"
      ],
      "text/plain": [
       "      Lead Source_Welingak Website  Last Activity_SMS Sent  \\\n",
       "4269                             0                       1   \n",
       "2376                             0                       1   \n",
       "7766                             0                       0   \n",
       "9199                             0                       0   \n",
       "4359                             0                       0   \n",
       "\n",
       "      Specialization_Others  \\\n",
       "4269                      0   \n",
       "2376                      1   \n",
       "7766                      0   \n",
       "9199                      1   \n",
       "4359                      0   \n",
       "\n",
       "      What is your current occupation_Working Professional  \\\n",
       "4269                                                  0      \n",
       "2376                                                  0      \n",
       "7766                                                  1      \n",
       "9199                                                  0      \n",
       "4359                                                  0      \n",
       "\n",
       "      Tags_Already a student  Tags_Busy  Tags_Closed by Horizzon  \\\n",
       "4269                       0          0                        0   \n",
       "2376                       0          0                        0   \n",
       "7766                       0          0                        0   \n",
       "9199                       1          0                        0   \n",
       "4359                       0          0                        0   \n",
       "\n",
       "      Tags_Lost to EINS  Tags_Ringing  \\\n",
       "4269                  0             0   \n",
       "2376                  0             0   \n",
       "7766                  0             0   \n",
       "9199                  0             0   \n",
       "4359                  0             0   \n",
       "\n",
       "      Tags_Will revert after reading the email  Tags_switched off  \\\n",
       "4269                                         1                  0   \n",
       "2376                                         1                  0   \n",
       "7766                                         1                  0   \n",
       "9199                                         0                  0   \n",
       "4359                                         1                  0   \n",
       "\n",
       "      Lead Quality_Not Sure  Lead Quality_Worst  \\\n",
       "4269                      1                   0   \n",
       "2376                      0                   0   \n",
       "7766                      0                   0   \n",
       "9199                      1                   0   \n",
       "4359                      0                   0   \n",
       "\n",
       "      Last Notable Activity_Modified  \n",
       "4269                               0  \n",
       "2376                               0  \n",
       "7766                               0  \n",
       "9199                               1  \n",
       "4359                               0  "
      ]
     },
     "execution_count": 76,
     "metadata": {},
     "output_type": "execute_result"
    }
   ],
   "source": [
    "## predicting on Test set\n",
    "X_test[['TotalVisits','Total Time Spent on Website','Page Views Per Visit']] = scaler.fit_transform(X_test[['TotalVisits','Total Time Spent on Website','Page Views Per Visit']])\n",
    "X_test = X_test[cols2]\n",
    "X_test.head()"
   ]
  },
  {
   "cell_type": "code",
   "execution_count": 77,
   "metadata": {},
   "outputs": [],
   "source": [
    "X_test_sm = sm.add_constant(X_test)"
   ]
  },
  {
   "cell_type": "code",
   "execution_count": 78,
   "metadata": {},
   "outputs": [],
   "source": [
    "y_test_pred = result.predict(X_test_sm)"
   ]
  },
  {
   "cell_type": "code",
   "execution_count": 79,
   "metadata": {},
   "outputs": [
    {
     "data": {
      "text/plain": [
       "4269    0.651786\n",
       "2376    0.997079\n",
       "7766    0.979584\n",
       "9199    0.001618\n",
       "4359    0.902253\n",
       "9186    0.985428\n",
       "1631    0.902253\n",
       "8963    0.978992\n",
       "8007    0.051403\n",
       "5324    0.985428\n",
       "dtype: float64"
      ]
     },
     "execution_count": 79,
     "metadata": {},
     "output_type": "execute_result"
    }
   ],
   "source": [
    "y_test_pred[:10]"
   ]
  },
  {
   "cell_type": "code",
   "execution_count": 80,
   "metadata": {},
   "outputs": [
    {
     "data": {
      "text/html": [
       "<div>\n",
       "<style scoped>\n",
       "    .dataframe tbody tr th:only-of-type {\n",
       "        vertical-align: middle;\n",
       "    }\n",
       "\n",
       "    .dataframe tbody tr th {\n",
       "        vertical-align: top;\n",
       "    }\n",
       "\n",
       "    .dataframe thead th {\n",
       "        text-align: right;\n",
       "    }\n",
       "</style>\n",
       "<table border=\"1\" class=\"dataframe\">\n",
       "  <thead>\n",
       "    <tr style=\"text-align: right;\">\n",
       "      <th></th>\n",
       "      <th>0</th>\n",
       "    </tr>\n",
       "  </thead>\n",
       "  <tbody>\n",
       "    <tr>\n",
       "      <th>4269</th>\n",
       "      <td>0.651786</td>\n",
       "    </tr>\n",
       "    <tr>\n",
       "      <th>2376</th>\n",
       "      <td>0.997079</td>\n",
       "    </tr>\n",
       "    <tr>\n",
       "      <th>7766</th>\n",
       "      <td>0.979584</td>\n",
       "    </tr>\n",
       "    <tr>\n",
       "      <th>9199</th>\n",
       "      <td>0.001618</td>\n",
       "    </tr>\n",
       "    <tr>\n",
       "      <th>4359</th>\n",
       "      <td>0.902253</td>\n",
       "    </tr>\n",
       "  </tbody>\n",
       "</table>\n",
       "</div>"
      ],
      "text/plain": [
       "             0\n",
       "4269  0.651786\n",
       "2376  0.997079\n",
       "7766  0.979584\n",
       "9199  0.001618\n",
       "4359  0.902253"
      ]
     },
     "execution_count": 80,
     "metadata": {},
     "output_type": "execute_result"
    }
   ],
   "source": [
    "y_pred_1 = pd.DataFrame(y_test_pred)\n",
    "y_pred_1.head()"
   ]
  },
  {
   "cell_type": "code",
   "execution_count": 81,
   "metadata": {},
   "outputs": [],
   "source": [
    "y_test_df = pd.DataFrame(y_test)"
   ]
  },
  {
   "cell_type": "code",
   "execution_count": 82,
   "metadata": {},
   "outputs": [],
   "source": [
    "y_test_df['Lead Number'] = y_test_df.index"
   ]
  },
  {
   "cell_type": "code",
   "execution_count": 83,
   "metadata": {},
   "outputs": [],
   "source": [
    "# Removing index for both dataframes to append them side by side \n",
    "y_pred_1.reset_index(drop=True, inplace=True)\n",
    "y_test_df.reset_index(drop=True, inplace=True)"
   ]
  },
  {
   "cell_type": "code",
   "execution_count": 84,
   "metadata": {},
   "outputs": [
    {
     "data": {
      "text/html": [
       "<div>\n",
       "<style scoped>\n",
       "    .dataframe tbody tr th:only-of-type {\n",
       "        vertical-align: middle;\n",
       "    }\n",
       "\n",
       "    .dataframe tbody tr th {\n",
       "        vertical-align: top;\n",
       "    }\n",
       "\n",
       "    .dataframe thead th {\n",
       "        text-align: right;\n",
       "    }\n",
       "</style>\n",
       "<table border=\"1\" class=\"dataframe\">\n",
       "  <thead>\n",
       "    <tr style=\"text-align: right;\">\n",
       "      <th></th>\n",
       "      <th>Converted</th>\n",
       "      <th>Lead Number</th>\n",
       "      <th>0</th>\n",
       "    </tr>\n",
       "  </thead>\n",
       "  <tbody>\n",
       "    <tr>\n",
       "      <th>0</th>\n",
       "      <td>1</td>\n",
       "      <td>4269</td>\n",
       "      <td>0.651786</td>\n",
       "    </tr>\n",
       "    <tr>\n",
       "      <th>1</th>\n",
       "      <td>1</td>\n",
       "      <td>2376</td>\n",
       "      <td>0.997079</td>\n",
       "    </tr>\n",
       "    <tr>\n",
       "      <th>2</th>\n",
       "      <td>1</td>\n",
       "      <td>7766</td>\n",
       "      <td>0.979584</td>\n",
       "    </tr>\n",
       "    <tr>\n",
       "      <th>3</th>\n",
       "      <td>0</td>\n",
       "      <td>9199</td>\n",
       "      <td>0.001618</td>\n",
       "    </tr>\n",
       "    <tr>\n",
       "      <th>4</th>\n",
       "      <td>1</td>\n",
       "      <td>4359</td>\n",
       "      <td>0.902253</td>\n",
       "    </tr>\n",
       "  </tbody>\n",
       "</table>\n",
       "</div>"
      ],
      "text/plain": [
       "   Converted  Lead Number         0\n",
       "0          1         4269  0.651786\n",
       "1          1         2376  0.997079\n",
       "2          1         7766  0.979584\n",
       "3          0         9199  0.001618\n",
       "4          1         4359  0.902253"
      ]
     },
     "execution_count": 84,
     "metadata": {},
     "output_type": "execute_result"
    }
   ],
   "source": [
    "y_pred_final = pd.concat([y_test_df, y_pred_1],axis=1)\n",
    "y_pred_final.head()"
   ]
  },
  {
   "cell_type": "code",
   "execution_count": 85,
   "metadata": {
    "scrolled": true
   },
   "outputs": [
    {
     "data": {
      "text/html": [
       "<div>\n",
       "<style scoped>\n",
       "    .dataframe tbody tr th:only-of-type {\n",
       "        vertical-align: middle;\n",
       "    }\n",
       "\n",
       "    .dataframe tbody tr th {\n",
       "        vertical-align: top;\n",
       "    }\n",
       "\n",
       "    .dataframe thead th {\n",
       "        text-align: right;\n",
       "    }\n",
       "</style>\n",
       "<table border=\"1\" class=\"dataframe\">\n",
       "  <thead>\n",
       "    <tr style=\"text-align: right;\">\n",
       "      <th></th>\n",
       "      <th>Converted</th>\n",
       "      <th>Lead Number</th>\n",
       "      <th>Converted_Probability</th>\n",
       "    </tr>\n",
       "  </thead>\n",
       "  <tbody>\n",
       "    <tr>\n",
       "      <th>0</th>\n",
       "      <td>1</td>\n",
       "      <td>4269</td>\n",
       "      <td>0.651786</td>\n",
       "    </tr>\n",
       "    <tr>\n",
       "      <th>1</th>\n",
       "      <td>1</td>\n",
       "      <td>2376</td>\n",
       "      <td>0.997079</td>\n",
       "    </tr>\n",
       "    <tr>\n",
       "      <th>2</th>\n",
       "      <td>1</td>\n",
       "      <td>7766</td>\n",
       "      <td>0.979584</td>\n",
       "    </tr>\n",
       "    <tr>\n",
       "      <th>3</th>\n",
       "      <td>0</td>\n",
       "      <td>9199</td>\n",
       "      <td>0.001618</td>\n",
       "    </tr>\n",
       "    <tr>\n",
       "      <th>4</th>\n",
       "      <td>1</td>\n",
       "      <td>4359</td>\n",
       "      <td>0.902253</td>\n",
       "    </tr>\n",
       "  </tbody>\n",
       "</table>\n",
       "</div>"
      ],
      "text/plain": [
       "   Converted  Lead Number  Converted_Probability\n",
       "0          1         4269               0.651786\n",
       "1          1         2376               0.997079\n",
       "2          1         7766               0.979584\n",
       "3          0         9199               0.001618\n",
       "4          1         4359               0.902253"
      ]
     },
     "execution_count": 85,
     "metadata": {},
     "output_type": "execute_result"
    }
   ],
   "source": [
    "y_pred_final= y_pred_final.rename(columns={ 0 : 'Converted_Probability'})\n",
    "y_pred_final.head()"
   ]
  },
  {
   "cell_type": "code",
   "execution_count": 86,
   "metadata": {},
   "outputs": [
    {
     "data": {
      "text/html": [
       "<div>\n",
       "<style scoped>\n",
       "    .dataframe tbody tr th:only-of-type {\n",
       "        vertical-align: middle;\n",
       "    }\n",
       "\n",
       "    .dataframe tbody tr th {\n",
       "        vertical-align: top;\n",
       "    }\n",
       "\n",
       "    .dataframe thead th {\n",
       "        text-align: right;\n",
       "    }\n",
       "</style>\n",
       "<table border=\"1\" class=\"dataframe\">\n",
       "  <thead>\n",
       "    <tr style=\"text-align: right;\">\n",
       "      <th></th>\n",
       "      <th>Converted</th>\n",
       "      <th>Lead Number</th>\n",
       "      <th>Converted_Probability</th>\n",
       "      <th>Final_Predicted</th>\n",
       "    </tr>\n",
       "  </thead>\n",
       "  <tbody>\n",
       "    <tr>\n",
       "      <th>0</th>\n",
       "      <td>1</td>\n",
       "      <td>4269</td>\n",
       "      <td>0.651786</td>\n",
       "      <td>1</td>\n",
       "    </tr>\n",
       "    <tr>\n",
       "      <th>1</th>\n",
       "      <td>1</td>\n",
       "      <td>2376</td>\n",
       "      <td>0.997079</td>\n",
       "      <td>1</td>\n",
       "    </tr>\n",
       "    <tr>\n",
       "      <th>2</th>\n",
       "      <td>1</td>\n",
       "      <td>7766</td>\n",
       "      <td>0.979584</td>\n",
       "      <td>1</td>\n",
       "    </tr>\n",
       "    <tr>\n",
       "      <th>3</th>\n",
       "      <td>0</td>\n",
       "      <td>9199</td>\n",
       "      <td>0.001618</td>\n",
       "      <td>0</td>\n",
       "    </tr>\n",
       "    <tr>\n",
       "      <th>4</th>\n",
       "      <td>1</td>\n",
       "      <td>4359</td>\n",
       "      <td>0.902253</td>\n",
       "      <td>1</td>\n",
       "    </tr>\n",
       "  </tbody>\n",
       "</table>\n",
       "</div>"
      ],
      "text/plain": [
       "   Converted  Lead Number  Converted_Probability  Final_Predicted\n",
       "0          1         4269               0.651786                1\n",
       "1          1         2376               0.997079                1\n",
       "2          1         7766               0.979584                1\n",
       "3          0         9199               0.001618                0\n",
       "4          1         4359               0.902253                1"
      ]
     },
     "execution_count": 86,
     "metadata": {},
     "output_type": "execute_result"
    }
   ],
   "source": [
    "y_pred_final['Final_Predicted'] = y_pred_final.Converted_Probability.map(lambda x: 1 if x > 0.2 else 0)\n",
    "y_pred_final.head()"
   ]
  },
  {
   "cell_type": "code",
   "execution_count": 87,
   "metadata": {},
   "outputs": [
    {
     "data": {
      "text/plain": [
       "array([[1160,  517],\n",
       "       [  42, 1053]], dtype=int64)"
      ]
     },
     "execution_count": 87,
     "metadata": {},
     "output_type": "execute_result"
    }
   ],
   "source": [
    "#confusion metrix\n",
    "confusion = metrics.confusion_matrix(y_pred_final.Converted, y_pred_final.Final_Predicted )\n",
    "confusion"
   ]
  },
  {
   "cell_type": "code",
   "execution_count": 88,
   "metadata": {},
   "outputs": [],
   "source": [
    "TP = confusion[1,1] # True positiv \n",
    "TN = confusion[0,0] # True negative\n",
    "FP = confusion[0,1] # False positive\n",
    "FN = confusion[1,0] # False negative"
   ]
  },
  {
   "cell_type": "code",
   "execution_count": 89,
   "metadata": {},
   "outputs": [
    {
     "data": {
      "text/plain": [
       "0.9616438356164384"
      ]
     },
     "execution_count": 89,
     "metadata": {},
     "output_type": "execute_result"
    }
   ],
   "source": [
    "TP / float(TP+FN) # sensitivity"
   ]
  },
  {
   "cell_type": "code",
   "execution_count": 90,
   "metadata": {},
   "outputs": [
    {
     "data": {
      "text/plain": [
       "0.691711389385808"
      ]
     },
     "execution_count": 90,
     "metadata": {},
     "output_type": "execute_result"
    }
   ],
   "source": [
    "TN / float(TN+FP) #specificity"
   ]
  },
  {
   "cell_type": "code",
   "execution_count": 91,
   "metadata": {},
   "outputs": [
    {
     "data": {
      "text/plain": [
       "0.7983405483405484"
      ]
     },
     "execution_count": 91,
     "metadata": {},
     "output_type": "execute_result"
    }
   ],
   "source": [
    "#accuracy\n",
    "metrics.accuracy_score(y_pred_final.Converted, y_pred_final.Final_Predicted)"
   ]
  },
  {
   "cell_type": "code",
   "execution_count": null,
   "metadata": {},
   "outputs": [],
   "source": []
  }
 ],
 "metadata": {
  "kernelspec": {
   "display_name": "Python 3",
   "language": "python",
   "name": "python3"
  },
  "language_info": {
   "codemirror_mode": {
    "name": "ipython",
    "version": 3
   },
   "file_extension": ".py",
   "mimetype": "text/x-python",
   "name": "python",
   "nbconvert_exporter": "python",
   "pygments_lexer": "ipython3",
   "version": "3.8.5"
  }
 },
 "nbformat": 4,
 "nbformat_minor": 4
}
