{
 "cells": [
  {
   "cell_type": "markdown",
   "metadata": {},
   "source": [
    "## Module-3  Programming in python"
   ]
  },
  {
   "cell_type": "code",
   "execution_count": 1,
   "metadata": {},
   "outputs": [
    {
     "name": "stdout",
     "output_type": "stream",
     "text": [
      "64\n"
     ]
    }
   ],
   "source": [
    "p = 4**3\n",
    "print(p)"
   ]
  },
  {
   "cell_type": "code",
   "execution_count": 2,
   "metadata": {},
   "outputs": [
    {
     "name": "stdout",
     "output_type": "stream",
     "text": [
      "4\n"
     ]
    }
   ],
   "source": [
    "d = 23//5\n",
    "print(d)"
   ]
  },
  {
   "cell_type": "code",
   "execution_count": 4,
   "metadata": {},
   "outputs": [
    {
     "name": "stdout",
     "output_type": "stream",
     "text": [
      "true\n"
     ]
    }
   ],
   "source": [
    "if(1):\n",
    "    print('true')"
   ]
  },
  {
   "cell_type": "code",
   "execution_count": 5,
   "metadata": {},
   "outputs": [
    {
     "name": "stdout",
     "output_type": "stream",
     "text": [
      "0\n",
      "1\n",
      "2\n"
     ]
    }
   ],
   "source": [
    "for i in range(3):\n",
    "    print(i)"
   ]
  },
  {
   "cell_type": "code",
   "execution_count": 6,
   "metadata": {},
   "outputs": [
    {
     "name": "stdout",
     "output_type": "stream",
     "text": [
      "11 12 13 \n",
      "14\n"
     ]
    }
   ],
   "source": [
    "print('11 12 13 \\n14')"
   ]
  },
  {
   "cell_type": "code",
   "execution_count": 11,
   "metadata": {},
   "outputs": [
    {
     "name": "stdout",
     "output_type": "stream",
     "text": [
      "111213\n",
      "14\n"
     ]
    }
   ],
   "source": [
    "a=11\n",
    "\n",
    "b=12\n",
    "\n",
    "c=13 \n",
    "\n",
    "d=14\n",
    "\n",
    "print(f'{a}{b}{c}')\n",
    "\n",
    "print(d)"
   ]
  },
  {
   "cell_type": "code",
   "execution_count": 12,
   "metadata": {},
   "outputs": [
    {
     "data": {
      "text/plain": [
       "{3, 4, 5}"
      ]
     },
     "execution_count": 12,
     "metadata": {},
     "output_type": "execute_result"
    }
   ],
   "source": [
    "s1={1,2,3,4,5}\n",
    "s2={3,4,5,6,7}\n",
    "s1.intersection(s2)"
   ]
  },
  {
   "cell_type": "code",
   "execution_count": 13,
   "metadata": {},
   "outputs": [
    {
     "name": "stdout",
     "output_type": "stream",
     "text": [
      "50 10\n"
     ]
    }
   ],
   "source": [
    "x=10\n",
    "y=50\n",
    "z=0\n",
    "\n",
    "z=y\n",
    "y=x\n",
    "x=z\n",
    "\n",
    "print(x,y)"
   ]
  },
  {
   "cell_type": "code",
   "execution_count": 18,
   "metadata": {},
   "outputs": [
    {
     "name": "stdout",
     "output_type": "stream",
     "text": [
      "20, 50\n",
      "<class 'int'>\n",
      "x before swapping:  20\n",
      "y before swapping:  50 \n",
      "\n",
      "x after swapping:  50\n",
      "y after swapping:  20\n"
     ]
    }
   ],
   "source": [
    "#Take input using input()\n",
    "\n",
    "#input() takes input in form of the string\n",
    "in_string=input()\n",
    "x= int(in_string.split(',')[0])\n",
    "y= int(in_string.split(',')[1])\n",
    "#here extract the two numbers from the string\n",
    "print(type(x))\n",
    "#print x and y before swapping\n",
    "print('x before swapping: ', x)\n",
    "print('y before swapping: ', y,'\\n')\n",
    "\n",
    "#Writing your swapping code here\n",
    "\n",
    "z=y\n",
    "y=x\n",
    "x=z\n",
    "\n",
    "#print x and y after swapping\n",
    "print('x after swapping: ', x)\n",
    "print('y after swapping: ', y)\n",
    "\n"
   ]
  },
  {
   "cell_type": "code",
   "execution_count": 19,
   "metadata": {},
   "outputs": [
    {
     "name": "stdout",
     "output_type": "stream",
     "text": [
      "2\n",
      "Even\n"
     ]
    }
   ],
   "source": [
    "num=int(input())\n",
    "if(num%2==0):\n",
    "    print('Even')\n",
    "else:\n",
    "    print('Odd')"
   ]
  },
  {
   "cell_type": "code",
   "execution_count": 3,
   "metadata": {},
   "outputs": [
    {
     "name": "stdout",
     "output_type": "stream",
     "text": [
      "21\n",
      "sexy\n"
     ]
    }
   ],
   "source": [
    "###A number k is beautiful if it is of the form 3n+1, is pretty if it is of the form 3n+2 and is sexy if it is of form 3n.\n",
    "#Given a number k, print if it is beautiful, pretty or sexy.\n",
    "\n",
    "k=int(input())\n",
    "\n",
    "if((k%3)==1):\n",
    "    print('beautiful')\n",
    "elif((k%3)==2):\n",
    "    print('pretty')\n",
    "elif((k%3)==0):\n",
    "    print('sexy')"
   ]
  },
  {
   "cell_type": "code",
   "execution_count": 1,
   "metadata": {},
   "outputs": [
    {
     "name": "stdout",
     "output_type": "stream",
     "text": [
      "1\n"
     ]
    },
    {
     "data": {
      "text/plain": [
       "'1'"
      ]
     },
     "execution_count": 1,
     "metadata": {},
     "output_type": "execute_result"
    }
   ],
   "source": [
    "a = input()\n",
    "a"
   ]
  },
  {
   "cell_type": "markdown",
   "metadata": {},
   "source": [
    "## Alarm Clock\n",
    "Description\n",
    "You're trying to automate your alarm clock by writing a function for it. You're given a day of the week encoded as 1=Mon, 2=Tue, ... 6=Sat, 7=Sun, and whether you are on vacation as a boolean value (a boolean object is either True or False. Google \"booleans python\" to get a better understanding). Based on the day and whether you're on vacation, write a function that returns a time in form of a string indicating when the alarm clock should ring. \n",
    "\n",
    "When not on a vacation, on weekdays, the alarm should ring at \"7:00\" and on the weekends (Saturday and Sunday) it should ring at \"10:00\". \n",
    "\n",
    "While on a vacation, it should ring at \"10:00\" on weekdays. On vacation, it should not ring on weekends, that is, it should return \"off\"."
   ]
  },
  {
   "cell_type": "code",
   "execution_count": 13,
   "metadata": {},
   "outputs": [
    {
     "name": "stdout",
     "output_type": "stream",
     "text": [
      "10:00\n"
     ]
    }
   ],
   "source": [
    "val = [3, True]\n",
    "day_of_the_week=val[0]\n",
    "is_on_vacation=val[1]\n",
    "days = {1:'Mon',2:'Tue',3:'Wed',4:'Thus',5:'Fri',6:'Sat',7:'Sun'}\n",
    "\n",
    "if(day_of_the_week in days.keys()):\n",
    "    if(is_on_vacation):\n",
    "        if(day_of_the_week in (6,7)):\n",
    "            print('Off')\n",
    "        else:\n",
    "            print('10:00')\n",
    "    else:\n",
    "        if(day_of_the_week in (6,7)):\n",
    "            print('10:00')\n",
    "        else:\n",
    "            print('7:00')\n",
    "    \n",
    "    "
   ]
  },
  {
   "cell_type": "code",
   "execution_count": 5,
   "metadata": {},
   "outputs": [
    {
     "data": {
      "text/plain": [
       "{1: 'Mon', 2: 'Tue', 3: 'Wed', 4: 'Thus', 5: 'Fri', 6: 'Sat', 7: 'Sun'}"
      ]
     },
     "execution_count": 5,
     "metadata": {},
     "output_type": "execute_result"
    }
   ],
   "source": [
    "days"
   ]
  },
  {
   "cell_type": "markdown",
   "metadata": {},
   "source": [
    "## Factorial\n",
    "Description\n",
    "Factorial is a mathematical function denoted by '!'. It is defined as\n",
    "\n",
    "n factorial = n!= 1*2*3...*(n-1)*n\n",
    "\n",
    "In this question, you have to make a function that will take an integer as input, and return the factorial of that integer if that integer is greater than or equal to zero and return -1 if the number is less than zero or negative.\n",
    "\n",
    "Note: the function doesn't return print the factorial but returns it."
   ]
  },
  {
   "cell_type": "code",
   "execution_count": 34,
   "metadata": {},
   "outputs": [
    {
     "name": "stdout",
     "output_type": "stream",
     "text": [
      "-1\n",
      "-1\n"
     ]
    }
   ],
   "source": [
    "import ast\n",
    "#take the input here\n",
    "number=ast.literal_eval(input())\n",
    "\n",
    "\n",
    "#the function definition starts here\n",
    "def factorial(n):\n",
    "    if(n==0):\n",
    "        return 1\n",
    "    if(n<=0):\n",
    "        return -1\n",
    "    return n*factorial(n-1)  \n",
    "    \n",
    "    \n",
    "\n",
    "\n",
    "#function definition ends here\n",
    "\n",
    "#do not alter the code typed below\n",
    "k=factorial(number)\n",
    "print(k)"
   ]
  },
  {
   "cell_type": "code",
   "execution_count": 35,
   "metadata": {},
   "outputs": [],
   "source": [
    "i = 3 \n",
    "s = 'kunal'\n"
   ]
  },
  {
   "cell_type": "code",
   "execution_count": 54,
   "metadata": {},
   "outputs": [],
   "source": [
    "def combinations(val):\n",
    "    for i in range(len(val)):\n",
    "        print(i,len(val))\n",
    "        if(i<len(val)-1):\n",
    "            print(val[i]+val[i+1])"
   ]
  },
  {
   "cell_type": "code",
   "execution_count": 55,
   "metadata": {},
   "outputs": [
    {
     "name": "stdout",
     "output_type": "stream",
     "text": [
      "0 5\n",
      "ku\n",
      "1 5\n",
      "un\n",
      "2 5\n",
      "na\n",
      "3 5\n",
      "al\n",
      "4 5\n"
     ]
    }
   ],
   "source": [
    "combinations('kunal')"
   ]
  },
  {
   "cell_type": "code",
   "execution_count": null,
   "metadata": {},
   "outputs": [],
   "source": [
    "def combinations_rec(val):\n",
    "    "
   ]
  },
  {
   "cell_type": "markdown",
   "metadata": {},
   "source": [
    "## Reverse The Digits\n",
    "Description\n",
    "You will be given a number. You have to reverse the digits of the number and print it.\n",
    "\n",
    "----------------------------------------------------------------------\n",
    "Input:\n",
    "A positive integer greater than zero\n",
    "\n",
    "Output:\n",
    "The number in reverse order. Check sample outputs for more details.\n",
    "\n",
    "----------------------------------------------------------------------\n",
    "Sample input:\n",
    "345200\n",
    "\n",
    "Sample output:\n",
    "2543\n",
    "\n",
    "----------------------------------------------------------------------\n",
    "Sample input:\n",
    "6752343\n",
    "\n",
    "Sample output:\n",
    "3432576"
   ]
  },
  {
   "cell_type": "code",
   "execution_count": 68,
   "metadata": {},
   "outputs": [],
   "source": [
    "def reverse(num):\n",
    "    rev_list=[]\n",
    "    for n in str(num):\n",
    "        rev_list.append(n)\n",
    "    result=''\n",
    "    for i in range(len(rev_list)):\n",
    "        result+=rev_list.pop()\n",
    "        \n",
    "    print(result)\n",
    "    "
   ]
  },
  {
   "cell_type": "code",
   "execution_count": 67,
   "metadata": {},
   "outputs": [
    {
     "name": "stdout",
     "output_type": "stream",
     "text": [
      "987654321\n"
     ]
    }
   ],
   "source": [
    "reverse(123456789)"
   ]
  },
  {
   "cell_type": "code",
   "execution_count": 72,
   "metadata": {},
   "outputs": [
    {
     "data": {
      "text/plain": [
       "90"
      ]
     },
     "execution_count": 72,
     "metadata": {},
     "output_type": "execute_result"
    }
   ],
   "source": [
    "n=123456789\n",
    "(n%10)*10"
   ]
  },
  {
   "cell_type": "code",
   "execution_count": 73,
   "metadata": {},
   "outputs": [
    {
     "data": {
      "text/plain": [
       "12345678"
      ]
     },
     "execution_count": 73,
     "metadata": {},
     "output_type": "execute_result"
    }
   ],
   "source": [
    "n//10 #returns quotent"
   ]
  },
  {
   "cell_type": "code",
   "execution_count": 80,
   "metadata": {},
   "outputs": [
    {
     "name": "stdout",
     "output_type": "stream",
     "text": [
      "5\n",
      "1234\n",
      "54\n",
      "123\n",
      "543\n",
      "12\n",
      "5432\n",
      "1\n",
      "54321\n",
      "0\n"
     ]
    },
    {
     "data": {
      "text/plain": [
       "54321"
      ]
     },
     "execution_count": 80,
     "metadata": {},
     "output_type": "execute_result"
    }
   ],
   "source": [
    "r=0\n",
    "n=12345\n",
    "while(n>0):\n",
    "    r = r*10+(n%10)\n",
    "    print(r)\n",
    "    n=n//10\n",
    "    print(n)\n",
    "\n",
    "r"
   ]
  },
  {
   "cell_type": "code",
   "execution_count": 82,
   "metadata": {},
   "outputs": [
    {
     "data": {
      "text/plain": [
       "4"
      ]
     },
     "execution_count": 82,
     "metadata": {},
     "output_type": "execute_result"
    }
   ],
   "source": [
    "14//3"
   ]
  },
  {
   "cell_type": "markdown",
   "metadata": {},
   "source": [
    "## How Many Chocolates?\n",
    "\n",
    "Description\n",
    "Sanjay loves chocolates. He goes to a shop to buy his favourite chocolate. There he notices there is an offer going on, upon bringing 3 wrappers of the same chocolate, you will get new chocolate for free. If Sanjay has m Rupees. How many chocolates will he be able to eat if each chocolate costs c Rupees?\n",
    "\n",
    "----------------------------------------------------------------------\n",
    "Input:\n",
    "Two positive integers m and c separated by a comma. The first integer is m and the second integer is c \n",
    "\n",
    "Output:\n",
    "A single integer denoting the number of chocolates Sanjay was able to eat in total.\n",
    "\n",
    "----------------------------------------------------------------------\n",
    "Sample input:\n",
    "15, 2\n",
    "\n",
    "Sample output:\n",
    "10\n",
    "\n",
    "Explanation:\n",
    "First, he will get 15/2=7 chocolates. He then will return 6 wrappers for 2 chocolates. And lastly, these two wrappers and the one he previously had will get him one more chocolate, making a total of 7+2+1=10 chocolates."
   ]
  },
  {
   "cell_type": "code",
   "execution_count": 113,
   "metadata": {},
   "outputs": [
    {
     "name": "stdout",
     "output_type": "stream",
     "text": [
      "4\n"
     ]
    }
   ],
   "source": [
    "\n",
    "w=0\n",
    "\n",
    "m=15 # money\n",
    "c=2 # cost\n",
    "\n",
    "def getWrapperCount(m,c):\n",
    "    total_purchase = m//c\n",
    "    bonus = total_purchase//3\n",
    "    balance_wrapper= total_purchase%3    \n",
    "    total_purchase+=bonus    \n",
    "    if((balance_wrapper+bonus)%3==0):\n",
    "        total_purchase+=1\n",
    "    print(total_purchase)\n",
    "    \n",
    "\n",
    "getWrapperCount(3,1)"
   ]
  },
  {
   "cell_type": "code",
   "execution_count": 117,
   "metadata": {},
   "outputs": [
    {
     "name": "stdout",
     "output_type": "stream",
     "text": [
      "3,1\n",
      "4\n"
     ]
    }
   ],
   "source": [
    "val =input()\n",
    "m=int(val.split(',')[0])\n",
    "c=int(val.split(',')[1])\n",
    "\n",
    "total_purchase = m//c\n",
    "bonus = total_purchase//3\n",
    "balance_wrapper= total_purchase%3    \n",
    "total_purchase+=bonus    \n",
    "if((balance_wrapper+bonus)%3==0):\n",
    "    total_purchase+=1\n",
    "print(total_purchase)"
   ]
  },
  {
   "cell_type": "markdown",
   "metadata": {},
   "source": [
    "## Print The Pattern\n",
    "\n",
    "Description\n",
    "Printing different patterns is a very good exercise to reinforce iteration through loops and strong logic building. Here you will be given a positive integer and you will generate pattern based on that integer.\n",
    "\n",
    "----------------------------------------------------------------------\n",
    "Input:\n",
    "A positive integer n\n",
    "1 <= n <=20\n",
    "\n",
    "Output:\n",
    "A pattern as described by the Sample input and outputs below.\n",
    "\n",
    "----------------------------------------------------------------------\n",
    "Sample input:\n",
    "5\n",
    "\n",
    "Sample output:\n",
    "    *\n",
    "   *_*\n",
    "  *_*_*\n",
    " *_*_*_*\n",
    "*_*_*_*_*"
   ]
  },
  {
   "cell_type": "code",
   "execution_count": 133,
   "metadata": {},
   "outputs": [
    {
     "name": "stdout",
     "output_type": "stream",
     "text": [
      " *  *  *  *  * \n",
      " *  *  *  *  * \n",
      " *  *  *  *  * \n",
      " *  *  *  *  * \n",
      " *  *  *  *  * \n"
     ]
    }
   ],
   "source": [
    "n=5\n",
    "for i in range(n):\n",
    "    space=''\n",
    "    print('' ,end='')\n",
    "    for j in range(n):\n",
    "        print(' * ',end='')\n",
    "    print()"
   ]
  },
  {
   "cell_type": "code",
   "execution_count": 159,
   "metadata": {},
   "outputs": [
    {
     "name": "stdout",
     "output_type": "stream",
     "text": [
      "    *\n",
      "   *_*\n",
      "  *_*_*\n",
      " *_*_*_*\n",
      "*_*_*_*_*\n"
     ]
    }
   ],
   "source": [
    "n=5\n",
    "for i in range(1,n+1):\n",
    "    for j in range(n-i):\n",
    "        print(' ',end='')\n",
    "    for k in range(i-1):\n",
    "        print('*_',end='')    \n",
    "    print('*')"
   ]
  },
  {
   "cell_type": "code",
   "execution_count": 218,
   "metadata": {},
   "outputs": [
    {
     "name": "stdout",
     "output_type": "stream",
     "text": [
      "      * \n",
      "     *  * \n",
      "    *  *  * \n",
      "   *  *  *  * \n",
      "  *  *  *  *  * \n"
     ]
    }
   ],
   "source": [
    "n=5\n",
    "for i in range(n):\n",
    "    for j in range(n-i):\n",
    "        print(' ',end='')\n",
    "    for j in range(i):\n",
    "        print(' * ',end='')      \n",
    "    print(' * ')"
   ]
  },
  {
   "cell_type": "markdown",
   "metadata": {},
   "source": [
    "## Alphabetic patterns\n",
    "Description\n",
    "Given a positive integer 'n' less than or equal to 26, you are required to print the below pattern \n",
    " \n",
    "Sample Input: 5 \n",
    " \n",
    "Sample Output : \n",
    "--------e-------- \n",
    "------e-d-e------ \n",
    "----e-d-c-d-e---- \n",
    "--e-d-c-b-c-d-e-- \n",
    "e-d-c-b-a-b-c-d-e \n",
    "--e-d-c-b-c-d-e-- \n",
    "----e-d-c-d-e---- \n",
    "------e-d-e------ \n",
    "--------e-------- \n",
    " \n",
    "Sample Input  : 3 \n",
    " \n",
    "Sample Output : \n",
    "----c---- \n",
    "--c-b-c-- \n",
    "c-b-a-b-c \n",
    "--c-b-c-- \n",
    "----c----\n",
    "\n",
    "Please note that this question was asked in a Data Scientist interview."
   ]
  },
  {
   "cell_type": "code",
   "execution_count": 224,
   "metadata": {},
   "outputs": [
    {
     "name": "stdout",
     "output_type": "stream",
     "text": [
      "      * \n",
      "     *  * \n",
      "    *  *  * \n",
      "   *  *  *  * \n",
      "  *  *  *  *  * \n"
     ]
    }
   ],
   "source": [
    "n=5\n",
    "for i in range(n):\n",
    "    for j in range(n-i):\n",
    "        print(' ',end='')\n",
    "    for j in range(i):\n",
    "        print(' * ',end='')      \n",
    "    print(' * ')"
   ]
  },
  {
   "cell_type": "markdown",
   "metadata": {},
   "source": [
    "# Strings"
   ]
  },
  {
   "cell_type": "code",
   "execution_count": 1,
   "metadata": {},
   "outputs": [
    {
     "name": "stdout",
     "output_type": "stream",
     "text": [
      "3\n"
     ]
    }
   ],
   "source": [
    "print(chr(51))"
   ]
  },
  {
   "cell_type": "code",
   "execution_count": 3,
   "metadata": {},
   "outputs": [
    {
     "data": {
      "text/plain": [
       "'{'"
      ]
     },
     "execution_count": 3,
     "metadata": {},
     "output_type": "execute_result"
    }
   ],
   "source": [
    "chr(123)"
   ]
  },
  {
   "cell_type": "code",
   "execution_count": 4,
   "metadata": {},
   "outputs": [
    {
     "ename": "TypeError",
     "evalue": "ord() expected a character, but string of length 3 found",
     "output_type": "error",
     "traceback": [
      "\u001b[1;31m---------------------------------------------------------------------------\u001b[0m",
      "\u001b[1;31mTypeError\u001b[0m                                 Traceback (most recent call last)",
      "\u001b[1;32m<ipython-input-4-0a0f4708da4d>\u001b[0m in \u001b[0;36m<module>\u001b[1;34m\u001b[0m\n\u001b[1;32m----> 1\u001b[1;33m \u001b[0mord\u001b[0m\u001b[1;33m(\u001b[0m\u001b[1;34m'123'\u001b[0m\u001b[1;33m)\u001b[0m\u001b[1;33m\u001b[0m\u001b[1;33m\u001b[0m\u001b[0m\n\u001b[0m",
      "\u001b[1;31mTypeError\u001b[0m: ord() expected a character, but string of length 3 found"
     ]
    }
   ],
   "source": [
    "ord('123')"
   ]
  },
  {
   "cell_type": "code",
   "execution_count": 16,
   "metadata": {},
   "outputs": [
    {
     "data": {
      "text/plain": [
       "'darGpu'"
      ]
     },
     "execution_count": 16,
     "metadata": {},
     "output_type": "execute_result"
    }
   ],
   "source": [
    "s='aabupGradaab'.strip('a').strip('b').strip('a')\n",
    "s\n",
    "s[-1::-1]"
   ]
  },
  {
   "cell_type": "markdown",
   "metadata": {},
   "source": [
    "## Palindrome String\n",
    "Description\n",
    "Write a program to check whether a string is a palindrome or not. Print 1 if the string is a palindrome and 0 otherwise.\n",
    "\n",
    "Note: Please ensure that your program should not be case-sensitive. So, if the input is, say, “HAnnah”, then, its output should be 1.\n",
    "\n",
    "----------------------------------------------------------------------\n",
    "Input:\n",
    "A string\n",
    "\n",
    "Output:\n",
    "1 if the string is a palindrome, 0 otherwise\n",
    "\n",
    "----------------------------------------------------------------------\n",
    "Sample input:\n",
    "HAnnah\n",
    "\n",
    "Sample output:\n",
    "1\n",
    "\n",
    "----------------------------------------------------------------------\n",
    "Sample input:\n",
    "Rebecca\n",
    "\n",
    "Sample output:\n",
    "0"
   ]
  },
  {
   "cell_type": "code",
   "execution_count": 21,
   "metadata": {},
   "outputs": [
    {
     "name": "stdout",
     "output_type": "stream",
     "text": [
      "HAnnah\n",
      "1\n"
     ]
    }
   ],
   "source": [
    "# Read the input\n",
    "s = input()\n",
    "\n",
    "if s.lower()==s.lower()[-1::-1]:\n",
    "    print(1)\n",
    "else:\n",
    "    print(0)\n",
    "\n",
    "#check for palindrome here"
   ]
  },
  {
   "cell_type": "markdown",
   "metadata": {},
   "source": [
    "## Reverse Words\n",
    "\n",
    "Description\n",
    "You will be given a sentence in the form of a string. You have to reverse the order of the words in the sentence. Remember not to reverse the individual words, but the order of words. Check the sample input-output for further clarification.\n",
    "\n",
    "----------------------------------------------------------------------\n",
    "Input:\n",
    "A string, which will consist of a few spaces.\n",
    "\n",
    "Output:\n",
    "The words in reverse order.\n",
    "\n",
    "----------------------------------------------------------------------\n",
    "Sample input:\n",
    "I love coding in python\n",
    "\n",
    "Sample output:\n",
    "python in coding love I\n",
    "\n",
    "----------------------------------------------------------------------\n",
    "Sample input:\n",
    "python is super easy and fun\n",
    "\n",
    "Sample output:\n",
    "fun and easy super is python"
   ]
  },
  {
   "cell_type": "code",
   "execution_count": 26,
   "metadata": {},
   "outputs": [
    {
     "name": "stdout",
     "output_type": "stream",
     "text": [
      "fun and easy super is python\n",
      "python is super easy and fun\n"
     ]
    }
   ],
   "source": [
    "#take input here\n",
    "\n",
    "sentence=input()\n",
    "reverse=''\n",
    "words=sentence.split(' ')\n",
    "for i in words[-1::-1]:\n",
    "    reverse += i+' '\n",
    "print(reverse.strip())\n",
    "#reverse the words of the sentence here"
   ]
  },
  {
   "cell_type": "markdown",
   "metadata": {},
   "source": [
    "## No Spaces\n",
    "Description\n",
    "While naming entities, it is a common practice to avoid spaces. That is the reason you see so many people using underscores instead of spaces. \n",
    "You will be given a string, containing a few spaces and random upper and lower cases. You have to write a code that will add underscore in place of spaces and also capitalise the letters properly, i.e. the first letter after underscore should be in upper case and the first letter of the string should be in upper case, all of the other letters should be lower case. \n",
    "This type of activity is frequently encountered while starting to analyse data. This is called Data cleaning and you will learn more about it in upcoming modules.\n",
    "\n",
    "----------------------------------------------------------------------\n",
    "Input:\n",
    "A string of only alphabets and spaces\n",
    "\n",
    "Output:\n",
    "A string formatted as stated above. See sample input/output for more clarification,\n",
    "\n",
    "----------------------------------------------------------------------\n",
    "Sample input:\n",
    "caloRie consuMed\n",
    "\n",
    "Sample output:\n",
    "Calorie_Consumed\n",
    "\n",
    "----------------------------------------------------------------------\n",
    "Sample input:\n",
    "data science\n",
    "\n",
    "Sample output:\n",
    "Data_Science"
   ]
  },
  {
   "cell_type": "code",
   "execution_count": 28,
   "metadata": {},
   "outputs": [
    {
     "name": "stdout",
     "output_type": "stream",
     "text": [
      "data science\n"
     ]
    },
    {
     "data": {
      "text/plain": [
       "'Data_Science'"
      ]
     },
     "execution_count": 28,
     "metadata": {},
     "output_type": "execute_result"
    }
   ],
   "source": [
    "#take input here\n",
    "s=input()\n",
    "\n",
    "s.split(' ')\n",
    "s.title().replace(' ','_')\n",
    "#write code to format the string s as asked "
   ]
  },
  {
   "cell_type": "markdown",
   "metadata": {},
   "source": [
    "## Shift Vowels\n",
    "\n",
    "Description\n",
    "Write a program that receives a string and shifts all the vowels present in it to the beginning. Output the resultant string. The order of all the vowels with respect to each other as well as the order of all the other characters with respect to each other should stay the same.\n",
    "\n",
    "----------------------------------------------------------------------\n",
    "Input:\n",
    "A string\n",
    "\n",
    "Output:\n",
    "Vowels shifted to the beginning in the input string.\n",
    "\n",
    "----------------------------------------------------------------------\n",
    "Sample input:\n",
    "programming\n",
    "\n",
    "Sample output:\n",
    "oaiprgrmmng\n",
    "\n",
    "----------------------------------------------------------------------\n",
    "Sample input:\n",
    "You love Python!\n",
    "\n",
    "Sample output:\n",
    "ouoeoY lv Pythn!"
   ]
  },
  {
   "cell_type": "code",
   "execution_count": 29,
   "metadata": {},
   "outputs": [
    {
     "name": "stdout",
     "output_type": "stream",
     "text": [
      "You love Python!\n",
      "ouoeoY lv Pythn!\n"
     ]
    }
   ],
   "source": [
    "# Read the input string\n",
    "\n",
    "s = input()\n",
    "\n",
    "vov=''\n",
    "cons=''\n",
    "for ss in s:\n",
    "    if ss in ('aeiou'):\n",
    "        vov+=ss\n",
    "    else:\n",
    "        cons+=ss\n",
    "print(vov+cons)        "
   ]
  },
  {
   "cell_type": "markdown",
   "metadata": {},
   "source": [
    "## Common Prefix\n",
    "Description\n",
    "You will be given two strings. You have to find the largest prefix common in both the strings.\n",
    "\n",
    "----------------------------------------------------------------------\n",
    "Input:\n",
    "Two lines of input, one string on each line\n",
    "\n",
    "Output:\n",
    "The common largest prefix for both strings. Check sample input/output for clarification. -1 if no prefix is common.\n",
    "\n",
    "----------------------------------------------------------------------\n",
    "Sample input:\n",
    "abshdksajd\n",
    "abshiehand\n",
    "\n",
    "Sample output:\n",
    "absh\n",
    "\n",
    "----------------------------------------------------------------------\n",
    "Sample input:\n",
    "upgradData\n",
    "upGradScience\n",
    "\n",
    "Sample output:\n",
    "upgrad\n",
    "\n",
    "----------------------------------------------------------------------\n",
    "Note: the last sample input/output clearly shows the code is not case sensitive."
   ]
  },
  {
   "cell_type": "code",
   "execution_count": 34,
   "metadata": {},
   "outputs": [
    {
     "name": "stdout",
     "output_type": "stream",
     "text": [
      "upGradScience\n",
      "upgradData\n",
      "upgrad\n"
     ]
    }
   ],
   "source": [
    "#input has been taken for you\n",
    "\n",
    "string1=input()\n",
    "string2=input()\n",
    "\n",
    "index=0\n",
    "for i in range(len(string1)):\n",
    "    if(string1[i].lower()==string2[i].lower()):\n",
    "       index+=1\n",
    "    else:\n",
    "        break\n",
    "print(string1[0:index].lower())        \n",
    "#start writing your code to find largest common prefix here"
   ]
  },
  {
   "cell_type": "code",
   "execution_count": 38,
   "metadata": {},
   "outputs": [
    {
     "name": "stdout",
     "output_type": "stream",
     "text": [
      "['kk1','kk2','kk3','kk11']\n",
      "['kk1','kk2','kk33','kk11']\n",
      "['kk1', 'kk2']\n"
     ]
    }
   ],
   "source": [
    "#input has been taken for you\n",
    "import ast\n",
    "string1= ast.literal_eval(input())\n",
    "string2=ast.literal_eval(input())\n",
    "\n",
    "index=0\n",
    "for i in range(len(string1)):\n",
    "    if(string1[i].lower()==string2[i].lower()):\n",
    "       index+=1\n",
    "    else:\n",
    "        break\n",
    "print(string1[0:index])        \n",
    "#start writing your code to find largest common prefix here"
   ]
  },
  {
   "cell_type": "markdown",
   "metadata": {},
   "source": [
    "## Anagrams\n",
    "Description\n",
    "Two strings are anagrams of each other if you can rearrange the characters of one string to make the other string.\n",
    "Given two strings, can you find if they are anagrams or no?\n",
    "\n",
    "----------------------------------------------------------------------\n",
    "Input:\n",
    "Two lines of input, each line will contain a string without space.\n",
    "\n",
    "Output:\n",
    "True or False based on whether the strings are anagrams or not.\n",
    "\n",
    "----------------------------------------------------------------------\n",
    "Sample input:\n",
    "thing\n",
    "night\n",
    "\n",
    "Sample output:\n",
    "True\n",
    "\n",
    "----------------------------------------------------------------------\n",
    "Sample input:\n",
    "upgrad\n",
    "found\n",
    "\n",
    "Sample output:\n",
    "False\n",
    "\n",
    "----------------------------------------------------------------------\n",
    "Note: the code will be case-Sensitive\n",
    "Hint: if the length of the strings doesn't match, the strings are obviously not anagrams."
   ]
  },
  {
   "cell_type": "code",
   "execution_count": 48,
   "metadata": {},
   "outputs": [
    {
     "name": "stdout",
     "output_type": "stream",
     "text": [
      "night\n",
      "thing\n",
      "True\n"
     ]
    }
   ],
   "source": [
    "string1 = input()\n",
    "string2 = input()\n",
    "\n",
    "anagrams=False\n",
    "\n",
    "if len(string1)==len(string2):\n",
    "    for i in string1:        \n",
    "        if i not in tuple(string2):\n",
    "            break\n",
    "        else:\n",
    "            anagrams=True\n",
    "print(anagrams)    "
   ]
  },
  {
   "cell_type": "markdown",
   "metadata": {},
   "source": [
    "## Find Extra Character\n",
    "Description\n",
    "Given two strings, one of the strings will contain an extra character. Find the extra character. The number of all the other characters in both the strings will be the same. Check the sample input/output for more clarification.\n",
    "\n",
    "The code will be case sensitive.\n",
    "\n",
    "----------------------------------------------------------------------\n",
    "Input:\n",
    "Two strings on two separate lines. \n",
    "\n",
    "Output:\n",
    "One Character which is extra in one of the strings\n",
    "\n",
    "----------------------------------------------------------------------\n",
    "Sample input:\n",
    "abcd\n",
    "cedab\n",
    "\n",
    "Sample output:\n",
    "e"
   ]
  },
  {
   "cell_type": "code",
   "execution_count": 52,
   "metadata": {},
   "outputs": [
    {
     "name": "stdout",
     "output_type": "stream",
     "text": [
      "abcd\n",
      "abc\n",
      "\n"
     ]
    }
   ],
   "source": [
    "string1 = input()\n",
    "string2 = input()\n",
    "\n",
    "anagrams=''\n",
    "\n",
    "for i in string2:        \n",
    "    if i not in tuple(string1):\n",
    "        anagrams+=i\n",
    "print(anagrams) "
   ]
  },
  {
   "cell_type": "markdown",
   "metadata": {},
   "source": [
    "## Integer or String\n",
    "Description\n",
    "You have been using ast.literal_eval() to take input in a suitable format. Have you thought of how does it distinguish between different data types and data structures? We will solve a similar but smaller problem here. You will be given a string as input. You just have to determine if the string can be an integer or no?\n",
    "This is also encountered a lot in Data Science. Upon taking a lot of data, sometimes integer values are treated as a string, and due to that a lot of functionalities of integer data which you will learn ahead are rendered useless.\n",
    "\n",
    "----------------------------------------------------------------------\n",
    "Input:\n",
    "A single line of string\n",
    "\n",
    "Output:\n",
    "INT if the input string is an integer and STR otherwise.\n",
    "\n",
    "----------------------------------------------------------------------\n",
    "Sample input:\n",
    "12\n",
    "\n",
    "Sample output:\n",
    "INT\n",
    "\n",
    "----------------------------------------------------------------------\n",
    "Sample input:\n",
    "12.4\n",
    "\n",
    "Sample output:\n",
    "STR\n",
    "\n",
    "Explanation: You only have to print INT if its an integer, in this case, it is a float.\n",
    "\n",
    "----------------------------------------------------------------------\n",
    "Sample input:\n",
    "43a\n",
    "\n",
    "Sample output:\n",
    "STR"
   ]
  },
  {
   "cell_type": "code",
   "execution_count": 69,
   "metadata": {},
   "outputs": [
    {
     "name": "stdout",
     "output_type": "stream",
     "text": [
      "12a\n",
      "1\n",
      "STR\n"
     ]
    }
   ],
   "source": [
    "s = input()\n",
    "s_type='STR'\n",
    "for i in range(len(s)):\n",
    "    if s[i] not in ('0123456789'):\n",
    "        s_type='STR'\n",
    "        break\n",
    "    else:\n",
    "        s_type='INT'\n",
    "print(s_type)        "
   ]
  },
  {
   "cell_type": "markdown",
   "metadata": {},
   "source": [
    "## Clean Numbers\n",
    "Description\n",
    "While extracting data from different sources, often numeric values come in string format and with commas like 1,000 or 23,321 and also sometimes with spaces in start and beginning of the string. For simplicity, we will consider only integer values imbedded with commas. You will take the input and print the cleaned integer without commas and spaces.\n",
    "\n",
    "----------------------------------------------------------------------\n",
    "Input:\n",
    "One line input of string, it will consist of only spaces commas and digits\n",
    "\n",
    "Output:\n",
    "Cleaned number\n",
    "\n",
    "----------------------------------------------------------------------\n",
    "Sample input:\n",
    "         3,213\n",
    "\n",
    "Sample output:\n",
    "3213\n",
    "\n",
    "----------------------------------------------------------------------\n",
    "Sample input:\n",
    "4,68,72,352          \n",
    "\n",
    "Sample output:\n",
    "46872352\n",
    "\n",
    "----------------------------------------------------------------------\n",
    "Note: Spaces will be either in the start or at the end."
   ]
  },
  {
   "cell_type": "code",
   "execution_count": 70,
   "metadata": {},
   "outputs": [
    {
     "name": "stdout",
     "output_type": "stream",
     "text": [
      "4,68,72,352\n",
      "46872352\n"
     ]
    }
   ],
   "source": [
    "#input has been take  for you\n",
    "value=input()\n",
    "\n",
    "clean_str=value.replace(',','').strip()\n",
    "print(clean_str)\n",
    "#start writing your code from here"
   ]
  },
  {
   "cell_type": "markdown",
   "metadata": {},
   "source": [
    "## Secret Message\n",
    "Description\n",
    "You write all your passwords in a diary so that you don't forget them. But clearly this is too risky, so you came up with a simple plan, you will simply write it by shifting all the alphabets by a certain step. For eg: if you decide your step to be 3, then 'a' will become 'd', and 'k' will become 'n' and so for all alphabets. The last alphabets will simply circle back to 'a'. In this case, 'y' will become 'b' and so on. Now you just have to remember the step size, can then you can check the password anytime you want. You decided to write code to do this, now that you have learned coding in python. Your code will take in the step size and what is written in the diary and give out the real password.\n",
    "\n",
    "\n",
    "\n",
    "----------------------------------------------------------------------\n",
    "\n",
    "Input:\n",
    "\n",
    "A list of two elements.\n",
    "\n",
    "The first element will be a string consisting of only alphabets which is taken from the diary and the second element will be the step size.\n",
    "\n",
    "\n",
    "\n",
    "Output:\n",
    "\n",
    "A string denoting the password\n",
    "\n",
    "\n",
    "\n",
    "----------------------------------------------------------------------\n",
    "\n",
    "Sample input:\n",
    "\n",
    "['ytKveh', 4]\n",
    "\n",
    "\n",
    "\n",
    "Sample output:\n",
    "\n",
    "upGrad\n",
    "\n",
    "\n",
    "\n",
    "Explanation:\n",
    "\n",
    "The password was 'upGrad'. Upon changing it by step of 4,\n",
    "\n",
    "u became y,\n",
    "\n",
    "p became t,\n",
    "\n",
    "G became K,\n",
    "\n",
    "r became v,\n",
    "\n",
    "a became e,\n",
    "\n",
    "d became h,\n",
    "\n",
    "and thus what was written in the diary was ytKveh \n",
    "\n",
    "\n",
    "\n",
    "----------------------------------------------------------------------\n",
    "\n",
    "Sample input:\n",
    "\n",
    "['banana', 7]\n",
    "\n",
    "\n",
    "\n",
    "Sample output:\n",
    "\n",
    "utgtgt"
   ]
  },
  {
   "cell_type": "code",
   "execution_count": 94,
   "metadata": {},
   "outputs": [
    {
     "name": "stdout",
     "output_type": "stream",
     "text": [
      "['banana', 7]\n"
     ]
    },
    {
     "data": {
      "text/plain": [
       "'utgtgt'"
      ]
     },
     "execution_count": 94,
     "metadata": {},
     "output_type": "execute_result"
    }
   ],
   "source": [
    "import ast\n",
    "input_val = ast.literal_eval(input())\n",
    "\n",
    "input_str=input_val[0]\n",
    "step=input_val[1]\n",
    "\n",
    "\n",
    "alpha ='abcdefghijklmnopqrstuvwxyz'\n",
    "output=''\n",
    "\n",
    "for i in input_str:\n",
    "    index = alpha.index(i.lower())\n",
    "    new_index=index-step\n",
    "    \n",
    "#     if(new_index<0):\n",
    "#         new_index=(index+increment)-26\n",
    "    \n",
    "    val = alpha[new_index]\n",
    "    if(i.isupper()):\n",
    "        val=val.upper()\n",
    "    \n",
    "    output+=val\n",
    "    \n",
    "print(output    \n"
   ]
  },
  {
   "cell_type": "markdown",
   "metadata": {},
   "source": [
    "## A weird sum\n",
    "Description\n",
    "Write a program that computes the value of n+nn+nnn+nnnn+... nn...n ntimes with a given number as the value of n.\n",
    "\n",
    "\n",
    "\n",
    "For example, if n=3 , then you have to find the value of 3+33+333\n",
    "\n",
    "if n=10, then you have to find the value of 10 + 1010 + 101010 + 10101010 + 1010101010 + 101010101010 + 10101010101010 + 1010101010101010 +101010101010101010+ 10101010101010101010\n",
    "\n",
    "\n",
    "\n",
    "\n",
    "\n",
    "Note: n will always be a positive number"
   ]
  },
  {
   "cell_type": "code",
   "execution_count": 101,
   "metadata": {},
   "outputs": [
    {
     "name": "stdout",
     "output_type": "stream",
     "text": [
      "3\n",
      "369\n"
     ]
    }
   ],
   "source": [
    "import ast\n",
    "n = ast.literal_eval(input())\n",
    "\n",
    "total=''\n",
    "concater=[]\n",
    "for i in range(1,n+1):\n",
    "    concater.append(int(str(n)*i))\n",
    "print(sum(concater))"
   ]
  },
  {
   "cell_type": "markdown",
   "metadata": {},
   "source": [
    "# Other data sctructures"
   ]
  },
  {
   "cell_type": "code",
   "execution_count": 119,
   "metadata": {},
   "outputs": [],
   "source": [
    "A={1,2,3}\n",
    "B={3,4,3}\n",
    "C={5,6,3}"
   ]
  },
  {
   "cell_type": "code",
   "execution_count": 123,
   "metadata": {},
   "outputs": [
    {
     "ename": "TypeError",
     "evalue": "descriptor 'intersection' for 'set' objects doesn't apply to a 'list' object",
     "output_type": "error",
     "traceback": [
      "\u001b[1;31m---------------------------------------------------------------------------\u001b[0m",
      "\u001b[1;31mTypeError\u001b[0m                                 Traceback (most recent call last)",
      "\u001b[1;32m<ipython-input-123-f8ec6e5b4316>\u001b[0m in \u001b[0;36m<module>\u001b[1;34m\u001b[0m\n\u001b[1;32m----> 1\u001b[1;33m \u001b[0mset\u001b[0m\u001b[1;33m.\u001b[0m\u001b[0mintersection\u001b[0m\u001b[1;33m(\u001b[0m\u001b[1;33m[\u001b[0m\u001b[0mA\u001b[0m\u001b[1;33m,\u001b[0m \u001b[0mB\u001b[0m\u001b[1;33m,\u001b[0m \u001b[0mC\u001b[0m\u001b[1;33m]\u001b[0m\u001b[1;33m)\u001b[0m\u001b[1;33m\u001b[0m\u001b[1;33m\u001b[0m\u001b[0m\n\u001b[0m",
      "\u001b[1;31mTypeError\u001b[0m: descriptor 'intersection' for 'set' objects doesn't apply to a 'list' object"
     ]
    }
   ],
   "source": [
    "set.intersection([A, B, C])"
   ]
  },
  {
   "cell_type": "code",
   "execution_count": 126,
   "metadata": {},
   "outputs": [
    {
     "ename": "TypeError",
     "evalue": "unhashable type: 'list'",
     "output_type": "error",
     "traceback": [
      "\u001b[1;31m---------------------------------------------------------------------------\u001b[0m",
      "\u001b[1;31mTypeError\u001b[0m                                 Traceback (most recent call last)",
      "\u001b[1;32m<ipython-input-126-cbffaab888b4>\u001b[0m in \u001b[0;36m<module>\u001b[1;34m\u001b[0m\n\u001b[1;32m----> 1\u001b[1;33m \u001b[0mC\u001b[0m\u001b[1;33m=\u001b[0m\u001b[1;33m{\u001b[0m\u001b[1;36m5\u001b[0m\u001b[1;33m,\u001b[0m\u001b[1;36m6\u001b[0m\u001b[1;33m,\u001b[0m\u001b[1;36m3\u001b[0m\u001b[1;33m,\u001b[0m\u001b[1;34m'a'\u001b[0m\u001b[1;33m,\u001b[0m\u001b[1;33m[\u001b[0m\u001b[1;36m1\u001b[0m\u001b[1;33m,\u001b[0m\u001b[1;36m2\u001b[0m\u001b[1;33m,\u001b[0m\u001b[1;36m3\u001b[0m\u001b[1;33m]\u001b[0m\u001b[1;33m}\u001b[0m\u001b[1;33m\u001b[0m\u001b[1;33m\u001b[0m\u001b[0m\n\u001b[0m",
      "\u001b[1;31mTypeError\u001b[0m: unhashable type: 'list'"
     ]
    }
   ],
   "source": [
    "C={5,6,3,'a',[1,2,3]}## set can have immputable types only"
   ]
  },
  {
   "cell_type": "code",
   "execution_count": 127,
   "metadata": {},
   "outputs": [
    {
     "data": {
      "text/plain": [
       "dict"
      ]
     },
     "execution_count": 127,
     "metadata": {},
     "output_type": "execute_result"
    }
   ],
   "source": [
    "d = {}\n",
    "type(d)"
   ]
  },
  {
   "cell_type": "code",
   "execution_count": 128,
   "metadata": {},
   "outputs": [],
   "source": [
    "d={'a':1, 'b':2}"
   ]
  },
  {
   "cell_type": "code",
   "execution_count": 129,
   "metadata": {},
   "outputs": [],
   "source": [
    "d = {}"
   ]
  },
  {
   "cell_type": "code",
   "execution_count": 130,
   "metadata": {},
   "outputs": [
    {
     "ename": "SyntaxError",
     "evalue": "invalid syntax (<ipython-input-130-3fdb59c6a60a>, line 1)",
     "output_type": "error",
     "traceback": [
      "\u001b[1;36m  File \u001b[1;32m\"<ipython-input-130-3fdb59c6a60a>\"\u001b[1;36m, line \u001b[1;32m1\u001b[0m\n\u001b[1;33m    d={'a'=1, 'b'=2}\u001b[0m\n\u001b[1;37m          ^\u001b[0m\n\u001b[1;31mSyntaxError\u001b[0m\u001b[1;31m:\u001b[0m invalid syntax\n"
     ]
    }
   ],
   "source": [
    "d={'a'=1, 'b'=2}"
   ]
  },
  {
   "cell_type": "code",
   "execution_count": 131,
   "metadata": {},
   "outputs": [],
   "source": [
    "d=dict(a=1, b=2)"
   ]
  },
  {
   "cell_type": "code",
   "execution_count": 132,
   "metadata": {},
   "outputs": [
    {
     "ename": "SyntaxError",
     "evalue": "invalid syntax (<ipython-input-132-bcf3992fbacf>, line 1)",
     "output_type": "error",
     "traceback": [
      "\u001b[1;36m  File \u001b[1;32m\"<ipython-input-132-bcf3992fbacf>\"\u001b[1;36m, line \u001b[1;32m1\u001b[0m\n\u001b[1;33m    d = ('a':1, 'b':2)\u001b[0m\n\u001b[1;37m            ^\u001b[0m\n\u001b[1;31mSyntaxError\u001b[0m\u001b[1;31m:\u001b[0m invalid syntax\n"
     ]
    }
   ],
   "source": [
    "d = ('a':1, 'b':2)"
   ]
  },
  {
   "cell_type": "code",
   "execution_count": 133,
   "metadata": {},
   "outputs": [
    {
     "ename": "KeyError",
     "evalue": "'e'",
     "output_type": "error",
     "traceback": [
      "\u001b[1;31m---------------------------------------------------------------------------\u001b[0m",
      "\u001b[1;31mKeyError\u001b[0m                                  Traceback (most recent call last)",
      "\u001b[1;32m<ipython-input-133-0256b7aecbd4>\u001b[0m in \u001b[0;36m<module>\u001b[1;34m\u001b[0m\n\u001b[0;32m      1\u001b[0m \u001b[0md\u001b[0m\u001b[1;33m=\u001b[0m\u001b[1;33m{\u001b[0m\u001b[1;34m'a'\u001b[0m\u001b[1;33m:\u001b[0m\u001b[1;36m64\u001b[0m\u001b[1;33m,\u001b[0m \u001b[1;34m'b'\u001b[0m\u001b[1;33m:\u001b[0m\u001b[1;36m65\u001b[0m\u001b[1;33m,\u001b[0m \u001b[1;34m'c'\u001b[0m\u001b[1;33m:\u001b[0m\u001b[1;36m66\u001b[0m\u001b[1;33m,\u001b[0m \u001b[1;34m'd'\u001b[0m\u001b[1;33m:\u001b[0m\u001b[1;36m67\u001b[0m\u001b[1;33m}\u001b[0m\u001b[1;33m\u001b[0m\u001b[1;33m\u001b[0m\u001b[0m\n\u001b[1;32m----> 2\u001b[1;33m \u001b[0mprint\u001b[0m\u001b[1;33m(\u001b[0m\u001b[0md\u001b[0m\u001b[1;33m[\u001b[0m\u001b[1;34m'e'\u001b[0m\u001b[1;33m]\u001b[0m\u001b[1;33m)\u001b[0m\u001b[1;33m\u001b[0m\u001b[1;33m\u001b[0m\u001b[0m\n\u001b[0m",
      "\u001b[1;31mKeyError\u001b[0m: 'e'"
     ]
    }
   ],
   "source": [
    "d={'a':64, 'b':65, 'c':66, 'd':67}\n",
    "print(d['e'])"
   ]
  },
  {
   "cell_type": "code",
   "execution_count": 134,
   "metadata": {},
   "outputs": [
    {
     "name": "stdout",
     "output_type": "stream",
     "text": [
      "dict_keys(['a', 'b', 'c', 'd'])\n"
     ]
    }
   ],
   "source": [
    "d={'a':64, 'b':65, 'c':66, 'd':67}\n",
    "print(d.keys())"
   ]
  },
  {
   "cell_type": "code",
   "execution_count": 135,
   "metadata": {},
   "outputs": [
    {
     "data": {
      "text/plain": [
       "dict_values([64, 65, 66, 67])"
      ]
     },
     "execution_count": 135,
     "metadata": {},
     "output_type": "execute_result"
    }
   ],
   "source": [
    "d.values()"
   ]
  },
  {
   "cell_type": "code",
   "execution_count": 137,
   "metadata": {},
   "outputs": [],
   "source": [
    "dict_1 = {\"Python\":40, \"R\":45}"
   ]
  },
  {
   "cell_type": "code",
   "execution_count": 140,
   "metadata": {},
   "outputs": [],
   "source": [
    "del dict_1['R']"
   ]
  },
  {
   "cell_type": "markdown",
   "metadata": {},
   "source": [
    "## Remove Duplicates\n",
    "Description\n",
    "Sometimes the data has few duplicate values which will affect the analysis done. In this problem, you will be given a list. You have to find and delete the duplicates and print the updated list with no duplicates.\n",
    "\n",
    "----------------------------------------------------------------------\n",
    "Input:\n",
    "A list of integers.\n",
    "\n",
    "Output:\n",
    "A list of integers, with duplicates removed if any.\n",
    "\n",
    "----------------------------------------------------------------------\n",
    "Sample input:\n",
    "[8, 9, 2, 2, 3, 4, 5, 2]\n",
    "\n",
    "Sample output:\n",
    "[8, 9, 2, 3, 4, 5]\n",
    "\n",
    "----------------------------------------------------------------------\n",
    "Sample input:\n",
    "[4, 4, 4, 4]\n",
    "\n",
    "Sample output:\n",
    "[4]\n",
    "\n",
    "----------------------------------------------------------------------\n",
    "Note the order of the data did not change in input and output."
   ]
  },
  {
   "cell_type": "code",
   "execution_count": 141,
   "metadata": {},
   "outputs": [
    {
     "name": "stdout",
     "output_type": "stream",
     "text": [
      "[8, 9, 2, 2, 3, 4, 5, 2]\n",
      "[2, 3, 4, 5, 8, 9]\n"
     ]
    }
   ],
   "source": [
    "import ast\n",
    "input_list=ast.literal_eval(input())\n",
    "\n",
    "print(list(set(input_list)))"
   ]
  },
  {
   "cell_type": "markdown",
   "metadata": {},
   "source": [
    "## Dictionary And List\n",
    "Description\n",
    "You will be converting a dictionary, of string(keys) and list of string (values),  to a list of strings. Please check the sample input/output for clarification.\n",
    "\n",
    "\n",
    "Input:\n",
    "A dictionary with keys as strings and values as a list of strings.\n",
    "\n",
    "Output:\n",
    "A list of strings\n",
    "\n",
    "\n",
    "Sample input:\n",
    "{‘Mobile’: [‘Redmi’, ‘Samsung’, ‘Realme’], \n",
    "‘Laptop’: [‘Dell’, ‘HP’],\n",
    "‘TV’: [‘Videocon’, ‘Sony’] }\n",
    "\n",
    "Sample output:\n",
    "[‘Mobile_Redmi’, ‘Mobile_Samsung’, ‘Mobile_Realme’, ‘Laptop_Dell’, ‘Laptop_HP’, ‘TV_Videocon’, ‘TV_Sony’]\n",
    "\n",
    "\n",
    "Sample input:\n",
    "{ 'Pen': ['Gel', 'Ink', 'ball'],\n",
    "'Mobile': ['Android', 'apple'] }\n",
    "\n",
    "Sample output:\n",
    "['Pen_Gel', 'Pen_Ink', 'Pen_ball', 'Mobile_Android', 'Mobile_apple']"
   ]
  },
  {
   "cell_type": "code",
   "execution_count": 147,
   "metadata": {},
   "outputs": [
    {
     "name": "stdout",
     "output_type": "stream",
     "text": [
      "{'Mobile': ['Redmi', 'Samsung', 'Realme'], 'Laptop': ['Dell', 'HP'], 'TV': ['Videocon', 'Sony'] }\n",
      "['Mobile_Redmi', 'Mobile_Samsung', 'Mobile_Realme', 'Laptop_Dell', 'Laptop_HP', 'TV_Videocon', 'TV_Sony']\n"
     ]
    }
   ],
   "source": [
    "#input has been taken for you\n",
    "import ast\n",
    "input_str = input()\n",
    "#input dictionary has been received in input_dict\n",
    "input_dict = ast.literal_eval(input_str)\n",
    "\n",
    "output=[]\n",
    "#start writing your code here\n",
    "for k,v in input_dict.items():\n",
    "    for i in v:\n",
    "        output.append(k+'_'+i)\n",
    "print(output)"
   ]
  },
  {
   "cell_type": "markdown",
   "metadata": {},
   "source": [
    "## upGrad String\n",
    "Description\n",
    "For the purpose of this question, we will define something called an upGrad string. Note that this definition is not valid outside this question. A string upGrad string if the frequency of its characters is something like 1, 2, 3, 4, .... That is a character appears only once, another appears twice, another appears thrice and so on. For example string '$yrr$ssrsr' is a beautiful string since the frequency of y:1, $:2, s:3, r:4, however string '$yrr$ssrsr%' will not be beautiful since it has two characters (y and %) with frequency 1. The frequency of characters should be of form 1, 2, 3, 4, 5... only.\n",
    "Given a string, can you determine if the string is upGrad string or no?\n",
    "\n",
    "\n",
    "Input:\n",
    "A string\n",
    "\n",
    "Output:\n",
    "Boolean depending whether the string is upGrad string or not\n",
    "\n",
    "\n",
    "Sample input:\n",
    "$yrr$ssrsr\n",
    "\n",
    "Sample output:\n",
    "True\n",
    "\n",
    "\n",
    "Sample input:\n",
    "$yrr$ssrsr%\n",
    "\n",
    "Sample output:\n",
    "False\n",
    "\n",
    "Sample input:\n",
    "ab#ab#aba\n",
    "\n",
    "Sample output:\n",
    "False\n",
    "\n",
    "Sample input:\n",
    "ab#ab#ab6a\n",
    "\n",
    "Sample output:\n",
    "True"
   ]
  },
  {
   "cell_type": "code",
   "execution_count": 158,
   "metadata": {},
   "outputs": [
    {
     "name": "stdout",
     "output_type": "stream",
     "text": [
      "ab#ab#aba\n",
      "False {'b': 3, '#': 2, 'a': 4}\n"
     ]
    }
   ],
   "source": [
    "#input has been taken for you\n",
    "s=input()\n",
    "set_s=set(s)\n",
    "\n",
    "dict_s={}\n",
    "upgradStr=False\n",
    "\n",
    "for i in set_s:\n",
    "    dict_s[i]=0\n",
    "\n",
    "for i in s:\n",
    "    dict_s[i]+=1\n",
    "    \n",
    "for i in range(1,len(dict_s)+1):\n",
    "    if i not in dict_s.values():\n",
    "        upgradStr=False\n",
    "        break\n",
    "    else:\n",
    "        upgradStr=True\n",
    "    \n",
    "print(upgradStr,dict_s)\n",
    "#start writing your code to check if s is upgrad string or no"
   ]
  },
  {
   "cell_type": "markdown",
   "metadata": {},
   "source": [
    "## Balanced Brackets\n",
    "Description\n",
    "You will be given a string with a lot of brackets. You have to print if the brackets are balanced or not. Remember, there are three types of brackets: ‘( )’,  ‘{ }’ and ‘[ ]’.\n",
    "\n",
    "----------------------------------------------------------------------\n",
    "Input:\n",
    "A string\n",
    "\n",
    "Output:\n",
    "Yes, if the brackets are balanced.\n",
    "No otherwise.\n",
    "\n",
    "----------------------------------------------------------------------\n",
    "Sample input:\n",
    "){[[]]}())()\n"
   ]
  },
  {
   "cell_type": "code",
   "execution_count": 182,
   "metadata": {},
   "outputs": [
    {
     "name": "stdout",
     "output_type": "stream",
     "text": [
      "{[]()(){}}\n",
      "0\n",
      "Yes\n"
     ]
    }
   ],
   "source": [
    "inp=input()\n",
    "\n",
    "b_stack=[]\n",
    "print(len(b_stack))\n",
    "for s in inp:\n",
    "    \n",
    "    if len(b_stack)>0 and ((s ==']' and b_stack[len(b_stack)-1]=='[') or (s ==')' and b_stack[len(b_stack)-1]=='(') or (s =='}' and b_stack[len(b_stack)-1]=='{')):\n",
    "        a = b_stack.pop()         \n",
    "    else:\n",
    "        b_stack.append(s)\n",
    "        \n",
    "\n",
    "if len(b_stack)>0:\n",
    "    print('No')\n",
    "else:\n",
    "    print('Yes')\n",
    "        "
   ]
  },
  {
   "cell_type": "markdown",
   "metadata": {},
   "source": [
    "## Cheapest Item\n",
    "Description\n",
    "You will be given a dictionary with keys as items and values as their prices. You have to print the cheapest item. \n",
    "\n",
    "----------------------------------------------------------------------\n",
    "Sample input:\n",
    "A single line non-empty dictionary\n",
    "\n",
    "Sample output:\n",
    "cheapest_item name: cheapest_item_cost\n",
    "\n",
    "----------------------------------------------------------------------\n",
    "Sample input:\n",
    "{'mobile1':10000, 'mobile2':11000, 'mobile3':13000, 'mobile4':9000, 'mobile5':15000, 'mobile6':16000, 'mobile7':17000, 'mobile8':18000, 'mobile9':19000}\n",
    "\n",
    "Sample output:\n",
    "mobile4: 9000"
   ]
  },
  {
   "cell_type": "code",
   "execution_count": 194,
   "metadata": {},
   "outputs": [
    {
     "name": "stdout",
     "output_type": "stream",
     "text": [
      "{'mobile1':10000, 'mobile2':11000, 'mobile3':13000, 'mobile4':9000, 'mobile5':15000, 'mobile6':16000, 'mobile7':17000, 'mobile8':18000, 'mobile9':19000}\n"
     ]
    },
    {
     "data": {
      "text/plain": [
       "'mobile4'"
      ]
     },
     "execution_count": 194,
     "metadata": {},
     "output_type": "execute_result"
    }
   ],
   "source": [
    "import ast\n",
    "inp = ast.literal_eval(input())\n",
    "\n",
    "list(inp.keys())[list(inp.values()).index(min(inp.values()))]\n",
    "#\n",
    "#print(inp[inp.keys().index()])"
   ]
  },
  {
   "cell_type": "markdown",
   "metadata": {},
   "source": [
    "## Maximum Distance\n",
    "Description\n",
    "You will be given a list of repeated elements. You have to find the maximum distance between two same elements. The answer will be zero if there are no repeated elements.\n",
    "\n",
    "----------------------------------------------------------------------\n",
    "Input:\n",
    "A non-empty list of integers.\n",
    "\n",
    "Output:\n",
    "A single integer denoting the maximum distance between two same integers.\n",
    "\n",
    "----------------------------------------------------------------------\n",
    "Sample input:\n",
    "[1, 2, 3, 2, 5, 1, 2, 4, 6, 2, 7, 8, 6]\n",
    "\n",
    "Sample output:\n",
    "8\n",
    "\n",
    "Explanation:\n",
    "Max distance for 1: 5\n",
    "Max distance for 2: 8\n",
    "Max distance for 3: 0\n",
    "Max distance for 4: 0\n",
    "Max distance for 5: 0\n",
    "Max distance for 6: 4\n",
    "Max distance for 7: 0\n",
    "Max distance for 8: 0"
   ]
  },
  {
   "cell_type": "code",
   "execution_count": 199,
   "metadata": {},
   "outputs": [
    {
     "data": {
      "text/plain": [
       "[3, 2, 5, 1, 2, 4, 6, 2, 7, 8, 6]"
      ]
     },
     "execution_count": 199,
     "metadata": {},
     "output_type": "execute_result"
    }
   ],
   "source": [
    "input_list = [1, 2, 3, 2, 5, 1, 2, 4, 6, 2, 7, 8, 6]\n",
    "input_list[2:]"
   ]
  },
  {
   "cell_type": "code",
   "execution_count": 223,
   "metadata": {},
   "outputs": [
    {
     "name": "stdout",
     "output_type": "stream",
     "text": [
      "[3, 2, 1, 2, 1, 4, 5, 8, 6, 7, 4, 2]\n",
      "10\n"
     ]
    }
   ],
   "source": [
    "import ast\n",
    "input_list = ast.literal_eval(input())\n",
    "\n",
    "d_disc={}\n",
    "counter=0\n",
    "for i in input_list:    \n",
    "    if i in d_disc.keys():        \n",
    "        d_disc[i]=counter-input_list.index(i)\n",
    "    else:\n",
    "        d_disc[i]=0\n",
    "    counter+=1\n",
    "print(max(d_disc.values()))    "
   ]
  },
  {
   "cell_type": "markdown",
   "metadata": {},
   "source": [
    "## Vote for Food\n",
    "Description\n",
    "Your team is going for camping and you are taking a vote to decide what food to pack for dinner.\n",
    "Everyone gets a vote and the food item that gets at least one more than half of the votes wins. None of the items wins if nothing gets at least one more than half votes. Assume that every person gets only one vote.\n",
    "The input will contain a list of food items where each occurrence of an item represents one vote. You should print the winning food item as output. If there is no clear winner, print \"NOTA\". \n",
    "\n",
    "Sample Input:\n",
    "[\"pasta\",\"pasta\",\"pasta\",\"pasta\",\"pasta\",\"paratha\",\"paratha\",\"paratha\"]\n",
    "Sample Output:\n",
    "pasta\n",
    "\n",
    "This question was asked in a Data Analyst interview."
   ]
  },
  {
   "cell_type": "code",
   "execution_count": 237,
   "metadata": {},
   "outputs": [
    {
     "name": "stdout",
     "output_type": "stream",
     "text": [
      "[\"pasta\",\"pasta\",\"pasta\",\"pasta\",\"pasta\",\"paratha\",\"paratha\",\"paratha\"]\n",
      "{'pasta': 5, 'paratha': 3}\n",
      "pasta\n"
     ]
    }
   ],
   "source": [
    "import ast\n",
    "input_list = ast.literal_eval(input())\n",
    "\n",
    "d_disc={}\n",
    "\n",
    "for i in input_list: \n",
    "    if i in d_disc.keys():\n",
    "        d_disc[i]+=1\n",
    "    else:\n",
    "        d_disc[i]=1\n",
    "print(d_disc)  \n",
    "max_v=max(d_disc.values())\n",
    "\n",
    "output = list(d_disc.keys())[list(d_disc.values()).index(max(d_disc.values()))]\n",
    "margin=1\n",
    "for k,v in d_disc.items():\n",
    "    if v<max_v:\n",
    "        margin = max_v/v\n",
    "        break\n",
    "\n",
    "if(margin>1.5):\n",
    "    print(output)\n",
    "else:\n",
    "    print(\"NOTA\")\n",
    "          \n",
    " "
   ]
  },
  {
   "cell_type": "markdown",
   "metadata": {},
   "source": [
    "## Flatten a dictionary\n",
    "Description\n",
    "Consider a nested dictionary as follows:\n",
    "\n",
    "{'Fruit': 1, 'Vegetable': {'Cabbage': 2, 'Cauliflower': 3}, 'Spices': 4}\n",
    "\n",
    "Your task is to flatten a nested dictionary and join the nested keys with the \"_\" character. For the above dictionary, the flattened dictionary would be as follows:\n",
    "\n",
    "{'Fruit': 1, 'Vegetable_Cabbage': 2, 'Vegetable_Cauliflower': 3, 'Spices': 4}\n",
    "\n",
    "\n",
    "\n",
    "The input will have a nested dictionary.\n",
    "\n",
    "The output should have two lists. The first list will have keys and the second list should have values. Both lists should be sorted.\n",
    "\n",
    "Sample Input:\n",
    "\n",
    "{'Fruit': 1, 'Vegetable': {'Cabbage': 2, 'Cauliflower': 3}, 'Spices': 4}\n",
    "\n",
    "Sample Output:\n",
    "\n",
    "['Fruit', 'Spices', 'Vegetable_Cabbage', 'Vegetable_Cauliflower']\n",
    "[1, 2, 3, 4]\n",
    "\n",
    "\n"
   ]
  },
  {
   "cell_type": "code",
   "execution_count": 252,
   "metadata": {},
   "outputs": [
    {
     "name": "stdout",
     "output_type": "stream",
     "text": [
      "{'Fruit': 1, 'Vegetable': {'Cabbage': 2, 'Cauliflower': 3}, 'Spices': 4}\n",
      "['Fruit', 'Spices', 'Vegetable_Cabbage', 'Vegetable_Cauliflower']\n",
      "[1, 2, 3, 4]\n"
     ]
    }
   ],
   "source": [
    "import ast\n",
    "input_dict = ast.literal_eval(input())\n",
    "\n",
    "#{'Fruit': 1, 'Vegetable': {'Cabbage': 2, 'Cauliflower': 3}, 'Spices': 4}\n",
    "#{'Fruit': 1, 'Vegetable_Cabbage': 2, 'Vegetable_Cauliflower': 3, 'Spices': 4}\n",
    "\n",
    "d_disc={}\n",
    "\n",
    "\n",
    "for k,v in input_dict.items():\n",
    "    \n",
    "    if(isinstance(v,dict)):        \n",
    "        for k1,v1 in v.items():\n",
    "            keys=k+'_'+str(k1)\n",
    "            d_disc[keys]=v1\n",
    "    else:\n",
    "        d_disc[k]=v\n",
    "    \n",
    "l1=list(d_disc.keys())\n",
    "l2=list(d_disc.values())\n",
    "print(sorted(l1))\n",
    "print(sorted(l2))\n"
   ]
  },
  {
   "cell_type": "markdown",
   "metadata": {},
   "source": [
    "## Break the list\n",
    "Description\n",
    "Write a Python program to divide a given list into chunks of size k.\n",
    "\n",
    "The number of elements in the list need not to be divisible by k.\n",
    "For example, if you want to divide the list [1,2,3,4,5,6,7] into chunk size k=4, then the first chunk will be [1,2,3,4] and the second one will have [5,6,7]. i.e. the last chunk need not have k elements.\n",
    "The input will have two lines, the first line would have the list and the second line would have the value of k.(the code for taking input has already been written, you should not change that)\n",
    "The final output should have the list chunks in different lines."
   ]
  },
  {
   "cell_type": "code",
   "execution_count": 257,
   "metadata": {},
   "outputs": [
    {
     "data": {
      "text/plain": [
       "3"
      ]
     },
     "execution_count": 257,
     "metadata": {},
     "output_type": "execute_result"
    }
   ],
   "source": [
    "import math\n",
    "\n",
    "math.ceil(5/2)\n"
   ]
  },
  {
   "cell_type": "code",
   "execution_count": 267,
   "metadata": {},
   "outputs": [
    {
     "name": "stdout",
     "output_type": "stream",
     "text": [
      "[[1,2,3,4,5,6,7,8,9],3]\n",
      "[1, 2, 3]\n",
      "[4, 5, 6]\n",
      "[7, 8, 9]\n"
     ]
    }
   ],
   "source": [
    "import ast\n",
    "import math\n",
    "input_str = input()\n",
    "input_list = ast.literal_eval(input_str)\n",
    "lis=input_list[0]\n",
    "k=input_list[1]\n",
    "\n",
    "skip=0\n",
    "for i in range(math.ceil(len(lis)/k)):   \n",
    "    start=skip\n",
    "    end=k+skip\n",
    "    print(lis[start:end])\n",
    "    skip+=k\n",
    "    \n"
   ]
  },
  {
   "cell_type": "markdown",
   "metadata": {},
   "source": [
    "## Second Maximum Number in a List\n",
    "Description\n",
    "Given a list of numbers, find the second largest number in the list.\n",
    "\n",
    "Note: There might be repeated numbers in the list. If there is only one number present in the list, return 'not present'.\n",
    "\n",
    "Examples:\n",
    "Input 1:\n",
    "[7, 2, 0, 9, -1, 8]\n",
    "Output 1:\n",
    "8\n",
    "\n",
    "Input 2:\n",
    "[3, 1, 4, 4, 5, 5, 5, 0, 2, 2]\n",
    "Output 2:\n",
    "4\n",
    "\n",
    "Input 2:\n",
    "[6, 6, 6, 6, 6]\n",
    "Output 2:\n",
    "not present"
   ]
  },
  {
   "cell_type": "code",
   "execution_count": 271,
   "metadata": {},
   "outputs": [
    {
     "name": "stdout",
     "output_type": "stream",
     "text": [
      "[7, 2, 0, 9, -1, 8]\n",
      "[-1, 0, 2, 7, 8, 9]\n",
      "8\n"
     ]
    }
   ],
   "source": [
    "# Read the input list\n",
    "import ast\n",
    "input_str = input()\n",
    "input_list = ast.literal_eval(input_str)\n",
    "\n",
    "set_list=set(input_list)\n",
    "if(len(set_list)<=1):\n",
    "    print('not present')\n",
    "else:\n",
    "    sorted_list=sorted(list(set_list))\n",
    "    print(sorted_list[-2])"
   ]
  },
  {
   "cell_type": "markdown",
   "metadata": {},
   "source": [
    "## Pattern Printing\n",
    "Description\n",
    "Given a positive integer n. Print the pattern as shown in sample outputs.\n",
    "\n",
    "A code has already been provided. You have to understand the logic of the code on your own and try and make changes to the code so that it gives correct output.\n",
    "\n",
    "\n",
    "\n",
    "Input: A positive integer n\n",
    "\n",
    "1<= n <=9\n",
    "\n",
    "\n",
    "\n",
    "Output: Pattern as shown in examples below\n",
    "\n",
    "\n",
    "\n",
    "\n",
    "\n",
    "Sample input:\n",
    "\n",
    "4\n",
    "\n",
    "\n",
    "\n",
    "Sample output:\n",
    "\n",
    "4444444\n",
    "\n",
    "4333334\n",
    "\n",
    "4322234\n",
    "\n",
    "4321234\n",
    "\n",
    "4322234\n",
    "\n",
    "4333334\n",
    "\n",
    "4444444\n",
    "\n",
    "\n",
    "\n",
    "Sample input:\n",
    "\n",
    "5\n",
    "\n",
    "\n",
    "\n",
    "Sample output:\n",
    "\n",
    "555555555\n",
    "\n",
    "544444445\n",
    "\n",
    "543333345\n",
    "\n",
    "543222345\n",
    "\n",
    "543212345\n",
    "\n",
    "543222345\n",
    "\n",
    "543333345\n",
    "\n",
    "544444445\n",
    "\n",
    "555555555\n",
    "\n",
    "\n",
    "\n"
   ]
  },
  {
   "cell_type": "code",
   "execution_count": 279,
   "metadata": {},
   "outputs": [
    {
     "name": "stdout",
     "output_type": "stream",
     "text": [
      "4\n",
      "[4, 4, 4, 4, 4]\n",
      "[4, 4, 3, 3, 3, 3, 4, 4]\n",
      "[4, 4, 3, 3, 2, 2, 2, 2, 3, 3, 4, 4]\n",
      "[4, 4, 3, 3, 2, 2, 1, 1, 1, 1, 2, 2, 3, 3, 4, 4]\n",
      "[4, 3, 2, 1, 1, 1, 2, 3, 4]\n",
      "[4, 4, 3, 3, 2, 2, 1, 1, 1, 1, 2, 2, 3, 3, 4, 4]\n",
      "[4, 4, 3, 3, 2, 2, 2, 2, 3, 3, 4, 4]\n",
      "[4, 4, 3, 3, 3, 3, 4, 4]\n",
      "[4, 4, 4, 4, 4]\n"
     ]
    }
   ],
   "source": [
    "#input n taken here\n",
    "n=int(input())\n",
    "\n",
    "#we will make a list of lists with just [1] in it. We will run a for loop from i= 2 to n and in each iteration\n",
    "#we will add [i]*(2i-3) in top of the list and and in bottom\n",
    "#then add i on both sides of all sub_lists \n",
    "\n",
    "answer=[[1]]\n",
    "for i in range(2, n+1):\n",
    "    t=[i]*((2*i)-3)    \n",
    "    answer.insert(0, t)\n",
    "    answer.append(t)\n",
    "    \n",
    "    for a in answer:\n",
    "        a.insert(0,i)\n",
    "        a.append(i)\n",
    "\n",
    "answerfinal=[]\n",
    "#we join the elements of the string without space\n",
    "for a in answer:\n",
    "    answerfinal.append(\"\".join(str(a)))\n",
    "#print \n",
    "for a in answerfinal:\n",
    "    print(a)"
   ]
  },
  {
   "cell_type": "code",
   "execution_count": 280,
   "metadata": {},
   "outputs": [],
   "source": []
  },
  {
   "cell_type": "code",
   "execution_count": 294,
   "metadata": {},
   "outputs": [
    {
     "name": "stdout",
     "output_type": "stream",
     "text": [
      "5\n",
      "\n",
      "a \n",
      "a b \n",
      "a b c \n",
      "a b c d \n",
      "a b c d e \n",
      "a b c d e f \n",
      "a b c d e \n",
      "a b c d \n",
      "a b c \n",
      "a b \n",
      "a \n"
     ]
    }
   ],
   "source": [
    "n= int(input())\n",
    "\n",
    "alpha ='abcdefghijklmnopqrstuvwxyz'\n",
    "for i in range(0,n+1):\n",
    "    for j in range(0,i):\n",
    "        print(alpha[j],end=' ')\n",
    "    print()\n",
    "for i in range(n+1,0,-1):\n",
    "    for j in range(0,i):\n",
    "        print(alpha[j],end=' ')\n",
    "    print() "
   ]
  },
  {
   "cell_type": "code",
   "execution_count": 292,
   "metadata": {},
   "outputs": [
    {
     "name": "stdout",
     "output_type": "stream",
     "text": [
      "\n",
      "a \n",
      "a b \n",
      "a b c \n",
      "a b c d \n",
      "a b c d e \n",
      "a b c d e f \n",
      "a b c d e \n",
      "a b c d \n",
      "a b c \n",
      "a b \n",
      "a \n"
     ]
    }
   ],
   "source": [
    "n=5\n",
    "\n",
    "   "
   ]
  },
  {
   "cell_type": "code",
   "execution_count": 295,
   "metadata": {},
   "outputs": [
    {
     "ename": "SyntaxError",
     "evalue": "invalid syntax (<ipython-input-295-61c2b13c6289>, line 1)",
     "output_type": "error",
     "traceback": [
      "\u001b[1;36m  File \u001b[1;32m\"<ipython-input-295-61c2b13c6289>\"\u001b[1;36m, line \u001b[1;32m1\u001b[0m\n\u001b[1;33m    Armstrong number\u001b[0m\n\u001b[1;37m              ^\u001b[0m\n\u001b[1;31mSyntaxError\u001b[0m\u001b[1;31m:\u001b[0m invalid syntax\n"
     ]
    }
   ],
   "source": [
    "Armstrong number\n",
    "Description\n",
    "Any number, say n is called an Armstrong number if it is equal to the sum of its digits, where each is raised to the power of number of digits in n.\n",
    "For example:\n",
    "153=13+53+33\n",
    "\n",
    "Write Python code to determine whether an entered three digit number is an Armstrong number or not. \n",
    "Assume that the number entered will strictly be a three digit number.\n",
    "Print \"True\" if it is an Armstrong number and print \"False\" if it is not.\n",
    "Sample Input:\n",
    "153\n",
    "Sample Output:\n",
    "True"
   ]
  },
  {
   "cell_type": "markdown",
   "metadata": {},
   "source": [
    "## Fibonacci Series\n",
    "Description\n",
    "Compute and display Fibonacci series upto n terms where n is a positive integer entered by the user.\n",
    "You can go here to read about Fibonacci series.\n",
    "Sample Input:\n",
    "5\n",
    "Sample Output:\n",
    "0\n",
    "1\n",
    "1\n",
    "2\n",
    "3"
   ]
  },
  {
   "cell_type": "code",
   "execution_count": 300,
   "metadata": {},
   "outputs": [
    {
     "ename": "SyntaxError",
     "evalue": "invalid syntax (<ipython-input-300-552cd65bd4e9>, line 5)",
     "output_type": "error",
     "traceback": [
      "\u001b[1;36m  File \u001b[1;32m\"<ipython-input-300-552cd65bd4e9>\"\u001b[1;36m, line \u001b[1;32m5\u001b[0m\n\u001b[1;33m    def int fibonacci(n):\u001b[0m\n\u001b[1;37m            ^\u001b[0m\n\u001b[1;31mSyntaxError\u001b[0m\u001b[1;31m:\u001b[0m invalid syntax\n"
     ]
    }
   ],
   "source": [
    "n=int(input())\n",
    "\n",
    "# xn = xn−1 + xn−2\n",
    "seq=[]\n",
    "def fibonacci(n):\n",
    "    if(n<=0):\n",
    "        return 0\n",
    "    else:\n",
    "        x = fibonacci(n-1) + fibonacci(n-2)\n",
    "        print(x) \n",
    "fibonacci(n)        "
   ]
  },
  {
   "cell_type": "code",
   "execution_count": 314,
   "metadata": {},
   "outputs": [
    {
     "name": "stdout",
     "output_type": "stream",
     "text": [
      "7\n",
      "0\n",
      "1\n",
      "1\n",
      "2\n",
      "3\n",
      "5\n",
      "8\n"
     ]
    }
   ],
   "source": [
    "n=int(input())\n",
    "x=0\n",
    "y=1\n",
    "xn=0\n",
    "for i in range(n):\n",
    "    if(i<(n)):\n",
    "        print(x)\n",
    "        xn=x+y\n",
    "        x=y\n",
    "        y=xn\n",
    "        \n",
    "        "
   ]
  },
  {
   "cell_type": "markdown",
   "metadata": {},
   "source": [
    "## Sum of Primes\n",
    "Description\n",
    "Write python code to find the sum of prime numbers from 2 to n where n is a positive integer entered by the user.\n",
    "\n",
    "Note: n can be non-prime or prime. You have to find sum of primes till n and not sum of n prime numbers. i.e. for input 10, output should be 17.\n",
    "\n",
    "Hint: You can try using lambda functions and comprehensions to reduce the lines of code you have to write.\n",
    "\n",
    "\n",
    "\n",
    "Input: A positive integer n.\n",
    "\n",
    "Output: A integer denoting the sum of primes less than or equal to n\n",
    "\n",
    "\n",
    "\n",
    "Sample Input:\n",
    "\n",
    "5\n",
    "\n",
    "Sample Output:\n",
    "\n",
    "10"
   ]
  },
  {
   "cell_type": "code",
   "execution_count": 338,
   "metadata": {},
   "outputs": [
    {
     "name": "stdout",
     "output_type": "stream",
     "text": [
      "5\n",
      "10\n"
     ]
    }
   ],
   "source": [
    "n=int(input())\n",
    "prime_list=[]\n",
    "for i in range(2,n+1):\n",
    "    isprime=True\n",
    "    for j in range(2,i):\n",
    "        if(i%j==0):\n",
    "            isprime=False\n",
    "            break\n",
    "    if(isprime):   \n",
    "        prime_list.append(i)\n",
    "\n",
    "print(sum(prime_list))        "
   ]
  },
  {
   "cell_type": "markdown",
   "metadata": {},
   "source": [
    "## Generalised Chocolate\n",
    "Description\n",
    "Earlier you solved the chocolate problem where Sanjay had m rupees and cost of each chocolate was c rupees. Shopkeeper gave away one chocolate for three wrappers. In this problem lets generalise the question saying, Sanjay has m rupees, each chocolate costs c rupees, shopkeeper will give away k chocolates for w wrappers. Can you find now how many chocolates Sanjay will be able to eat?\n",
    "\n",
    "\n",
    "\n",
    "\n",
    "\n",
    "Input: 4 integers separated by commas in order m c w k\n",
    "\n",
    "integers c and w will be >0\n",
    "\n",
    "integers m and k will be >=0\n",
    "\n",
    "integer k will be <w\n",
    "\n",
    "\n",
    "\n",
    "Output: An integer denoting number of chocolates Sanjay will be able to get.\n",
    "\n",
    "\n",
    "\n",
    "\n",
    "\n",
    "Sample input:\n",
    "\n",
    "15, 2, 3, 1\n",
    "\n",
    "\n",
    "\n",
    "Sample output:\n",
    "\n",
    "10\n",
    "\n",
    "\n",
    "\n",
    "Explanation:\n",
    "\n",
    "Sanjay has 15 rupees, buys 7 chocolates for 2 rupees each.\n",
    "\n",
    "Sanjay now has 7 wrappers, exchanges 6 of them for 2 more chocolates.\n",
    "\n",
    "Sanjay now has 3 wrappers and exchanges them for 1 more chocolate making a total of 10 chocolates\n",
    "\n",
    "\n",
    "\n",
    "Sample input:\n",
    "\n",
    "15, 2, 3, 2\n",
    "\n",
    "\n",
    "\n",
    "Sample output:\n",
    "\n",
    "17\n",
    "\n",
    "\n",
    "\n",
    "Explanation:\n",
    "\n",
    "Sanjay has 15 rupees, buys 7 chocolates for 2 rupees each.\n",
    "\n",
    "Sanjay now has 7 wrappers, exchanges 6 of them for 4 more chocolates.\n",
    "\n",
    "Sanjay now has 5 wrappers and exchanges 3 of them for 2 more chocolates.\n",
    "\n",
    "Sanjay now has 4 wrappers and exchanges 3 of them for 2 more chocolates.\n",
    "\n",
    "Sanjay now has 3 wrappers and exchanges them for 2 chocolates making a total of 17 chocolates."
   ]
  },
  {
   "cell_type": "code",
   "execution_count": 355,
   "metadata": {},
   "outputs": [
    {
     "name": "stdout",
     "output_type": "stream",
     "text": [
      "15, 2, 3, 2\n",
      "17\n"
     ]
    }
   ],
   "source": [
    "val =input()\n",
    "m=int(val.split(',')[0])\n",
    "c=int(val.split(',')[1])\n",
    "w=int(val.split(',')[2])\n",
    "k=int(val.split(',')[3])#no of chocolates for w wrappers\n",
    "\n",
    "\n",
    "#total_purchase=0\n",
    "\n",
    "def calculate_bonus():\n",
    "    \n",
    "    total_purchase = m//c\n",
    "    total_new_chocolates=total_purchase\n",
    "    \n",
    "    while(True):\n",
    "        \n",
    "        new_chocolates=(total_new_chocolates//w)*k\n",
    "        balance_wrapper= total_new_chocolates%w\n",
    "        total_new_chocolates=new_chocolates+balance_wrapper\n",
    "        #print('balance_wrapper = ',balance_wrapper,' new_chocolates = ',new_chocolates,'total_new_chocolates=',total_new_chocolates)\n",
    "        total_purchase+=new_chocolates\n",
    "        #print('total_purchase==',total_purchase)\n",
    "        \n",
    "        if(total_new_chocolates//w<1):\n",
    "            break\n",
    "\n",
    "    print(total_purchase)\n",
    "\n",
    "calculate_bonus()"
   ]
  },
  {
   "cell_type": "code",
   "execution_count": 344,
   "metadata": {},
   "outputs": [
    {
     "name": "stdout",
     "output_type": "stream",
     "text": [
      "15, 2, 3, 2\n",
      "total_purchase =  7\n",
      "bonus =  4\n",
      "balance_wrapper =  1\n",
      "total_purchase =  11\n",
      "11\n"
     ]
    }
   ],
   "source": [
    "val =input()\n",
    "m=int(val.split(',')[0])\n",
    "c=int(val.split(',')[1])\n",
    "w=int(val.split(',')[2])\n",
    "k=int(val.split(',')[3])\n",
    "\n",
    "total_purchase = m//c\n",
    "print('total_purchase = ',total_purchase)\n",
    "bonus = (total_purchase//3)*k\n",
    "print('bonus = ',bonus)\n",
    "balance_wrapper= total_purchase%3    \n",
    "print('balance_wrapper = ',balance_wrapper)\n",
    "total_purchase+=bonus   \n",
    "print('total_purchase = ',total_purchase)\n",
    "\n",
    "if((balance_wrapper+bonus)%3==0):\n",
    "    total_purchase+=k\n",
    "    print('total_purchase = ',total_purchase,'balance_wrapper+bonus=',(balance_wrapper+bonus))\n",
    "print(total_purchase)"
   ]
  },
  {
   "cell_type": "markdown",
   "metadata": {},
   "source": [
    "## Asssignments  - Practice Questions - I\n",
    " "
   ]
  },
  {
   "cell_type": "code",
   "execution_count": 4,
   "metadata": {},
   "outputs": [
    {
     "data": {
      "text/plain": [
       "'pgrd'"
      ]
     },
     "execution_count": 4,
     "metadata": {},
     "output_type": "execute_result"
    }
   ],
   "source": [
    "s='Upgrad'\n",
    "for x in s:\n",
    "    if x.lower() in ('aeiou'):\n",
    "        s=s.replace(x,'')\n",
    "s        "
   ]
  },
  {
   "cell_type": "code",
   "execution_count": 7,
   "metadata": {},
   "outputs": [
    {
     "name": "stdout",
     "output_type": "stream",
     "text": [
      "3 4 5\n",
      "valid\n"
     ]
    }
   ],
   "source": [
    "a,b,c= input().split(' ')\n",
    "if((int(a)+int(b)>int(c)):\n",
    "    print('Valid')\n",
    "else:\n",
    "    print('Invalid')"
   ]
  },
  {
   "cell_type": "code",
   "execution_count": 11,
   "metadata": {},
   "outputs": [
    {
     "name": "stdout",
     "output_type": "stream",
     "text": [
      "3\n",
      "2\n",
      "4\n"
     ]
    }
   ],
   "source": [
    "a = input()\n",
    "print(chr(ord(a)-1))\n",
    "print(chr(ord(a)+1))\n"
   ]
  },
  {
   "cell_type": "code",
   "execution_count": 36,
   "metadata": {},
   "outputs": [
    {
     "name": "stdout",
     "output_type": "stream",
     "text": [
      "1\n",
      "Integer\n"
     ]
    }
   ],
   "source": [
    "import ast\n",
    "a= input()\n",
    "\n",
    "if(a in ('1234567890')):\n",
    "    print('Integer')\n",
    "else:\n",
    "    print('Alphabet')  \n",
    "    "
   ]
  },
  {
   "cell_type": "code",
   "execution_count": 32,
   "metadata": {},
   "outputs": [
    {
     "ename": "NameError",
     "evalue": "name 'python' is not defined",
     "output_type": "error",
     "traceback": [
      "\u001b[1;31m---------------------------------------------------------------------------\u001b[0m",
      "\u001b[1;31mNameError\u001b[0m                                 Traceback (most recent call last)",
      "\u001b[1;32m<ipython-input-32-a4637bbefc43>\u001b[0m in \u001b[0;36m<module>\u001b[1;34m\u001b[0m\n\u001b[1;32m----> 1\u001b[1;33m \u001b[0mpython\u001b[0m \u001b[1;33m-\u001b[0m\u001b[1;33m-\u001b[0m\u001b[0mversion\u001b[0m\u001b[1;33m\u001b[0m\u001b[1;33m\u001b[0m\u001b[0m\n\u001b[0m",
      "\u001b[1;31mNameError\u001b[0m: name 'python' is not defined"
     ]
    }
   ],
   "source": [
    "python --version"
   ]
  },
  {
   "cell_type": "code",
   "execution_count": 37,
   "metadata": {},
   "outputs": [
    {
     "ename": "TypeError",
     "evalue": "'str' object does not support item assignment",
     "output_type": "error",
     "traceback": [
      "\u001b[1;31m---------------------------------------------------------------------------\u001b[0m",
      "\u001b[1;31mTypeError\u001b[0m                                 Traceback (most recent call last)",
      "\u001b[1;32m<ipython-input-37-3f8b3fab2cd4>\u001b[0m in \u001b[0;36m<module>\u001b[1;34m\u001b[0m\n\u001b[0;32m      3\u001b[0m \u001b[1;32mfor\u001b[0m \u001b[0mi\u001b[0m \u001b[1;32min\u001b[0m \u001b[0mrange\u001b[0m\u001b[1;33m(\u001b[0m\u001b[0mlen\u001b[0m\u001b[1;33m(\u001b[0m\u001b[0ms\u001b[0m\u001b[1;33m)\u001b[0m\u001b[1;33m)\u001b[0m\u001b[1;33m:\u001b[0m\u001b[1;33m\u001b[0m\u001b[1;33m\u001b[0m\u001b[0m\n\u001b[0;32m      4\u001b[0m     \u001b[1;32mif\u001b[0m \u001b[0ms\u001b[0m\u001b[1;33m[\u001b[0m\u001b[0mi\u001b[0m\u001b[1;33m]\u001b[0m \u001b[1;32min\u001b[0m \u001b[1;34m'a'\u001b[0m\u001b[1;33m:\u001b[0m\u001b[1;33m\u001b[0m\u001b[1;33m\u001b[0m\u001b[0m\n\u001b[1;32m----> 5\u001b[1;33m         \u001b[0ms\u001b[0m\u001b[1;33m[\u001b[0m\u001b[0mi\u001b[0m\u001b[1;33m]\u001b[0m\u001b[1;33m=\u001b[0m\u001b[1;34m'*'\u001b[0m\u001b[1;33m\u001b[0m\u001b[1;33m\u001b[0m\u001b[0m\n\u001b[0m\u001b[0;32m      6\u001b[0m \u001b[1;33m\u001b[0m\u001b[0m\n\u001b[0;32m      7\u001b[0m \u001b[0mprint\u001b[0m\u001b[1;33m(\u001b[0m\u001b[0ms\u001b[0m\u001b[1;33m)\u001b[0m\u001b[1;33m\u001b[0m\u001b[1;33m\u001b[0m\u001b[0m\n",
      "\u001b[1;31mTypeError\u001b[0m: 'str' object does not support item assignment"
     ]
    }
   ],
   "source": [
    "\n",
    "s=\"Upgrad\"\n",
    "\n",
    "for i in range(len(s)):\n",
    "    if s[i] in 'a':\n",
    "        s[i]='*'\n",
    "\n",
    "print(s)"
   ]
  },
  {
   "cell_type": "code",
   "execution_count": 38,
   "metadata": {},
   "outputs": [
    {
     "name": "stdout",
     "output_type": "stream",
     "text": [
      "5\n",
      "5 * 1 = 5\n",
      "5 * 2 = 10\n",
      "5 * 3 = 15\n",
      "5 * 4 = 20\n",
      "5 * 5 = 25\n",
      "5 * 6 = 30\n",
      "5 * 7 = 35\n",
      "5 * 8 = 40\n",
      "5 * 9 = 45\n",
      "5 * 10 = 50\n"
     ]
    }
   ],
   "source": [
    "a = int(input())\n",
    "\n",
    "for i in range(1,11):\n",
    "    print(f'{a} * {i} = {a*i}')"
   ]
  },
  {
   "cell_type": "code",
   "execution_count": 39,
   "metadata": {},
   "outputs": [
    {
     "name": "stdout",
     "output_type": "stream",
     "text": [
      "kunal\n",
      "u\n",
      "1\n"
     ]
    }
   ],
   "source": [
    "a = input()\n",
    "c = input()\n",
    "\n",
    "x=0\n",
    "for i in a:\n",
    "    if(c==i):\n",
    "        x+=1\n",
    "print(x)        "
   ]
  },
  {
   "cell_type": "code",
   "execution_count": 40,
   "metadata": {},
   "outputs": [
    {
     "name": "stdout",
     "output_type": "stream",
     "text": [
      "983\n",
      "20\n"
     ]
    }
   ],
   "source": [
    "a = input()\n",
    "\n",
    "x=0\n",
    "for i in a:\n",
    "    x+=int(i)\n",
    "print(x) "
   ]
  },
  {
   "cell_type": "code",
   "execution_count": 41,
   "metadata": {},
   "outputs": [
    {
     "name": "stdout",
     "output_type": "stream",
     "text": [
      "1030\n",
      "Number of odd digits: 2\n",
      "Number of non-zero even digits: 0\n",
      "Number of zeros: 2\n"
     ]
    }
   ],
   "source": [
    "a = input()\n",
    "\n",
    "zero=0\n",
    "odd =0\n",
    "non_zero_even=0\n",
    "for i in a:\n",
    "    if(i=='0'):\n",
    "        zero+=1\n",
    "    elif(int(i)%2==0):\n",
    "        non_zero_even+=1\n",
    "    else:\n",
    "        odd+=1\n",
    "print(f'Number of odd digits: {odd}')\n",
    "print(f'Number of non-zero even digits: {non_zero_even}')\n",
    "print(f'Number of zeros: {zero}')"
   ]
  },
  {
   "cell_type": "code",
   "execution_count": 53,
   "metadata": {},
   "outputs": [
    {
     "name": "stdout",
     "output_type": "stream",
     "text": [
      "pROGRAMMING%%%\n",
      "Programming\n"
     ]
    }
   ],
   "source": [
    "a = input()\n",
    "\n",
    "x=''\n",
    "for i in a:\n",
    "    if i not in ('1234567890-=#$%^'):             \n",
    "        if(i.isupper()):\n",
    "                 x+=i.lower()\n",
    "        elif(i.islower()):\n",
    "                 x+=i.upper()      \n",
    "print(x) "
   ]
  },
  {
   "cell_type": "code",
   "execution_count": 49,
   "metadata": {},
   "outputs": [
    {
     "data": {
      "text/plain": [
       "False"
      ]
     },
     "execution_count": 49,
     "metadata": {},
     "output_type": "execute_result"
    }
   ],
   "source": [
    "'a'.isupper()"
   ]
  },
  {
   "cell_type": "code",
   "execution_count": null,
   "metadata": {},
   "outputs": [],
   "source": []
  }
 ],
 "metadata": {
  "kernelspec": {
   "display_name": "Python 3",
   "language": "python",
   "name": "python3"
  },
  "language_info": {
   "codemirror_mode": {
    "name": "ipython",
    "version": 3
   },
   "file_extension": ".py",
   "mimetype": "text/x-python",
   "name": "python",
   "nbconvert_exporter": "python",
   "pygments_lexer": "ipython3",
   "version": "3.8.5"
  }
 },
 "nbformat": 4,
 "nbformat_minor": 4
}
